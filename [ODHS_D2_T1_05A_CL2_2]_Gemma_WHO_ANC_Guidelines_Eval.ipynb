{
  "nbformat": 4,
  "nbformat_minor": 0,
  "metadata": {
    "colab": {
      "provenance": [],
      "gpuType": "T4",
      "authorship_tag": "ABX9TyMmM6loSJkF8VSSN8AEiAIF",
      "include_colab_link": true
    },
    "kernelspec": {
      "name": "python3",
      "display_name": "Python 3"
    },
    "language_info": {
      "name": "python"
    },
    "accelerator": "GPU",
    "widgets": {
      "application/vnd.jupyter.widget-state+json": {
        "3043441121494a60ac0f6e36a0309307": {
          "model_module": "@jupyter-widgets/controls",
          "model_name": "HBoxModel",
          "model_module_version": "1.5.0",
          "state": {
            "_dom_classes": [],
            "_model_module": "@jupyter-widgets/controls",
            "_model_module_version": "1.5.0",
            "_model_name": "HBoxModel",
            "_view_count": null,
            "_view_module": "@jupyter-widgets/controls",
            "_view_module_version": "1.5.0",
            "_view_name": "HBoxView",
            "box_style": "",
            "children": [
              "IPY_MODEL_13ca613f97f24308b0a38fbdc907b27c",
              "IPY_MODEL_0ad88e1a6d374815a54a72f79e2b082d",
              "IPY_MODEL_31b6c0fd59124592b57228e9f529da0c"
            ],
            "layout": "IPY_MODEL_f42b1185dff74b5eb53ac2f164810a12"
          }
        },
        "13ca613f97f24308b0a38fbdc907b27c": {
          "model_module": "@jupyter-widgets/controls",
          "model_name": "HTMLModel",
          "model_module_version": "1.5.0",
          "state": {
            "_dom_classes": [],
            "_model_module": "@jupyter-widgets/controls",
            "_model_module_version": "1.5.0",
            "_model_name": "HTMLModel",
            "_view_count": null,
            "_view_module": "@jupyter-widgets/controls",
            "_view_module_version": "1.5.0",
            "_view_name": "HTMLView",
            "description": "",
            "description_tooltip": null,
            "layout": "IPY_MODEL_e9fac713271946bf99d56359ab89ad8c",
            "placeholder": "​",
            "style": "IPY_MODEL_d5f0c6a007c742e6a21692d027e31696",
            "value": "tokenizer_config.json: 100%"
          }
        },
        "0ad88e1a6d374815a54a72f79e2b082d": {
          "model_module": "@jupyter-widgets/controls",
          "model_name": "FloatProgressModel",
          "model_module_version": "1.5.0",
          "state": {
            "_dom_classes": [],
            "_model_module": "@jupyter-widgets/controls",
            "_model_module_version": "1.5.0",
            "_model_name": "FloatProgressModel",
            "_view_count": null,
            "_view_module": "@jupyter-widgets/controls",
            "_view_module_version": "1.5.0",
            "_view_name": "ProgressView",
            "bar_style": "success",
            "description": "",
            "description_tooltip": null,
            "layout": "IPY_MODEL_191834c99be74d39bf16227cafafdba0",
            "max": 46996,
            "min": 0,
            "orientation": "horizontal",
            "style": "IPY_MODEL_a10786cf4f1a45c0a8e61ee8db66c26c",
            "value": 46996
          }
        },
        "31b6c0fd59124592b57228e9f529da0c": {
          "model_module": "@jupyter-widgets/controls",
          "model_name": "HTMLModel",
          "model_module_version": "1.5.0",
          "state": {
            "_dom_classes": [],
            "_model_module": "@jupyter-widgets/controls",
            "_model_module_version": "1.5.0",
            "_model_name": "HTMLModel",
            "_view_count": null,
            "_view_module": "@jupyter-widgets/controls",
            "_view_module_version": "1.5.0",
            "_view_name": "HTMLView",
            "description": "",
            "description_tooltip": null,
            "layout": "IPY_MODEL_2bbdab2011fd4a63be6595dd20302896",
            "placeholder": "​",
            "style": "IPY_MODEL_0f2e1ad5b6ec433b84c92601bdc59859",
            "value": " 47.0k/47.0k [00:00&lt;00:00, 989kB/s]"
          }
        },
        "f42b1185dff74b5eb53ac2f164810a12": {
          "model_module": "@jupyter-widgets/base",
          "model_name": "LayoutModel",
          "model_module_version": "1.2.0",
          "state": {
            "_model_module": "@jupyter-widgets/base",
            "_model_module_version": "1.2.0",
            "_model_name": "LayoutModel",
            "_view_count": null,
            "_view_module": "@jupyter-widgets/base",
            "_view_module_version": "1.2.0",
            "_view_name": "LayoutView",
            "align_content": null,
            "align_items": null,
            "align_self": null,
            "border": null,
            "bottom": null,
            "display": null,
            "flex": null,
            "flex_flow": null,
            "grid_area": null,
            "grid_auto_columns": null,
            "grid_auto_flow": null,
            "grid_auto_rows": null,
            "grid_column": null,
            "grid_gap": null,
            "grid_row": null,
            "grid_template_areas": null,
            "grid_template_columns": null,
            "grid_template_rows": null,
            "height": null,
            "justify_content": null,
            "justify_items": null,
            "left": null,
            "margin": null,
            "max_height": null,
            "max_width": null,
            "min_height": null,
            "min_width": null,
            "object_fit": null,
            "object_position": null,
            "order": null,
            "overflow": null,
            "overflow_x": null,
            "overflow_y": null,
            "padding": null,
            "right": null,
            "top": null,
            "visibility": null,
            "width": null
          }
        },
        "e9fac713271946bf99d56359ab89ad8c": {
          "model_module": "@jupyter-widgets/base",
          "model_name": "LayoutModel",
          "model_module_version": "1.2.0",
          "state": {
            "_model_module": "@jupyter-widgets/base",
            "_model_module_version": "1.2.0",
            "_model_name": "LayoutModel",
            "_view_count": null,
            "_view_module": "@jupyter-widgets/base",
            "_view_module_version": "1.2.0",
            "_view_name": "LayoutView",
            "align_content": null,
            "align_items": null,
            "align_self": null,
            "border": null,
            "bottom": null,
            "display": null,
            "flex": null,
            "flex_flow": null,
            "grid_area": null,
            "grid_auto_columns": null,
            "grid_auto_flow": null,
            "grid_auto_rows": null,
            "grid_column": null,
            "grid_gap": null,
            "grid_row": null,
            "grid_template_areas": null,
            "grid_template_columns": null,
            "grid_template_rows": null,
            "height": null,
            "justify_content": null,
            "justify_items": null,
            "left": null,
            "margin": null,
            "max_height": null,
            "max_width": null,
            "min_height": null,
            "min_width": null,
            "object_fit": null,
            "object_position": null,
            "order": null,
            "overflow": null,
            "overflow_x": null,
            "overflow_y": null,
            "padding": null,
            "right": null,
            "top": null,
            "visibility": null,
            "width": null
          }
        },
        "d5f0c6a007c742e6a21692d027e31696": {
          "model_module": "@jupyter-widgets/controls",
          "model_name": "DescriptionStyleModel",
          "model_module_version": "1.5.0",
          "state": {
            "_model_module": "@jupyter-widgets/controls",
            "_model_module_version": "1.5.0",
            "_model_name": "DescriptionStyleModel",
            "_view_count": null,
            "_view_module": "@jupyter-widgets/base",
            "_view_module_version": "1.2.0",
            "_view_name": "StyleView",
            "description_width": ""
          }
        },
        "191834c99be74d39bf16227cafafdba0": {
          "model_module": "@jupyter-widgets/base",
          "model_name": "LayoutModel",
          "model_module_version": "1.2.0",
          "state": {
            "_model_module": "@jupyter-widgets/base",
            "_model_module_version": "1.2.0",
            "_model_name": "LayoutModel",
            "_view_count": null,
            "_view_module": "@jupyter-widgets/base",
            "_view_module_version": "1.2.0",
            "_view_name": "LayoutView",
            "align_content": null,
            "align_items": null,
            "align_self": null,
            "border": null,
            "bottom": null,
            "display": null,
            "flex": null,
            "flex_flow": null,
            "grid_area": null,
            "grid_auto_columns": null,
            "grid_auto_flow": null,
            "grid_auto_rows": null,
            "grid_column": null,
            "grid_gap": null,
            "grid_row": null,
            "grid_template_areas": null,
            "grid_template_columns": null,
            "grid_template_rows": null,
            "height": null,
            "justify_content": null,
            "justify_items": null,
            "left": null,
            "margin": null,
            "max_height": null,
            "max_width": null,
            "min_height": null,
            "min_width": null,
            "object_fit": null,
            "object_position": null,
            "order": null,
            "overflow": null,
            "overflow_x": null,
            "overflow_y": null,
            "padding": null,
            "right": null,
            "top": null,
            "visibility": null,
            "width": null
          }
        },
        "a10786cf4f1a45c0a8e61ee8db66c26c": {
          "model_module": "@jupyter-widgets/controls",
          "model_name": "ProgressStyleModel",
          "model_module_version": "1.5.0",
          "state": {
            "_model_module": "@jupyter-widgets/controls",
            "_model_module_version": "1.5.0",
            "_model_name": "ProgressStyleModel",
            "_view_count": null,
            "_view_module": "@jupyter-widgets/base",
            "_view_module_version": "1.2.0",
            "_view_name": "StyleView",
            "bar_color": null,
            "description_width": ""
          }
        },
        "2bbdab2011fd4a63be6595dd20302896": {
          "model_module": "@jupyter-widgets/base",
          "model_name": "LayoutModel",
          "model_module_version": "1.2.0",
          "state": {
            "_model_module": "@jupyter-widgets/base",
            "_model_module_version": "1.2.0",
            "_model_name": "LayoutModel",
            "_view_count": null,
            "_view_module": "@jupyter-widgets/base",
            "_view_module_version": "1.2.0",
            "_view_name": "LayoutView",
            "align_content": null,
            "align_items": null,
            "align_self": null,
            "border": null,
            "bottom": null,
            "display": null,
            "flex": null,
            "flex_flow": null,
            "grid_area": null,
            "grid_auto_columns": null,
            "grid_auto_flow": null,
            "grid_auto_rows": null,
            "grid_column": null,
            "grid_gap": null,
            "grid_row": null,
            "grid_template_areas": null,
            "grid_template_columns": null,
            "grid_template_rows": null,
            "height": null,
            "justify_content": null,
            "justify_items": null,
            "left": null,
            "margin": null,
            "max_height": null,
            "max_width": null,
            "min_height": null,
            "min_width": null,
            "object_fit": null,
            "object_position": null,
            "order": null,
            "overflow": null,
            "overflow_x": null,
            "overflow_y": null,
            "padding": null,
            "right": null,
            "top": null,
            "visibility": null,
            "width": null
          }
        },
        "0f2e1ad5b6ec433b84c92601bdc59859": {
          "model_module": "@jupyter-widgets/controls",
          "model_name": "DescriptionStyleModel",
          "model_module_version": "1.5.0",
          "state": {
            "_model_module": "@jupyter-widgets/controls",
            "_model_module_version": "1.5.0",
            "_model_name": "DescriptionStyleModel",
            "_view_count": null,
            "_view_module": "@jupyter-widgets/base",
            "_view_module_version": "1.2.0",
            "_view_name": "StyleView",
            "description_width": ""
          }
        },
        "674f2c8e9ef848109a85584d3e271b72": {
          "model_module": "@jupyter-widgets/controls",
          "model_name": "HBoxModel",
          "model_module_version": "1.5.0",
          "state": {
            "_dom_classes": [],
            "_model_module": "@jupyter-widgets/controls",
            "_model_module_version": "1.5.0",
            "_model_name": "HBoxModel",
            "_view_count": null,
            "_view_module": "@jupyter-widgets/controls",
            "_view_module_version": "1.5.0",
            "_view_name": "HBoxView",
            "box_style": "",
            "children": [
              "IPY_MODEL_c4f20168fbda47b3a3fdbc6bea9ddc14",
              "IPY_MODEL_d94bb7d762d54824be408c51b3468d84",
              "IPY_MODEL_e828db74befb490ba7d23933e78e80e6"
            ],
            "layout": "IPY_MODEL_bd120621ed03485db0583d95979107cf"
          }
        },
        "c4f20168fbda47b3a3fdbc6bea9ddc14": {
          "model_module": "@jupyter-widgets/controls",
          "model_name": "HTMLModel",
          "model_module_version": "1.5.0",
          "state": {
            "_dom_classes": [],
            "_model_module": "@jupyter-widgets/controls",
            "_model_module_version": "1.5.0",
            "_model_name": "HTMLModel",
            "_view_count": null,
            "_view_module": "@jupyter-widgets/controls",
            "_view_module_version": "1.5.0",
            "_view_name": "HTMLView",
            "description": "",
            "description_tooltip": null,
            "layout": "IPY_MODEL_82fb9c8572a14fb7b6249d7fd883e68a",
            "placeholder": "​",
            "style": "IPY_MODEL_5563c95f73d14ed3966fa74a30eed4ce",
            "value": "tokenizer.model: 100%"
          }
        },
        "d94bb7d762d54824be408c51b3468d84": {
          "model_module": "@jupyter-widgets/controls",
          "model_name": "FloatProgressModel",
          "model_module_version": "1.5.0",
          "state": {
            "_dom_classes": [],
            "_model_module": "@jupyter-widgets/controls",
            "_model_module_version": "1.5.0",
            "_model_name": "FloatProgressModel",
            "_view_count": null,
            "_view_module": "@jupyter-widgets/controls",
            "_view_module_version": "1.5.0",
            "_view_name": "ProgressView",
            "bar_style": "success",
            "description": "",
            "description_tooltip": null,
            "layout": "IPY_MODEL_db05d425d2e94d979db138ea10f99080",
            "max": 4241003,
            "min": 0,
            "orientation": "horizontal",
            "style": "IPY_MODEL_7d25d20a22bd4673a83338b5d377492a",
            "value": 4241003
          }
        },
        "e828db74befb490ba7d23933e78e80e6": {
          "model_module": "@jupyter-widgets/controls",
          "model_name": "HTMLModel",
          "model_module_version": "1.5.0",
          "state": {
            "_dom_classes": [],
            "_model_module": "@jupyter-widgets/controls",
            "_model_module_version": "1.5.0",
            "_model_name": "HTMLModel",
            "_view_count": null,
            "_view_module": "@jupyter-widgets/controls",
            "_view_module_version": "1.5.0",
            "_view_name": "HTMLView",
            "description": "",
            "description_tooltip": null,
            "layout": "IPY_MODEL_c0fee6619cd441a3bc0291d59b12582c",
            "placeholder": "​",
            "style": "IPY_MODEL_986d9d49838f4ed4bf9d509923e828e8",
            "value": " 4.24M/4.24M [00:00&lt;00:00, 14.5MB/s]"
          }
        },
        "bd120621ed03485db0583d95979107cf": {
          "model_module": "@jupyter-widgets/base",
          "model_name": "LayoutModel",
          "model_module_version": "1.2.0",
          "state": {
            "_model_module": "@jupyter-widgets/base",
            "_model_module_version": "1.2.0",
            "_model_name": "LayoutModel",
            "_view_count": null,
            "_view_module": "@jupyter-widgets/base",
            "_view_module_version": "1.2.0",
            "_view_name": "LayoutView",
            "align_content": null,
            "align_items": null,
            "align_self": null,
            "border": null,
            "bottom": null,
            "display": null,
            "flex": null,
            "flex_flow": null,
            "grid_area": null,
            "grid_auto_columns": null,
            "grid_auto_flow": null,
            "grid_auto_rows": null,
            "grid_column": null,
            "grid_gap": null,
            "grid_row": null,
            "grid_template_areas": null,
            "grid_template_columns": null,
            "grid_template_rows": null,
            "height": null,
            "justify_content": null,
            "justify_items": null,
            "left": null,
            "margin": null,
            "max_height": null,
            "max_width": null,
            "min_height": null,
            "min_width": null,
            "object_fit": null,
            "object_position": null,
            "order": null,
            "overflow": null,
            "overflow_x": null,
            "overflow_y": null,
            "padding": null,
            "right": null,
            "top": null,
            "visibility": null,
            "width": null
          }
        },
        "82fb9c8572a14fb7b6249d7fd883e68a": {
          "model_module": "@jupyter-widgets/base",
          "model_name": "LayoutModel",
          "model_module_version": "1.2.0",
          "state": {
            "_model_module": "@jupyter-widgets/base",
            "_model_module_version": "1.2.0",
            "_model_name": "LayoutModel",
            "_view_count": null,
            "_view_module": "@jupyter-widgets/base",
            "_view_module_version": "1.2.0",
            "_view_name": "LayoutView",
            "align_content": null,
            "align_items": null,
            "align_self": null,
            "border": null,
            "bottom": null,
            "display": null,
            "flex": null,
            "flex_flow": null,
            "grid_area": null,
            "grid_auto_columns": null,
            "grid_auto_flow": null,
            "grid_auto_rows": null,
            "grid_column": null,
            "grid_gap": null,
            "grid_row": null,
            "grid_template_areas": null,
            "grid_template_columns": null,
            "grid_template_rows": null,
            "height": null,
            "justify_content": null,
            "justify_items": null,
            "left": null,
            "margin": null,
            "max_height": null,
            "max_width": null,
            "min_height": null,
            "min_width": null,
            "object_fit": null,
            "object_position": null,
            "order": null,
            "overflow": null,
            "overflow_x": null,
            "overflow_y": null,
            "padding": null,
            "right": null,
            "top": null,
            "visibility": null,
            "width": null
          }
        },
        "5563c95f73d14ed3966fa74a30eed4ce": {
          "model_module": "@jupyter-widgets/controls",
          "model_name": "DescriptionStyleModel",
          "model_module_version": "1.5.0",
          "state": {
            "_model_module": "@jupyter-widgets/controls",
            "_model_module_version": "1.5.0",
            "_model_name": "DescriptionStyleModel",
            "_view_count": null,
            "_view_module": "@jupyter-widgets/base",
            "_view_module_version": "1.2.0",
            "_view_name": "StyleView",
            "description_width": ""
          }
        },
        "db05d425d2e94d979db138ea10f99080": {
          "model_module": "@jupyter-widgets/base",
          "model_name": "LayoutModel",
          "model_module_version": "1.2.0",
          "state": {
            "_model_module": "@jupyter-widgets/base",
            "_model_module_version": "1.2.0",
            "_model_name": "LayoutModel",
            "_view_count": null,
            "_view_module": "@jupyter-widgets/base",
            "_view_module_version": "1.2.0",
            "_view_name": "LayoutView",
            "align_content": null,
            "align_items": null,
            "align_self": null,
            "border": null,
            "bottom": null,
            "display": null,
            "flex": null,
            "flex_flow": null,
            "grid_area": null,
            "grid_auto_columns": null,
            "grid_auto_flow": null,
            "grid_auto_rows": null,
            "grid_column": null,
            "grid_gap": null,
            "grid_row": null,
            "grid_template_areas": null,
            "grid_template_columns": null,
            "grid_template_rows": null,
            "height": null,
            "justify_content": null,
            "justify_items": null,
            "left": null,
            "margin": null,
            "max_height": null,
            "max_width": null,
            "min_height": null,
            "min_width": null,
            "object_fit": null,
            "object_position": null,
            "order": null,
            "overflow": null,
            "overflow_x": null,
            "overflow_y": null,
            "padding": null,
            "right": null,
            "top": null,
            "visibility": null,
            "width": null
          }
        },
        "7d25d20a22bd4673a83338b5d377492a": {
          "model_module": "@jupyter-widgets/controls",
          "model_name": "ProgressStyleModel",
          "model_module_version": "1.5.0",
          "state": {
            "_model_module": "@jupyter-widgets/controls",
            "_model_module_version": "1.5.0",
            "_model_name": "ProgressStyleModel",
            "_view_count": null,
            "_view_module": "@jupyter-widgets/base",
            "_view_module_version": "1.2.0",
            "_view_name": "StyleView",
            "bar_color": null,
            "description_width": ""
          }
        },
        "c0fee6619cd441a3bc0291d59b12582c": {
          "model_module": "@jupyter-widgets/base",
          "model_name": "LayoutModel",
          "model_module_version": "1.2.0",
          "state": {
            "_model_module": "@jupyter-widgets/base",
            "_model_module_version": "1.2.0",
            "_model_name": "LayoutModel",
            "_view_count": null,
            "_view_module": "@jupyter-widgets/base",
            "_view_module_version": "1.2.0",
            "_view_name": "LayoutView",
            "align_content": null,
            "align_items": null,
            "align_self": null,
            "border": null,
            "bottom": null,
            "display": null,
            "flex": null,
            "flex_flow": null,
            "grid_area": null,
            "grid_auto_columns": null,
            "grid_auto_flow": null,
            "grid_auto_rows": null,
            "grid_column": null,
            "grid_gap": null,
            "grid_row": null,
            "grid_template_areas": null,
            "grid_template_columns": null,
            "grid_template_rows": null,
            "height": null,
            "justify_content": null,
            "justify_items": null,
            "left": null,
            "margin": null,
            "max_height": null,
            "max_width": null,
            "min_height": null,
            "min_width": null,
            "object_fit": null,
            "object_position": null,
            "order": null,
            "overflow": null,
            "overflow_x": null,
            "overflow_y": null,
            "padding": null,
            "right": null,
            "top": null,
            "visibility": null,
            "width": null
          }
        },
        "986d9d49838f4ed4bf9d509923e828e8": {
          "model_module": "@jupyter-widgets/controls",
          "model_name": "DescriptionStyleModel",
          "model_module_version": "1.5.0",
          "state": {
            "_model_module": "@jupyter-widgets/controls",
            "_model_module_version": "1.5.0",
            "_model_name": "DescriptionStyleModel",
            "_view_count": null,
            "_view_module": "@jupyter-widgets/base",
            "_view_module_version": "1.2.0",
            "_view_name": "StyleView",
            "description_width": ""
          }
        },
        "246d6250c42b47d7bd65193fc7aa7ec5": {
          "model_module": "@jupyter-widgets/controls",
          "model_name": "HBoxModel",
          "model_module_version": "1.5.0",
          "state": {
            "_dom_classes": [],
            "_model_module": "@jupyter-widgets/controls",
            "_model_module_version": "1.5.0",
            "_model_name": "HBoxModel",
            "_view_count": null,
            "_view_module": "@jupyter-widgets/controls",
            "_view_module_version": "1.5.0",
            "_view_name": "HBoxView",
            "box_style": "",
            "children": [
              "IPY_MODEL_e500b536a8a74fde9d6870f0a468a4ba",
              "IPY_MODEL_93aaa55e24f940aa8ebf875dc6e91373",
              "IPY_MODEL_a73876836aec48d9b77523fb28c66918"
            ],
            "layout": "IPY_MODEL_acd23a41dcde4ba98af5c4c9b2ab3591"
          }
        },
        "e500b536a8a74fde9d6870f0a468a4ba": {
          "model_module": "@jupyter-widgets/controls",
          "model_name": "HTMLModel",
          "model_module_version": "1.5.0",
          "state": {
            "_dom_classes": [],
            "_model_module": "@jupyter-widgets/controls",
            "_model_module_version": "1.5.0",
            "_model_name": "HTMLModel",
            "_view_count": null,
            "_view_module": "@jupyter-widgets/controls",
            "_view_module_version": "1.5.0",
            "_view_name": "HTMLView",
            "description": "",
            "description_tooltip": null,
            "layout": "IPY_MODEL_bf17a0329ffb464392440a5cd6a62a46",
            "placeholder": "​",
            "style": "IPY_MODEL_4febde79e6b94d70b045425951a6ce5e",
            "value": "tokenizer.json: 100%"
          }
        },
        "93aaa55e24f940aa8ebf875dc6e91373": {
          "model_module": "@jupyter-widgets/controls",
          "model_name": "FloatProgressModel",
          "model_module_version": "1.5.0",
          "state": {
            "_dom_classes": [],
            "_model_module": "@jupyter-widgets/controls",
            "_model_module_version": "1.5.0",
            "_model_name": "FloatProgressModel",
            "_view_count": null,
            "_view_module": "@jupyter-widgets/controls",
            "_view_module_version": "1.5.0",
            "_view_name": "ProgressView",
            "bar_style": "success",
            "description": "",
            "description_tooltip": null,
            "layout": "IPY_MODEL_a80eb0199f04468da4c338fd52a799bd",
            "max": 17525357,
            "min": 0,
            "orientation": "horizontal",
            "style": "IPY_MODEL_aec6f0c7199342a58432a632b08a716c",
            "value": 17525357
          }
        },
        "a73876836aec48d9b77523fb28c66918": {
          "model_module": "@jupyter-widgets/controls",
          "model_name": "HTMLModel",
          "model_module_version": "1.5.0",
          "state": {
            "_dom_classes": [],
            "_model_module": "@jupyter-widgets/controls",
            "_model_module_version": "1.5.0",
            "_model_name": "HTMLModel",
            "_view_count": null,
            "_view_module": "@jupyter-widgets/controls",
            "_view_module_version": "1.5.0",
            "_view_name": "HTMLView",
            "description": "",
            "description_tooltip": null,
            "layout": "IPY_MODEL_db3b08c17085453ebe737bb26e0b75fd",
            "placeholder": "​",
            "style": "IPY_MODEL_0c1819313a4844d38abdb6ba09deab40",
            "value": " 17.5M/17.5M [00:00&lt;00:00, 39.5MB/s]"
          }
        },
        "acd23a41dcde4ba98af5c4c9b2ab3591": {
          "model_module": "@jupyter-widgets/base",
          "model_name": "LayoutModel",
          "model_module_version": "1.2.0",
          "state": {
            "_model_module": "@jupyter-widgets/base",
            "_model_module_version": "1.2.0",
            "_model_name": "LayoutModel",
            "_view_count": null,
            "_view_module": "@jupyter-widgets/base",
            "_view_module_version": "1.2.0",
            "_view_name": "LayoutView",
            "align_content": null,
            "align_items": null,
            "align_self": null,
            "border": null,
            "bottom": null,
            "display": null,
            "flex": null,
            "flex_flow": null,
            "grid_area": null,
            "grid_auto_columns": null,
            "grid_auto_flow": null,
            "grid_auto_rows": null,
            "grid_column": null,
            "grid_gap": null,
            "grid_row": null,
            "grid_template_areas": null,
            "grid_template_columns": null,
            "grid_template_rows": null,
            "height": null,
            "justify_content": null,
            "justify_items": null,
            "left": null,
            "margin": null,
            "max_height": null,
            "max_width": null,
            "min_height": null,
            "min_width": null,
            "object_fit": null,
            "object_position": null,
            "order": null,
            "overflow": null,
            "overflow_x": null,
            "overflow_y": null,
            "padding": null,
            "right": null,
            "top": null,
            "visibility": null,
            "width": null
          }
        },
        "bf17a0329ffb464392440a5cd6a62a46": {
          "model_module": "@jupyter-widgets/base",
          "model_name": "LayoutModel",
          "model_module_version": "1.2.0",
          "state": {
            "_model_module": "@jupyter-widgets/base",
            "_model_module_version": "1.2.0",
            "_model_name": "LayoutModel",
            "_view_count": null,
            "_view_module": "@jupyter-widgets/base",
            "_view_module_version": "1.2.0",
            "_view_name": "LayoutView",
            "align_content": null,
            "align_items": null,
            "align_self": null,
            "border": null,
            "bottom": null,
            "display": null,
            "flex": null,
            "flex_flow": null,
            "grid_area": null,
            "grid_auto_columns": null,
            "grid_auto_flow": null,
            "grid_auto_rows": null,
            "grid_column": null,
            "grid_gap": null,
            "grid_row": null,
            "grid_template_areas": null,
            "grid_template_columns": null,
            "grid_template_rows": null,
            "height": null,
            "justify_content": null,
            "justify_items": null,
            "left": null,
            "margin": null,
            "max_height": null,
            "max_width": null,
            "min_height": null,
            "min_width": null,
            "object_fit": null,
            "object_position": null,
            "order": null,
            "overflow": null,
            "overflow_x": null,
            "overflow_y": null,
            "padding": null,
            "right": null,
            "top": null,
            "visibility": null,
            "width": null
          }
        },
        "4febde79e6b94d70b045425951a6ce5e": {
          "model_module": "@jupyter-widgets/controls",
          "model_name": "DescriptionStyleModel",
          "model_module_version": "1.5.0",
          "state": {
            "_model_module": "@jupyter-widgets/controls",
            "_model_module_version": "1.5.0",
            "_model_name": "DescriptionStyleModel",
            "_view_count": null,
            "_view_module": "@jupyter-widgets/base",
            "_view_module_version": "1.2.0",
            "_view_name": "StyleView",
            "description_width": ""
          }
        },
        "a80eb0199f04468da4c338fd52a799bd": {
          "model_module": "@jupyter-widgets/base",
          "model_name": "LayoutModel",
          "model_module_version": "1.2.0",
          "state": {
            "_model_module": "@jupyter-widgets/base",
            "_model_module_version": "1.2.0",
            "_model_name": "LayoutModel",
            "_view_count": null,
            "_view_module": "@jupyter-widgets/base",
            "_view_module_version": "1.2.0",
            "_view_name": "LayoutView",
            "align_content": null,
            "align_items": null,
            "align_self": null,
            "border": null,
            "bottom": null,
            "display": null,
            "flex": null,
            "flex_flow": null,
            "grid_area": null,
            "grid_auto_columns": null,
            "grid_auto_flow": null,
            "grid_auto_rows": null,
            "grid_column": null,
            "grid_gap": null,
            "grid_row": null,
            "grid_template_areas": null,
            "grid_template_columns": null,
            "grid_template_rows": null,
            "height": null,
            "justify_content": null,
            "justify_items": null,
            "left": null,
            "margin": null,
            "max_height": null,
            "max_width": null,
            "min_height": null,
            "min_width": null,
            "object_fit": null,
            "object_position": null,
            "order": null,
            "overflow": null,
            "overflow_x": null,
            "overflow_y": null,
            "padding": null,
            "right": null,
            "top": null,
            "visibility": null,
            "width": null
          }
        },
        "aec6f0c7199342a58432a632b08a716c": {
          "model_module": "@jupyter-widgets/controls",
          "model_name": "ProgressStyleModel",
          "model_module_version": "1.5.0",
          "state": {
            "_model_module": "@jupyter-widgets/controls",
            "_model_module_version": "1.5.0",
            "_model_name": "ProgressStyleModel",
            "_view_count": null,
            "_view_module": "@jupyter-widgets/base",
            "_view_module_version": "1.2.0",
            "_view_name": "StyleView",
            "bar_color": null,
            "description_width": ""
          }
        },
        "db3b08c17085453ebe737bb26e0b75fd": {
          "model_module": "@jupyter-widgets/base",
          "model_name": "LayoutModel",
          "model_module_version": "1.2.0",
          "state": {
            "_model_module": "@jupyter-widgets/base",
            "_model_module_version": "1.2.0",
            "_model_name": "LayoutModel",
            "_view_count": null,
            "_view_module": "@jupyter-widgets/base",
            "_view_module_version": "1.2.0",
            "_view_name": "LayoutView",
            "align_content": null,
            "align_items": null,
            "align_self": null,
            "border": null,
            "bottom": null,
            "display": null,
            "flex": null,
            "flex_flow": null,
            "grid_area": null,
            "grid_auto_columns": null,
            "grid_auto_flow": null,
            "grid_auto_rows": null,
            "grid_column": null,
            "grid_gap": null,
            "grid_row": null,
            "grid_template_areas": null,
            "grid_template_columns": null,
            "grid_template_rows": null,
            "height": null,
            "justify_content": null,
            "justify_items": null,
            "left": null,
            "margin": null,
            "max_height": null,
            "max_width": null,
            "min_height": null,
            "min_width": null,
            "object_fit": null,
            "object_position": null,
            "order": null,
            "overflow": null,
            "overflow_x": null,
            "overflow_y": null,
            "padding": null,
            "right": null,
            "top": null,
            "visibility": null,
            "width": null
          }
        },
        "0c1819313a4844d38abdb6ba09deab40": {
          "model_module": "@jupyter-widgets/controls",
          "model_name": "DescriptionStyleModel",
          "model_module_version": "1.5.0",
          "state": {
            "_model_module": "@jupyter-widgets/controls",
            "_model_module_version": "1.5.0",
            "_model_name": "DescriptionStyleModel",
            "_view_count": null,
            "_view_module": "@jupyter-widgets/base",
            "_view_module_version": "1.2.0",
            "_view_name": "StyleView",
            "description_width": ""
          }
        },
        "3af981ee1af342ceab7071b035d689a4": {
          "model_module": "@jupyter-widgets/controls",
          "model_name": "HBoxModel",
          "model_module_version": "1.5.0",
          "state": {
            "_dom_classes": [],
            "_model_module": "@jupyter-widgets/controls",
            "_model_module_version": "1.5.0",
            "_model_name": "HBoxModel",
            "_view_count": null,
            "_view_module": "@jupyter-widgets/controls",
            "_view_module_version": "1.5.0",
            "_view_name": "HBoxView",
            "box_style": "",
            "children": [
              "IPY_MODEL_d0ba9bd4cfeb4866944e165dad413eb4",
              "IPY_MODEL_f6639245ad0d4b08ad2dd3e80a3a60e2",
              "IPY_MODEL_a21f4849fbc74aff898d871262c63460"
            ],
            "layout": "IPY_MODEL_8df7c999a2ac47bdbd6e9873227af069"
          }
        },
        "d0ba9bd4cfeb4866944e165dad413eb4": {
          "model_module": "@jupyter-widgets/controls",
          "model_name": "HTMLModel",
          "model_module_version": "1.5.0",
          "state": {
            "_dom_classes": [],
            "_model_module": "@jupyter-widgets/controls",
            "_model_module_version": "1.5.0",
            "_model_name": "HTMLModel",
            "_view_count": null,
            "_view_module": "@jupyter-widgets/controls",
            "_view_module_version": "1.5.0",
            "_view_name": "HTMLView",
            "description": "",
            "description_tooltip": null,
            "layout": "IPY_MODEL_e955a051f34d435fa1eaccceafd90262",
            "placeholder": "​",
            "style": "IPY_MODEL_bac46153ffd24515ab41a7087073e92a",
            "value": "special_tokens_map.json: 100%"
          }
        },
        "f6639245ad0d4b08ad2dd3e80a3a60e2": {
          "model_module": "@jupyter-widgets/controls",
          "model_name": "FloatProgressModel",
          "model_module_version": "1.5.0",
          "state": {
            "_dom_classes": [],
            "_model_module": "@jupyter-widgets/controls",
            "_model_module_version": "1.5.0",
            "_model_name": "FloatProgressModel",
            "_view_count": null,
            "_view_module": "@jupyter-widgets/controls",
            "_view_module_version": "1.5.0",
            "_view_name": "ProgressView",
            "bar_style": "success",
            "description": "",
            "description_tooltip": null,
            "layout": "IPY_MODEL_36ceb26702534b60a15a535854ead247",
            "max": 636,
            "min": 0,
            "orientation": "horizontal",
            "style": "IPY_MODEL_abebafffc3e44275a86e0ab2d6df4c57",
            "value": 636
          }
        },
        "a21f4849fbc74aff898d871262c63460": {
          "model_module": "@jupyter-widgets/controls",
          "model_name": "HTMLModel",
          "model_module_version": "1.5.0",
          "state": {
            "_dom_classes": [],
            "_model_module": "@jupyter-widgets/controls",
            "_model_module_version": "1.5.0",
            "_model_name": "HTMLModel",
            "_view_count": null,
            "_view_module": "@jupyter-widgets/controls",
            "_view_module_version": "1.5.0",
            "_view_name": "HTMLView",
            "description": "",
            "description_tooltip": null,
            "layout": "IPY_MODEL_627f2e0743ec44319142bf5c0667f4ca",
            "placeholder": "​",
            "style": "IPY_MODEL_abe473f2ccca4535a8d5ea245d7ebea4",
            "value": " 636/636 [00:00&lt;00:00, 9.18kB/s]"
          }
        },
        "8df7c999a2ac47bdbd6e9873227af069": {
          "model_module": "@jupyter-widgets/base",
          "model_name": "LayoutModel",
          "model_module_version": "1.2.0",
          "state": {
            "_model_module": "@jupyter-widgets/base",
            "_model_module_version": "1.2.0",
            "_model_name": "LayoutModel",
            "_view_count": null,
            "_view_module": "@jupyter-widgets/base",
            "_view_module_version": "1.2.0",
            "_view_name": "LayoutView",
            "align_content": null,
            "align_items": null,
            "align_self": null,
            "border": null,
            "bottom": null,
            "display": null,
            "flex": null,
            "flex_flow": null,
            "grid_area": null,
            "grid_auto_columns": null,
            "grid_auto_flow": null,
            "grid_auto_rows": null,
            "grid_column": null,
            "grid_gap": null,
            "grid_row": null,
            "grid_template_areas": null,
            "grid_template_columns": null,
            "grid_template_rows": null,
            "height": null,
            "justify_content": null,
            "justify_items": null,
            "left": null,
            "margin": null,
            "max_height": null,
            "max_width": null,
            "min_height": null,
            "min_width": null,
            "object_fit": null,
            "object_position": null,
            "order": null,
            "overflow": null,
            "overflow_x": null,
            "overflow_y": null,
            "padding": null,
            "right": null,
            "top": null,
            "visibility": null,
            "width": null
          }
        },
        "e955a051f34d435fa1eaccceafd90262": {
          "model_module": "@jupyter-widgets/base",
          "model_name": "LayoutModel",
          "model_module_version": "1.2.0",
          "state": {
            "_model_module": "@jupyter-widgets/base",
            "_model_module_version": "1.2.0",
            "_model_name": "LayoutModel",
            "_view_count": null,
            "_view_module": "@jupyter-widgets/base",
            "_view_module_version": "1.2.0",
            "_view_name": "LayoutView",
            "align_content": null,
            "align_items": null,
            "align_self": null,
            "border": null,
            "bottom": null,
            "display": null,
            "flex": null,
            "flex_flow": null,
            "grid_area": null,
            "grid_auto_columns": null,
            "grid_auto_flow": null,
            "grid_auto_rows": null,
            "grid_column": null,
            "grid_gap": null,
            "grid_row": null,
            "grid_template_areas": null,
            "grid_template_columns": null,
            "grid_template_rows": null,
            "height": null,
            "justify_content": null,
            "justify_items": null,
            "left": null,
            "margin": null,
            "max_height": null,
            "max_width": null,
            "min_height": null,
            "min_width": null,
            "object_fit": null,
            "object_position": null,
            "order": null,
            "overflow": null,
            "overflow_x": null,
            "overflow_y": null,
            "padding": null,
            "right": null,
            "top": null,
            "visibility": null,
            "width": null
          }
        },
        "bac46153ffd24515ab41a7087073e92a": {
          "model_module": "@jupyter-widgets/controls",
          "model_name": "DescriptionStyleModel",
          "model_module_version": "1.5.0",
          "state": {
            "_model_module": "@jupyter-widgets/controls",
            "_model_module_version": "1.5.0",
            "_model_name": "DescriptionStyleModel",
            "_view_count": null,
            "_view_module": "@jupyter-widgets/base",
            "_view_module_version": "1.2.0",
            "_view_name": "StyleView",
            "description_width": ""
          }
        },
        "36ceb26702534b60a15a535854ead247": {
          "model_module": "@jupyter-widgets/base",
          "model_name": "LayoutModel",
          "model_module_version": "1.2.0",
          "state": {
            "_model_module": "@jupyter-widgets/base",
            "_model_module_version": "1.2.0",
            "_model_name": "LayoutModel",
            "_view_count": null,
            "_view_module": "@jupyter-widgets/base",
            "_view_module_version": "1.2.0",
            "_view_name": "LayoutView",
            "align_content": null,
            "align_items": null,
            "align_self": null,
            "border": null,
            "bottom": null,
            "display": null,
            "flex": null,
            "flex_flow": null,
            "grid_area": null,
            "grid_auto_columns": null,
            "grid_auto_flow": null,
            "grid_auto_rows": null,
            "grid_column": null,
            "grid_gap": null,
            "grid_row": null,
            "grid_template_areas": null,
            "grid_template_columns": null,
            "grid_template_rows": null,
            "height": null,
            "justify_content": null,
            "justify_items": null,
            "left": null,
            "margin": null,
            "max_height": null,
            "max_width": null,
            "min_height": null,
            "min_width": null,
            "object_fit": null,
            "object_position": null,
            "order": null,
            "overflow": null,
            "overflow_x": null,
            "overflow_y": null,
            "padding": null,
            "right": null,
            "top": null,
            "visibility": null,
            "width": null
          }
        },
        "abebafffc3e44275a86e0ab2d6df4c57": {
          "model_module": "@jupyter-widgets/controls",
          "model_name": "ProgressStyleModel",
          "model_module_version": "1.5.0",
          "state": {
            "_model_module": "@jupyter-widgets/controls",
            "_model_module_version": "1.5.0",
            "_model_name": "ProgressStyleModel",
            "_view_count": null,
            "_view_module": "@jupyter-widgets/base",
            "_view_module_version": "1.2.0",
            "_view_name": "StyleView",
            "bar_color": null,
            "description_width": ""
          }
        },
        "627f2e0743ec44319142bf5c0667f4ca": {
          "model_module": "@jupyter-widgets/base",
          "model_name": "LayoutModel",
          "model_module_version": "1.2.0",
          "state": {
            "_model_module": "@jupyter-widgets/base",
            "_model_module_version": "1.2.0",
            "_model_name": "LayoutModel",
            "_view_count": null,
            "_view_module": "@jupyter-widgets/base",
            "_view_module_version": "1.2.0",
            "_view_name": "LayoutView",
            "align_content": null,
            "align_items": null,
            "align_self": null,
            "border": null,
            "bottom": null,
            "display": null,
            "flex": null,
            "flex_flow": null,
            "grid_area": null,
            "grid_auto_columns": null,
            "grid_auto_flow": null,
            "grid_auto_rows": null,
            "grid_column": null,
            "grid_gap": null,
            "grid_row": null,
            "grid_template_areas": null,
            "grid_template_columns": null,
            "grid_template_rows": null,
            "height": null,
            "justify_content": null,
            "justify_items": null,
            "left": null,
            "margin": null,
            "max_height": null,
            "max_width": null,
            "min_height": null,
            "min_width": null,
            "object_fit": null,
            "object_position": null,
            "order": null,
            "overflow": null,
            "overflow_x": null,
            "overflow_y": null,
            "padding": null,
            "right": null,
            "top": null,
            "visibility": null,
            "width": null
          }
        },
        "abe473f2ccca4535a8d5ea245d7ebea4": {
          "model_module": "@jupyter-widgets/controls",
          "model_name": "DescriptionStyleModel",
          "model_module_version": "1.5.0",
          "state": {
            "_model_module": "@jupyter-widgets/controls",
            "_model_module_version": "1.5.0",
            "_model_name": "DescriptionStyleModel",
            "_view_count": null,
            "_view_module": "@jupyter-widgets/base",
            "_view_module_version": "1.2.0",
            "_view_name": "StyleView",
            "description_width": ""
          }
        },
        "395a80740dd44bc7a05d24879403a2fd": {
          "model_module": "@jupyter-widgets/controls",
          "model_name": "HBoxModel",
          "model_module_version": "1.5.0",
          "state": {
            "_dom_classes": [],
            "_model_module": "@jupyter-widgets/controls",
            "_model_module_version": "1.5.0",
            "_model_name": "HBoxModel",
            "_view_count": null,
            "_view_module": "@jupyter-widgets/controls",
            "_view_module_version": "1.5.0",
            "_view_name": "HBoxView",
            "box_style": "",
            "children": [
              "IPY_MODEL_81d0c164fae5476885595bf1b81ddc3d",
              "IPY_MODEL_c09c6881d3ff4ec7b0f89190f96ef00e",
              "IPY_MODEL_3b90c957498d47eb965fb58e23f5209e"
            ],
            "layout": "IPY_MODEL_6182dd7b33424fc39668c1ac7f92fce8"
          }
        },
        "81d0c164fae5476885595bf1b81ddc3d": {
          "model_module": "@jupyter-widgets/controls",
          "model_name": "HTMLModel",
          "model_module_version": "1.5.0",
          "state": {
            "_dom_classes": [],
            "_model_module": "@jupyter-widgets/controls",
            "_model_module_version": "1.5.0",
            "_model_name": "HTMLModel",
            "_view_count": null,
            "_view_module": "@jupyter-widgets/controls",
            "_view_module_version": "1.5.0",
            "_view_name": "HTMLView",
            "description": "",
            "description_tooltip": null,
            "layout": "IPY_MODEL_3e30befe01ad413bad77568d26a82ff6",
            "placeholder": "​",
            "style": "IPY_MODEL_f185f695e8fd449bac799017ab6980f6",
            "value": "config.json: 100%"
          }
        },
        "c09c6881d3ff4ec7b0f89190f96ef00e": {
          "model_module": "@jupyter-widgets/controls",
          "model_name": "FloatProgressModel",
          "model_module_version": "1.5.0",
          "state": {
            "_dom_classes": [],
            "_model_module": "@jupyter-widgets/controls",
            "_model_module_version": "1.5.0",
            "_model_name": "FloatProgressModel",
            "_view_count": null,
            "_view_module": "@jupyter-widgets/controls",
            "_view_module_version": "1.5.0",
            "_view_name": "ProgressView",
            "bar_style": "success",
            "description": "",
            "description_tooltip": null,
            "layout": "IPY_MODEL_0d9004dbd7b24875b09e9d40f2aa3060",
            "max": 838,
            "min": 0,
            "orientation": "horizontal",
            "style": "IPY_MODEL_4a6122902cca4d8b8110edf645751524",
            "value": 838
          }
        },
        "3b90c957498d47eb965fb58e23f5209e": {
          "model_module": "@jupyter-widgets/controls",
          "model_name": "HTMLModel",
          "model_module_version": "1.5.0",
          "state": {
            "_dom_classes": [],
            "_model_module": "@jupyter-widgets/controls",
            "_model_module_version": "1.5.0",
            "_model_name": "HTMLModel",
            "_view_count": null,
            "_view_module": "@jupyter-widgets/controls",
            "_view_module_version": "1.5.0",
            "_view_name": "HTMLView",
            "description": "",
            "description_tooltip": null,
            "layout": "IPY_MODEL_41fe3f0f01f74a079b067c6062a798ad",
            "placeholder": "​",
            "style": "IPY_MODEL_096746e79ec84788b51611519141732b",
            "value": " 838/838 [00:00&lt;00:00, 19.4kB/s]"
          }
        },
        "6182dd7b33424fc39668c1ac7f92fce8": {
          "model_module": "@jupyter-widgets/base",
          "model_name": "LayoutModel",
          "model_module_version": "1.2.0",
          "state": {
            "_model_module": "@jupyter-widgets/base",
            "_model_module_version": "1.2.0",
            "_model_name": "LayoutModel",
            "_view_count": null,
            "_view_module": "@jupyter-widgets/base",
            "_view_module_version": "1.2.0",
            "_view_name": "LayoutView",
            "align_content": null,
            "align_items": null,
            "align_self": null,
            "border": null,
            "bottom": null,
            "display": null,
            "flex": null,
            "flex_flow": null,
            "grid_area": null,
            "grid_auto_columns": null,
            "grid_auto_flow": null,
            "grid_auto_rows": null,
            "grid_column": null,
            "grid_gap": null,
            "grid_row": null,
            "grid_template_areas": null,
            "grid_template_columns": null,
            "grid_template_rows": null,
            "height": null,
            "justify_content": null,
            "justify_items": null,
            "left": null,
            "margin": null,
            "max_height": null,
            "max_width": null,
            "min_height": null,
            "min_width": null,
            "object_fit": null,
            "object_position": null,
            "order": null,
            "overflow": null,
            "overflow_x": null,
            "overflow_y": null,
            "padding": null,
            "right": null,
            "top": null,
            "visibility": null,
            "width": null
          }
        },
        "3e30befe01ad413bad77568d26a82ff6": {
          "model_module": "@jupyter-widgets/base",
          "model_name": "LayoutModel",
          "model_module_version": "1.2.0",
          "state": {
            "_model_module": "@jupyter-widgets/base",
            "_model_module_version": "1.2.0",
            "_model_name": "LayoutModel",
            "_view_count": null,
            "_view_module": "@jupyter-widgets/base",
            "_view_module_version": "1.2.0",
            "_view_name": "LayoutView",
            "align_content": null,
            "align_items": null,
            "align_self": null,
            "border": null,
            "bottom": null,
            "display": null,
            "flex": null,
            "flex_flow": null,
            "grid_area": null,
            "grid_auto_columns": null,
            "grid_auto_flow": null,
            "grid_auto_rows": null,
            "grid_column": null,
            "grid_gap": null,
            "grid_row": null,
            "grid_template_areas": null,
            "grid_template_columns": null,
            "grid_template_rows": null,
            "height": null,
            "justify_content": null,
            "justify_items": null,
            "left": null,
            "margin": null,
            "max_height": null,
            "max_width": null,
            "min_height": null,
            "min_width": null,
            "object_fit": null,
            "object_position": null,
            "order": null,
            "overflow": null,
            "overflow_x": null,
            "overflow_y": null,
            "padding": null,
            "right": null,
            "top": null,
            "visibility": null,
            "width": null
          }
        },
        "f185f695e8fd449bac799017ab6980f6": {
          "model_module": "@jupyter-widgets/controls",
          "model_name": "DescriptionStyleModel",
          "model_module_version": "1.5.0",
          "state": {
            "_model_module": "@jupyter-widgets/controls",
            "_model_module_version": "1.5.0",
            "_model_name": "DescriptionStyleModel",
            "_view_count": null,
            "_view_module": "@jupyter-widgets/base",
            "_view_module_version": "1.2.0",
            "_view_name": "StyleView",
            "description_width": ""
          }
        },
        "0d9004dbd7b24875b09e9d40f2aa3060": {
          "model_module": "@jupyter-widgets/base",
          "model_name": "LayoutModel",
          "model_module_version": "1.2.0",
          "state": {
            "_model_module": "@jupyter-widgets/base",
            "_model_module_version": "1.2.0",
            "_model_name": "LayoutModel",
            "_view_count": null,
            "_view_module": "@jupyter-widgets/base",
            "_view_module_version": "1.2.0",
            "_view_name": "LayoutView",
            "align_content": null,
            "align_items": null,
            "align_self": null,
            "border": null,
            "bottom": null,
            "display": null,
            "flex": null,
            "flex_flow": null,
            "grid_area": null,
            "grid_auto_columns": null,
            "grid_auto_flow": null,
            "grid_auto_rows": null,
            "grid_column": null,
            "grid_gap": null,
            "grid_row": null,
            "grid_template_areas": null,
            "grid_template_columns": null,
            "grid_template_rows": null,
            "height": null,
            "justify_content": null,
            "justify_items": null,
            "left": null,
            "margin": null,
            "max_height": null,
            "max_width": null,
            "min_height": null,
            "min_width": null,
            "object_fit": null,
            "object_position": null,
            "order": null,
            "overflow": null,
            "overflow_x": null,
            "overflow_y": null,
            "padding": null,
            "right": null,
            "top": null,
            "visibility": null,
            "width": null
          }
        },
        "4a6122902cca4d8b8110edf645751524": {
          "model_module": "@jupyter-widgets/controls",
          "model_name": "ProgressStyleModel",
          "model_module_version": "1.5.0",
          "state": {
            "_model_module": "@jupyter-widgets/controls",
            "_model_module_version": "1.5.0",
            "_model_name": "ProgressStyleModel",
            "_view_count": null,
            "_view_module": "@jupyter-widgets/base",
            "_view_module_version": "1.2.0",
            "_view_name": "StyleView",
            "bar_color": null,
            "description_width": ""
          }
        },
        "41fe3f0f01f74a079b067c6062a798ad": {
          "model_module": "@jupyter-widgets/base",
          "model_name": "LayoutModel",
          "model_module_version": "1.2.0",
          "state": {
            "_model_module": "@jupyter-widgets/base",
            "_model_module_version": "1.2.0",
            "_model_name": "LayoutModel",
            "_view_count": null,
            "_view_module": "@jupyter-widgets/base",
            "_view_module_version": "1.2.0",
            "_view_name": "LayoutView",
            "align_content": null,
            "align_items": null,
            "align_self": null,
            "border": null,
            "bottom": null,
            "display": null,
            "flex": null,
            "flex_flow": null,
            "grid_area": null,
            "grid_auto_columns": null,
            "grid_auto_flow": null,
            "grid_auto_rows": null,
            "grid_column": null,
            "grid_gap": null,
            "grid_row": null,
            "grid_template_areas": null,
            "grid_template_columns": null,
            "grid_template_rows": null,
            "height": null,
            "justify_content": null,
            "justify_items": null,
            "left": null,
            "margin": null,
            "max_height": null,
            "max_width": null,
            "min_height": null,
            "min_width": null,
            "object_fit": null,
            "object_position": null,
            "order": null,
            "overflow": null,
            "overflow_x": null,
            "overflow_y": null,
            "padding": null,
            "right": null,
            "top": null,
            "visibility": null,
            "width": null
          }
        },
        "096746e79ec84788b51611519141732b": {
          "model_module": "@jupyter-widgets/controls",
          "model_name": "DescriptionStyleModel",
          "model_module_version": "1.5.0",
          "state": {
            "_model_module": "@jupyter-widgets/controls",
            "_model_module_version": "1.5.0",
            "_model_name": "DescriptionStyleModel",
            "_view_count": null,
            "_view_module": "@jupyter-widgets/base",
            "_view_module_version": "1.2.0",
            "_view_name": "StyleView",
            "description_width": ""
          }
        },
        "fb7dcbba50ab4f759bf3ca6515626769": {
          "model_module": "@jupyter-widgets/controls",
          "model_name": "HBoxModel",
          "model_module_version": "1.5.0",
          "state": {
            "_dom_classes": [],
            "_model_module": "@jupyter-widgets/controls",
            "_model_module_version": "1.5.0",
            "_model_name": "HBoxModel",
            "_view_count": null,
            "_view_module": "@jupyter-widgets/controls",
            "_view_module_version": "1.5.0",
            "_view_name": "HBoxView",
            "box_style": "",
            "children": [
              "IPY_MODEL_4d54cd24893540a39baf2664d40e2a42",
              "IPY_MODEL_d21f050812f445db9f7f2344575c92a7",
              "IPY_MODEL_e1cb7d0360984d5b862d737ea0f029d4"
            ],
            "layout": "IPY_MODEL_cf63957336e84422916138e9b18dca39"
          }
        },
        "4d54cd24893540a39baf2664d40e2a42": {
          "model_module": "@jupyter-widgets/controls",
          "model_name": "HTMLModel",
          "model_module_version": "1.5.0",
          "state": {
            "_dom_classes": [],
            "_model_module": "@jupyter-widgets/controls",
            "_model_module_version": "1.5.0",
            "_model_name": "HTMLModel",
            "_view_count": null,
            "_view_module": "@jupyter-widgets/controls",
            "_view_module_version": "1.5.0",
            "_view_name": "HTMLView",
            "description": "",
            "description_tooltip": null,
            "layout": "IPY_MODEL_4f4d2d2fbf1540fa959699ff5c2862be",
            "placeholder": "​",
            "style": "IPY_MODEL_35aed78857fe48cdb764e2bb03c93302",
            "value": "model.safetensors.index.json: 100%"
          }
        },
        "d21f050812f445db9f7f2344575c92a7": {
          "model_module": "@jupyter-widgets/controls",
          "model_name": "FloatProgressModel",
          "model_module_version": "1.5.0",
          "state": {
            "_dom_classes": [],
            "_model_module": "@jupyter-widgets/controls",
            "_model_module_version": "1.5.0",
            "_model_name": "FloatProgressModel",
            "_view_count": null,
            "_view_module": "@jupyter-widgets/controls",
            "_view_module_version": "1.5.0",
            "_view_name": "ProgressView",
            "bar_style": "success",
            "description": "",
            "description_tooltip": null,
            "layout": "IPY_MODEL_163d066187f0489da5bd4f46edf206f6",
            "max": 24223,
            "min": 0,
            "orientation": "horizontal",
            "style": "IPY_MODEL_8d130f797859472ca09762b5f4e4be36",
            "value": 24223
          }
        },
        "e1cb7d0360984d5b862d737ea0f029d4": {
          "model_module": "@jupyter-widgets/controls",
          "model_name": "HTMLModel",
          "model_module_version": "1.5.0",
          "state": {
            "_dom_classes": [],
            "_model_module": "@jupyter-widgets/controls",
            "_model_module_version": "1.5.0",
            "_model_name": "HTMLModel",
            "_view_count": null,
            "_view_module": "@jupyter-widgets/controls",
            "_view_module_version": "1.5.0",
            "_view_name": "HTMLView",
            "description": "",
            "description_tooltip": null,
            "layout": "IPY_MODEL_64b6d3914d694c88bd9118270a9380d6",
            "placeholder": "​",
            "style": "IPY_MODEL_be88b0ff523348ada9f51a40eaf90070",
            "value": " 24.2k/24.2k [00:00&lt;00:00, 1.11MB/s]"
          }
        },
        "cf63957336e84422916138e9b18dca39": {
          "model_module": "@jupyter-widgets/base",
          "model_name": "LayoutModel",
          "model_module_version": "1.2.0",
          "state": {
            "_model_module": "@jupyter-widgets/base",
            "_model_module_version": "1.2.0",
            "_model_name": "LayoutModel",
            "_view_count": null,
            "_view_module": "@jupyter-widgets/base",
            "_view_module_version": "1.2.0",
            "_view_name": "LayoutView",
            "align_content": null,
            "align_items": null,
            "align_self": null,
            "border": null,
            "bottom": null,
            "display": null,
            "flex": null,
            "flex_flow": null,
            "grid_area": null,
            "grid_auto_columns": null,
            "grid_auto_flow": null,
            "grid_auto_rows": null,
            "grid_column": null,
            "grid_gap": null,
            "grid_row": null,
            "grid_template_areas": null,
            "grid_template_columns": null,
            "grid_template_rows": null,
            "height": null,
            "justify_content": null,
            "justify_items": null,
            "left": null,
            "margin": null,
            "max_height": null,
            "max_width": null,
            "min_height": null,
            "min_width": null,
            "object_fit": null,
            "object_position": null,
            "order": null,
            "overflow": null,
            "overflow_x": null,
            "overflow_y": null,
            "padding": null,
            "right": null,
            "top": null,
            "visibility": null,
            "width": null
          }
        },
        "4f4d2d2fbf1540fa959699ff5c2862be": {
          "model_module": "@jupyter-widgets/base",
          "model_name": "LayoutModel",
          "model_module_version": "1.2.0",
          "state": {
            "_model_module": "@jupyter-widgets/base",
            "_model_module_version": "1.2.0",
            "_model_name": "LayoutModel",
            "_view_count": null,
            "_view_module": "@jupyter-widgets/base",
            "_view_module_version": "1.2.0",
            "_view_name": "LayoutView",
            "align_content": null,
            "align_items": null,
            "align_self": null,
            "border": null,
            "bottom": null,
            "display": null,
            "flex": null,
            "flex_flow": null,
            "grid_area": null,
            "grid_auto_columns": null,
            "grid_auto_flow": null,
            "grid_auto_rows": null,
            "grid_column": null,
            "grid_gap": null,
            "grid_row": null,
            "grid_template_areas": null,
            "grid_template_columns": null,
            "grid_template_rows": null,
            "height": null,
            "justify_content": null,
            "justify_items": null,
            "left": null,
            "margin": null,
            "max_height": null,
            "max_width": null,
            "min_height": null,
            "min_width": null,
            "object_fit": null,
            "object_position": null,
            "order": null,
            "overflow": null,
            "overflow_x": null,
            "overflow_y": null,
            "padding": null,
            "right": null,
            "top": null,
            "visibility": null,
            "width": null
          }
        },
        "35aed78857fe48cdb764e2bb03c93302": {
          "model_module": "@jupyter-widgets/controls",
          "model_name": "DescriptionStyleModel",
          "model_module_version": "1.5.0",
          "state": {
            "_model_module": "@jupyter-widgets/controls",
            "_model_module_version": "1.5.0",
            "_model_name": "DescriptionStyleModel",
            "_view_count": null,
            "_view_module": "@jupyter-widgets/base",
            "_view_module_version": "1.2.0",
            "_view_name": "StyleView",
            "description_width": ""
          }
        },
        "163d066187f0489da5bd4f46edf206f6": {
          "model_module": "@jupyter-widgets/base",
          "model_name": "LayoutModel",
          "model_module_version": "1.2.0",
          "state": {
            "_model_module": "@jupyter-widgets/base",
            "_model_module_version": "1.2.0",
            "_model_name": "LayoutModel",
            "_view_count": null,
            "_view_module": "@jupyter-widgets/base",
            "_view_module_version": "1.2.0",
            "_view_name": "LayoutView",
            "align_content": null,
            "align_items": null,
            "align_self": null,
            "border": null,
            "bottom": null,
            "display": null,
            "flex": null,
            "flex_flow": null,
            "grid_area": null,
            "grid_auto_columns": null,
            "grid_auto_flow": null,
            "grid_auto_rows": null,
            "grid_column": null,
            "grid_gap": null,
            "grid_row": null,
            "grid_template_areas": null,
            "grid_template_columns": null,
            "grid_template_rows": null,
            "height": null,
            "justify_content": null,
            "justify_items": null,
            "left": null,
            "margin": null,
            "max_height": null,
            "max_width": null,
            "min_height": null,
            "min_width": null,
            "object_fit": null,
            "object_position": null,
            "order": null,
            "overflow": null,
            "overflow_x": null,
            "overflow_y": null,
            "padding": null,
            "right": null,
            "top": null,
            "visibility": null,
            "width": null
          }
        },
        "8d130f797859472ca09762b5f4e4be36": {
          "model_module": "@jupyter-widgets/controls",
          "model_name": "ProgressStyleModel",
          "model_module_version": "1.5.0",
          "state": {
            "_model_module": "@jupyter-widgets/controls",
            "_model_module_version": "1.5.0",
            "_model_name": "ProgressStyleModel",
            "_view_count": null,
            "_view_module": "@jupyter-widgets/base",
            "_view_module_version": "1.2.0",
            "_view_name": "StyleView",
            "bar_color": null,
            "description_width": ""
          }
        },
        "64b6d3914d694c88bd9118270a9380d6": {
          "model_module": "@jupyter-widgets/base",
          "model_name": "LayoutModel",
          "model_module_version": "1.2.0",
          "state": {
            "_model_module": "@jupyter-widgets/base",
            "_model_module_version": "1.2.0",
            "_model_name": "LayoutModel",
            "_view_count": null,
            "_view_module": "@jupyter-widgets/base",
            "_view_module_version": "1.2.0",
            "_view_name": "LayoutView",
            "align_content": null,
            "align_items": null,
            "align_self": null,
            "border": null,
            "bottom": null,
            "display": null,
            "flex": null,
            "flex_flow": null,
            "grid_area": null,
            "grid_auto_columns": null,
            "grid_auto_flow": null,
            "grid_auto_rows": null,
            "grid_column": null,
            "grid_gap": null,
            "grid_row": null,
            "grid_template_areas": null,
            "grid_template_columns": null,
            "grid_template_rows": null,
            "height": null,
            "justify_content": null,
            "justify_items": null,
            "left": null,
            "margin": null,
            "max_height": null,
            "max_width": null,
            "min_height": null,
            "min_width": null,
            "object_fit": null,
            "object_position": null,
            "order": null,
            "overflow": null,
            "overflow_x": null,
            "overflow_y": null,
            "padding": null,
            "right": null,
            "top": null,
            "visibility": null,
            "width": null
          }
        },
        "be88b0ff523348ada9f51a40eaf90070": {
          "model_module": "@jupyter-widgets/controls",
          "model_name": "DescriptionStyleModel",
          "model_module_version": "1.5.0",
          "state": {
            "_model_module": "@jupyter-widgets/controls",
            "_model_module_version": "1.5.0",
            "_model_name": "DescriptionStyleModel",
            "_view_count": null,
            "_view_module": "@jupyter-widgets/base",
            "_view_module_version": "1.2.0",
            "_view_name": "StyleView",
            "description_width": ""
          }
        },
        "90d18f442b4b4ac2ab709b9879faefb9": {
          "model_module": "@jupyter-widgets/controls",
          "model_name": "HBoxModel",
          "model_module_version": "1.5.0",
          "state": {
            "_dom_classes": [],
            "_model_module": "@jupyter-widgets/controls",
            "_model_module_version": "1.5.0",
            "_model_name": "HBoxModel",
            "_view_count": null,
            "_view_module": "@jupyter-widgets/controls",
            "_view_module_version": "1.5.0",
            "_view_name": "HBoxView",
            "box_style": "",
            "children": [
              "IPY_MODEL_9b57e45908b04b5e8ee9c0ee7be465b7",
              "IPY_MODEL_b27036af4a8e4ecba4d9736c1bedfb09",
              "IPY_MODEL_e14c0a8dabe643dda899dae71d5c2f7c"
            ],
            "layout": "IPY_MODEL_bdf22ab9fcd840e5bef9cc9cf1fd174b"
          }
        },
        "9b57e45908b04b5e8ee9c0ee7be465b7": {
          "model_module": "@jupyter-widgets/controls",
          "model_name": "HTMLModel",
          "model_module_version": "1.5.0",
          "state": {
            "_dom_classes": [],
            "_model_module": "@jupyter-widgets/controls",
            "_model_module_version": "1.5.0",
            "_model_name": "HTMLModel",
            "_view_count": null,
            "_view_module": "@jupyter-widgets/controls",
            "_view_module_version": "1.5.0",
            "_view_name": "HTMLView",
            "description": "",
            "description_tooltip": null,
            "layout": "IPY_MODEL_6080cebeffad41b7bf355f0a0a973f88",
            "placeholder": "​",
            "style": "IPY_MODEL_a22d7d6c4831489f954788329788b499",
            "value": "Downloading shards: 100%"
          }
        },
        "b27036af4a8e4ecba4d9736c1bedfb09": {
          "model_module": "@jupyter-widgets/controls",
          "model_name": "FloatProgressModel",
          "model_module_version": "1.5.0",
          "state": {
            "_dom_classes": [],
            "_model_module": "@jupyter-widgets/controls",
            "_model_module_version": "1.5.0",
            "_model_name": "FloatProgressModel",
            "_view_count": null,
            "_view_module": "@jupyter-widgets/controls",
            "_view_module_version": "1.5.0",
            "_view_name": "ProgressView",
            "bar_style": "success",
            "description": "",
            "description_tooltip": null,
            "layout": "IPY_MODEL_e9de75691e15467e9d331f2c07cbd221",
            "max": 2,
            "min": 0,
            "orientation": "horizontal",
            "style": "IPY_MODEL_150df479e41d4d029d91ab1d33430c91",
            "value": 2
          }
        },
        "e14c0a8dabe643dda899dae71d5c2f7c": {
          "model_module": "@jupyter-widgets/controls",
          "model_name": "HTMLModel",
          "model_module_version": "1.5.0",
          "state": {
            "_dom_classes": [],
            "_model_module": "@jupyter-widgets/controls",
            "_model_module_version": "1.5.0",
            "_model_name": "HTMLModel",
            "_view_count": null,
            "_view_module": "@jupyter-widgets/controls",
            "_view_module_version": "1.5.0",
            "_view_name": "HTMLView",
            "description": "",
            "description_tooltip": null,
            "layout": "IPY_MODEL_d0be7446044e4f30b27726f1328b54ec",
            "placeholder": "​",
            "style": "IPY_MODEL_a9a2f386b2614518be6815ab03b7ef9a",
            "value": " 2/2 [02:04&lt;00:00, 52.13s/it]"
          }
        },
        "bdf22ab9fcd840e5bef9cc9cf1fd174b": {
          "model_module": "@jupyter-widgets/base",
          "model_name": "LayoutModel",
          "model_module_version": "1.2.0",
          "state": {
            "_model_module": "@jupyter-widgets/base",
            "_model_module_version": "1.2.0",
            "_model_name": "LayoutModel",
            "_view_count": null,
            "_view_module": "@jupyter-widgets/base",
            "_view_module_version": "1.2.0",
            "_view_name": "LayoutView",
            "align_content": null,
            "align_items": null,
            "align_self": null,
            "border": null,
            "bottom": null,
            "display": null,
            "flex": null,
            "flex_flow": null,
            "grid_area": null,
            "grid_auto_columns": null,
            "grid_auto_flow": null,
            "grid_auto_rows": null,
            "grid_column": null,
            "grid_gap": null,
            "grid_row": null,
            "grid_template_areas": null,
            "grid_template_columns": null,
            "grid_template_rows": null,
            "height": null,
            "justify_content": null,
            "justify_items": null,
            "left": null,
            "margin": null,
            "max_height": null,
            "max_width": null,
            "min_height": null,
            "min_width": null,
            "object_fit": null,
            "object_position": null,
            "order": null,
            "overflow": null,
            "overflow_x": null,
            "overflow_y": null,
            "padding": null,
            "right": null,
            "top": null,
            "visibility": null,
            "width": null
          }
        },
        "6080cebeffad41b7bf355f0a0a973f88": {
          "model_module": "@jupyter-widgets/base",
          "model_name": "LayoutModel",
          "model_module_version": "1.2.0",
          "state": {
            "_model_module": "@jupyter-widgets/base",
            "_model_module_version": "1.2.0",
            "_model_name": "LayoutModel",
            "_view_count": null,
            "_view_module": "@jupyter-widgets/base",
            "_view_module_version": "1.2.0",
            "_view_name": "LayoutView",
            "align_content": null,
            "align_items": null,
            "align_self": null,
            "border": null,
            "bottom": null,
            "display": null,
            "flex": null,
            "flex_flow": null,
            "grid_area": null,
            "grid_auto_columns": null,
            "grid_auto_flow": null,
            "grid_auto_rows": null,
            "grid_column": null,
            "grid_gap": null,
            "grid_row": null,
            "grid_template_areas": null,
            "grid_template_columns": null,
            "grid_template_rows": null,
            "height": null,
            "justify_content": null,
            "justify_items": null,
            "left": null,
            "margin": null,
            "max_height": null,
            "max_width": null,
            "min_height": null,
            "min_width": null,
            "object_fit": null,
            "object_position": null,
            "order": null,
            "overflow": null,
            "overflow_x": null,
            "overflow_y": null,
            "padding": null,
            "right": null,
            "top": null,
            "visibility": null,
            "width": null
          }
        },
        "a22d7d6c4831489f954788329788b499": {
          "model_module": "@jupyter-widgets/controls",
          "model_name": "DescriptionStyleModel",
          "model_module_version": "1.5.0",
          "state": {
            "_model_module": "@jupyter-widgets/controls",
            "_model_module_version": "1.5.0",
            "_model_name": "DescriptionStyleModel",
            "_view_count": null,
            "_view_module": "@jupyter-widgets/base",
            "_view_module_version": "1.2.0",
            "_view_name": "StyleView",
            "description_width": ""
          }
        },
        "e9de75691e15467e9d331f2c07cbd221": {
          "model_module": "@jupyter-widgets/base",
          "model_name": "LayoutModel",
          "model_module_version": "1.2.0",
          "state": {
            "_model_module": "@jupyter-widgets/base",
            "_model_module_version": "1.2.0",
            "_model_name": "LayoutModel",
            "_view_count": null,
            "_view_module": "@jupyter-widgets/base",
            "_view_module_version": "1.2.0",
            "_view_name": "LayoutView",
            "align_content": null,
            "align_items": null,
            "align_self": null,
            "border": null,
            "bottom": null,
            "display": null,
            "flex": null,
            "flex_flow": null,
            "grid_area": null,
            "grid_auto_columns": null,
            "grid_auto_flow": null,
            "grid_auto_rows": null,
            "grid_column": null,
            "grid_gap": null,
            "grid_row": null,
            "grid_template_areas": null,
            "grid_template_columns": null,
            "grid_template_rows": null,
            "height": null,
            "justify_content": null,
            "justify_items": null,
            "left": null,
            "margin": null,
            "max_height": null,
            "max_width": null,
            "min_height": null,
            "min_width": null,
            "object_fit": null,
            "object_position": null,
            "order": null,
            "overflow": null,
            "overflow_x": null,
            "overflow_y": null,
            "padding": null,
            "right": null,
            "top": null,
            "visibility": null,
            "width": null
          }
        },
        "150df479e41d4d029d91ab1d33430c91": {
          "model_module": "@jupyter-widgets/controls",
          "model_name": "ProgressStyleModel",
          "model_module_version": "1.5.0",
          "state": {
            "_model_module": "@jupyter-widgets/controls",
            "_model_module_version": "1.5.0",
            "_model_name": "ProgressStyleModel",
            "_view_count": null,
            "_view_module": "@jupyter-widgets/base",
            "_view_module_version": "1.2.0",
            "_view_name": "StyleView",
            "bar_color": null,
            "description_width": ""
          }
        },
        "d0be7446044e4f30b27726f1328b54ec": {
          "model_module": "@jupyter-widgets/base",
          "model_name": "LayoutModel",
          "model_module_version": "1.2.0",
          "state": {
            "_model_module": "@jupyter-widgets/base",
            "_model_module_version": "1.2.0",
            "_model_name": "LayoutModel",
            "_view_count": null,
            "_view_module": "@jupyter-widgets/base",
            "_view_module_version": "1.2.0",
            "_view_name": "LayoutView",
            "align_content": null,
            "align_items": null,
            "align_self": null,
            "border": null,
            "bottom": null,
            "display": null,
            "flex": null,
            "flex_flow": null,
            "grid_area": null,
            "grid_auto_columns": null,
            "grid_auto_flow": null,
            "grid_auto_rows": null,
            "grid_column": null,
            "grid_gap": null,
            "grid_row": null,
            "grid_template_areas": null,
            "grid_template_columns": null,
            "grid_template_rows": null,
            "height": null,
            "justify_content": null,
            "justify_items": null,
            "left": null,
            "margin": null,
            "max_height": null,
            "max_width": null,
            "min_height": null,
            "min_width": null,
            "object_fit": null,
            "object_position": null,
            "order": null,
            "overflow": null,
            "overflow_x": null,
            "overflow_y": null,
            "padding": null,
            "right": null,
            "top": null,
            "visibility": null,
            "width": null
          }
        },
        "a9a2f386b2614518be6815ab03b7ef9a": {
          "model_module": "@jupyter-widgets/controls",
          "model_name": "DescriptionStyleModel",
          "model_module_version": "1.5.0",
          "state": {
            "_model_module": "@jupyter-widgets/controls",
            "_model_module_version": "1.5.0",
            "_model_name": "DescriptionStyleModel",
            "_view_count": null,
            "_view_module": "@jupyter-widgets/base",
            "_view_module_version": "1.2.0",
            "_view_name": "StyleView",
            "description_width": ""
          }
        },
        "73b5fb3073834916a783a0a9cc75f4aa": {
          "model_module": "@jupyter-widgets/controls",
          "model_name": "HBoxModel",
          "model_module_version": "1.5.0",
          "state": {
            "_dom_classes": [],
            "_model_module": "@jupyter-widgets/controls",
            "_model_module_version": "1.5.0",
            "_model_name": "HBoxModel",
            "_view_count": null,
            "_view_module": "@jupyter-widgets/controls",
            "_view_module_version": "1.5.0",
            "_view_name": "HBoxView",
            "box_style": "",
            "children": [
              "IPY_MODEL_c0351e1d522b40358f0fa5816b278b67",
              "IPY_MODEL_9ab8b504082e46fe9fa09e30d0ccd072",
              "IPY_MODEL_8f5d23ab8f2e421888e2b4a9ea804f5b"
            ],
            "layout": "IPY_MODEL_943e509306214ee3924d5df8f5b0374d"
          }
        },
        "c0351e1d522b40358f0fa5816b278b67": {
          "model_module": "@jupyter-widgets/controls",
          "model_name": "HTMLModel",
          "model_module_version": "1.5.0",
          "state": {
            "_dom_classes": [],
            "_model_module": "@jupyter-widgets/controls",
            "_model_module_version": "1.5.0",
            "_model_name": "HTMLModel",
            "_view_count": null,
            "_view_module": "@jupyter-widgets/controls",
            "_view_module_version": "1.5.0",
            "_view_name": "HTMLView",
            "description": "",
            "description_tooltip": null,
            "layout": "IPY_MODEL_5cf21519f0f243869e912b383d688d5c",
            "placeholder": "​",
            "style": "IPY_MODEL_5fe82aca840943d3bdb9e553952b0283",
            "value": "model-00001-of-00002.safetensors: 100%"
          }
        },
        "9ab8b504082e46fe9fa09e30d0ccd072": {
          "model_module": "@jupyter-widgets/controls",
          "model_name": "FloatProgressModel",
          "model_module_version": "1.5.0",
          "state": {
            "_dom_classes": [],
            "_model_module": "@jupyter-widgets/controls",
            "_model_module_version": "1.5.0",
            "_model_name": "FloatProgressModel",
            "_view_count": null,
            "_view_module": "@jupyter-widgets/controls",
            "_view_module_version": "1.5.0",
            "_view_name": "ProgressView",
            "bar_style": "success",
            "description": "",
            "description_tooltip": null,
            "layout": "IPY_MODEL_523c81fee9ec4653802b5dfd6531579e",
            "max": 4988025760,
            "min": 0,
            "orientation": "horizontal",
            "style": "IPY_MODEL_a086e2881fa24d7b9dda775173914289",
            "value": 4988025760
          }
        },
        "8f5d23ab8f2e421888e2b4a9ea804f5b": {
          "model_module": "@jupyter-widgets/controls",
          "model_name": "HTMLModel",
          "model_module_version": "1.5.0",
          "state": {
            "_dom_classes": [],
            "_model_module": "@jupyter-widgets/controls",
            "_model_module_version": "1.5.0",
            "_model_name": "HTMLModel",
            "_view_count": null,
            "_view_module": "@jupyter-widgets/controls",
            "_view_module_version": "1.5.0",
            "_view_name": "HTMLView",
            "description": "",
            "description_tooltip": null,
            "layout": "IPY_MODEL_286b56a30be84f748faeb01e2df4a970",
            "placeholder": "​",
            "style": "IPY_MODEL_875d076503fb4f828f4334ba9909efbe",
            "value": " 4.99G/4.99G [01:57&lt;00:00, 42.5MB/s]"
          }
        },
        "943e509306214ee3924d5df8f5b0374d": {
          "model_module": "@jupyter-widgets/base",
          "model_name": "LayoutModel",
          "model_module_version": "1.2.0",
          "state": {
            "_model_module": "@jupyter-widgets/base",
            "_model_module_version": "1.2.0",
            "_model_name": "LayoutModel",
            "_view_count": null,
            "_view_module": "@jupyter-widgets/base",
            "_view_module_version": "1.2.0",
            "_view_name": "LayoutView",
            "align_content": null,
            "align_items": null,
            "align_self": null,
            "border": null,
            "bottom": null,
            "display": null,
            "flex": null,
            "flex_flow": null,
            "grid_area": null,
            "grid_auto_columns": null,
            "grid_auto_flow": null,
            "grid_auto_rows": null,
            "grid_column": null,
            "grid_gap": null,
            "grid_row": null,
            "grid_template_areas": null,
            "grid_template_columns": null,
            "grid_template_rows": null,
            "height": null,
            "justify_content": null,
            "justify_items": null,
            "left": null,
            "margin": null,
            "max_height": null,
            "max_width": null,
            "min_height": null,
            "min_width": null,
            "object_fit": null,
            "object_position": null,
            "order": null,
            "overflow": null,
            "overflow_x": null,
            "overflow_y": null,
            "padding": null,
            "right": null,
            "top": null,
            "visibility": null,
            "width": null
          }
        },
        "5cf21519f0f243869e912b383d688d5c": {
          "model_module": "@jupyter-widgets/base",
          "model_name": "LayoutModel",
          "model_module_version": "1.2.0",
          "state": {
            "_model_module": "@jupyter-widgets/base",
            "_model_module_version": "1.2.0",
            "_model_name": "LayoutModel",
            "_view_count": null,
            "_view_module": "@jupyter-widgets/base",
            "_view_module_version": "1.2.0",
            "_view_name": "LayoutView",
            "align_content": null,
            "align_items": null,
            "align_self": null,
            "border": null,
            "bottom": null,
            "display": null,
            "flex": null,
            "flex_flow": null,
            "grid_area": null,
            "grid_auto_columns": null,
            "grid_auto_flow": null,
            "grid_auto_rows": null,
            "grid_column": null,
            "grid_gap": null,
            "grid_row": null,
            "grid_template_areas": null,
            "grid_template_columns": null,
            "grid_template_rows": null,
            "height": null,
            "justify_content": null,
            "justify_items": null,
            "left": null,
            "margin": null,
            "max_height": null,
            "max_width": null,
            "min_height": null,
            "min_width": null,
            "object_fit": null,
            "object_position": null,
            "order": null,
            "overflow": null,
            "overflow_x": null,
            "overflow_y": null,
            "padding": null,
            "right": null,
            "top": null,
            "visibility": null,
            "width": null
          }
        },
        "5fe82aca840943d3bdb9e553952b0283": {
          "model_module": "@jupyter-widgets/controls",
          "model_name": "DescriptionStyleModel",
          "model_module_version": "1.5.0",
          "state": {
            "_model_module": "@jupyter-widgets/controls",
            "_model_module_version": "1.5.0",
            "_model_name": "DescriptionStyleModel",
            "_view_count": null,
            "_view_module": "@jupyter-widgets/base",
            "_view_module_version": "1.2.0",
            "_view_name": "StyleView",
            "description_width": ""
          }
        },
        "523c81fee9ec4653802b5dfd6531579e": {
          "model_module": "@jupyter-widgets/base",
          "model_name": "LayoutModel",
          "model_module_version": "1.2.0",
          "state": {
            "_model_module": "@jupyter-widgets/base",
            "_model_module_version": "1.2.0",
            "_model_name": "LayoutModel",
            "_view_count": null,
            "_view_module": "@jupyter-widgets/base",
            "_view_module_version": "1.2.0",
            "_view_name": "LayoutView",
            "align_content": null,
            "align_items": null,
            "align_self": null,
            "border": null,
            "bottom": null,
            "display": null,
            "flex": null,
            "flex_flow": null,
            "grid_area": null,
            "grid_auto_columns": null,
            "grid_auto_flow": null,
            "grid_auto_rows": null,
            "grid_column": null,
            "grid_gap": null,
            "grid_row": null,
            "grid_template_areas": null,
            "grid_template_columns": null,
            "grid_template_rows": null,
            "height": null,
            "justify_content": null,
            "justify_items": null,
            "left": null,
            "margin": null,
            "max_height": null,
            "max_width": null,
            "min_height": null,
            "min_width": null,
            "object_fit": null,
            "object_position": null,
            "order": null,
            "overflow": null,
            "overflow_x": null,
            "overflow_y": null,
            "padding": null,
            "right": null,
            "top": null,
            "visibility": null,
            "width": null
          }
        },
        "a086e2881fa24d7b9dda775173914289": {
          "model_module": "@jupyter-widgets/controls",
          "model_name": "ProgressStyleModel",
          "model_module_version": "1.5.0",
          "state": {
            "_model_module": "@jupyter-widgets/controls",
            "_model_module_version": "1.5.0",
            "_model_name": "ProgressStyleModel",
            "_view_count": null,
            "_view_module": "@jupyter-widgets/base",
            "_view_module_version": "1.2.0",
            "_view_name": "StyleView",
            "bar_color": null,
            "description_width": ""
          }
        },
        "286b56a30be84f748faeb01e2df4a970": {
          "model_module": "@jupyter-widgets/base",
          "model_name": "LayoutModel",
          "model_module_version": "1.2.0",
          "state": {
            "_model_module": "@jupyter-widgets/base",
            "_model_module_version": "1.2.0",
            "_model_name": "LayoutModel",
            "_view_count": null,
            "_view_module": "@jupyter-widgets/base",
            "_view_module_version": "1.2.0",
            "_view_name": "LayoutView",
            "align_content": null,
            "align_items": null,
            "align_self": null,
            "border": null,
            "bottom": null,
            "display": null,
            "flex": null,
            "flex_flow": null,
            "grid_area": null,
            "grid_auto_columns": null,
            "grid_auto_flow": null,
            "grid_auto_rows": null,
            "grid_column": null,
            "grid_gap": null,
            "grid_row": null,
            "grid_template_areas": null,
            "grid_template_columns": null,
            "grid_template_rows": null,
            "height": null,
            "justify_content": null,
            "justify_items": null,
            "left": null,
            "margin": null,
            "max_height": null,
            "max_width": null,
            "min_height": null,
            "min_width": null,
            "object_fit": null,
            "object_position": null,
            "order": null,
            "overflow": null,
            "overflow_x": null,
            "overflow_y": null,
            "padding": null,
            "right": null,
            "top": null,
            "visibility": null,
            "width": null
          }
        },
        "875d076503fb4f828f4334ba9909efbe": {
          "model_module": "@jupyter-widgets/controls",
          "model_name": "DescriptionStyleModel",
          "model_module_version": "1.5.0",
          "state": {
            "_model_module": "@jupyter-widgets/controls",
            "_model_module_version": "1.5.0",
            "_model_name": "DescriptionStyleModel",
            "_view_count": null,
            "_view_module": "@jupyter-widgets/base",
            "_view_module_version": "1.2.0",
            "_view_name": "StyleView",
            "description_width": ""
          }
        },
        "f6ad77667b084f1880eb8572dfd3c304": {
          "model_module": "@jupyter-widgets/controls",
          "model_name": "HBoxModel",
          "model_module_version": "1.5.0",
          "state": {
            "_dom_classes": [],
            "_model_module": "@jupyter-widgets/controls",
            "_model_module_version": "1.5.0",
            "_model_name": "HBoxModel",
            "_view_count": null,
            "_view_module": "@jupyter-widgets/controls",
            "_view_module_version": "1.5.0",
            "_view_name": "HBoxView",
            "box_style": "",
            "children": [
              "IPY_MODEL_771fb4e976684a32b715a36567eb4d15",
              "IPY_MODEL_90b3394eb0cc4bceba60c40ead759b3c",
              "IPY_MODEL_60aed0f7feee44db936635767275df1d"
            ],
            "layout": "IPY_MODEL_165dc87927674750969701bd8f7c0841"
          }
        },
        "771fb4e976684a32b715a36567eb4d15": {
          "model_module": "@jupyter-widgets/controls",
          "model_name": "HTMLModel",
          "model_module_version": "1.5.0",
          "state": {
            "_dom_classes": [],
            "_model_module": "@jupyter-widgets/controls",
            "_model_module_version": "1.5.0",
            "_model_name": "HTMLModel",
            "_view_count": null,
            "_view_module": "@jupyter-widgets/controls",
            "_view_module_version": "1.5.0",
            "_view_name": "HTMLView",
            "description": "",
            "description_tooltip": null,
            "layout": "IPY_MODEL_6fde7a9e26c4416cb7cdf86c654de01b",
            "placeholder": "​",
            "style": "IPY_MODEL_f2d21c5cd9a4407a90ef4bfbcbe3ce1b",
            "value": "model-00002-of-00002.safetensors: 100%"
          }
        },
        "90b3394eb0cc4bceba60c40ead759b3c": {
          "model_module": "@jupyter-widgets/controls",
          "model_name": "FloatProgressModel",
          "model_module_version": "1.5.0",
          "state": {
            "_dom_classes": [],
            "_model_module": "@jupyter-widgets/controls",
            "_model_module_version": "1.5.0",
            "_model_name": "FloatProgressModel",
            "_view_count": null,
            "_view_module": "@jupyter-widgets/controls",
            "_view_module_version": "1.5.0",
            "_view_name": "ProgressView",
            "bar_style": "success",
            "description": "",
            "description_tooltip": null,
            "layout": "IPY_MODEL_36db18efe5a74a398ff948671dc68fb5",
            "max": 240691728,
            "min": 0,
            "orientation": "horizontal",
            "style": "IPY_MODEL_f325307042c84ce6ae25e4be6a30f5de",
            "value": 240691728
          }
        },
        "60aed0f7feee44db936635767275df1d": {
          "model_module": "@jupyter-widgets/controls",
          "model_name": "HTMLModel",
          "model_module_version": "1.5.0",
          "state": {
            "_dom_classes": [],
            "_model_module": "@jupyter-widgets/controls",
            "_model_module_version": "1.5.0",
            "_model_name": "HTMLModel",
            "_view_count": null,
            "_view_module": "@jupyter-widgets/controls",
            "_view_module_version": "1.5.0",
            "_view_name": "HTMLView",
            "description": "",
            "description_tooltip": null,
            "layout": "IPY_MODEL_b3e9d21c1ba34cc19da18835953f8c61",
            "placeholder": "​",
            "style": "IPY_MODEL_5839c9ec4df7454487ccd513c2526cc0",
            "value": " 241M/241M [00:05&lt;00:00, 43.1MB/s]"
          }
        },
        "165dc87927674750969701bd8f7c0841": {
          "model_module": "@jupyter-widgets/base",
          "model_name": "LayoutModel",
          "model_module_version": "1.2.0",
          "state": {
            "_model_module": "@jupyter-widgets/base",
            "_model_module_version": "1.2.0",
            "_model_name": "LayoutModel",
            "_view_count": null,
            "_view_module": "@jupyter-widgets/base",
            "_view_module_version": "1.2.0",
            "_view_name": "LayoutView",
            "align_content": null,
            "align_items": null,
            "align_self": null,
            "border": null,
            "bottom": null,
            "display": null,
            "flex": null,
            "flex_flow": null,
            "grid_area": null,
            "grid_auto_columns": null,
            "grid_auto_flow": null,
            "grid_auto_rows": null,
            "grid_column": null,
            "grid_gap": null,
            "grid_row": null,
            "grid_template_areas": null,
            "grid_template_columns": null,
            "grid_template_rows": null,
            "height": null,
            "justify_content": null,
            "justify_items": null,
            "left": null,
            "margin": null,
            "max_height": null,
            "max_width": null,
            "min_height": null,
            "min_width": null,
            "object_fit": null,
            "object_position": null,
            "order": null,
            "overflow": null,
            "overflow_x": null,
            "overflow_y": null,
            "padding": null,
            "right": null,
            "top": null,
            "visibility": null,
            "width": null
          }
        },
        "6fde7a9e26c4416cb7cdf86c654de01b": {
          "model_module": "@jupyter-widgets/base",
          "model_name": "LayoutModel",
          "model_module_version": "1.2.0",
          "state": {
            "_model_module": "@jupyter-widgets/base",
            "_model_module_version": "1.2.0",
            "_model_name": "LayoutModel",
            "_view_count": null,
            "_view_module": "@jupyter-widgets/base",
            "_view_module_version": "1.2.0",
            "_view_name": "LayoutView",
            "align_content": null,
            "align_items": null,
            "align_self": null,
            "border": null,
            "bottom": null,
            "display": null,
            "flex": null,
            "flex_flow": null,
            "grid_area": null,
            "grid_auto_columns": null,
            "grid_auto_flow": null,
            "grid_auto_rows": null,
            "grid_column": null,
            "grid_gap": null,
            "grid_row": null,
            "grid_template_areas": null,
            "grid_template_columns": null,
            "grid_template_rows": null,
            "height": null,
            "justify_content": null,
            "justify_items": null,
            "left": null,
            "margin": null,
            "max_height": null,
            "max_width": null,
            "min_height": null,
            "min_width": null,
            "object_fit": null,
            "object_position": null,
            "order": null,
            "overflow": null,
            "overflow_x": null,
            "overflow_y": null,
            "padding": null,
            "right": null,
            "top": null,
            "visibility": null,
            "width": null
          }
        },
        "f2d21c5cd9a4407a90ef4bfbcbe3ce1b": {
          "model_module": "@jupyter-widgets/controls",
          "model_name": "DescriptionStyleModel",
          "model_module_version": "1.5.0",
          "state": {
            "_model_module": "@jupyter-widgets/controls",
            "_model_module_version": "1.5.0",
            "_model_name": "DescriptionStyleModel",
            "_view_count": null,
            "_view_module": "@jupyter-widgets/base",
            "_view_module_version": "1.2.0",
            "_view_name": "StyleView",
            "description_width": ""
          }
        },
        "36db18efe5a74a398ff948671dc68fb5": {
          "model_module": "@jupyter-widgets/base",
          "model_name": "LayoutModel",
          "model_module_version": "1.2.0",
          "state": {
            "_model_module": "@jupyter-widgets/base",
            "_model_module_version": "1.2.0",
            "_model_name": "LayoutModel",
            "_view_count": null,
            "_view_module": "@jupyter-widgets/base",
            "_view_module_version": "1.2.0",
            "_view_name": "LayoutView",
            "align_content": null,
            "align_items": null,
            "align_self": null,
            "border": null,
            "bottom": null,
            "display": null,
            "flex": null,
            "flex_flow": null,
            "grid_area": null,
            "grid_auto_columns": null,
            "grid_auto_flow": null,
            "grid_auto_rows": null,
            "grid_column": null,
            "grid_gap": null,
            "grid_row": null,
            "grid_template_areas": null,
            "grid_template_columns": null,
            "grid_template_rows": null,
            "height": null,
            "justify_content": null,
            "justify_items": null,
            "left": null,
            "margin": null,
            "max_height": null,
            "max_width": null,
            "min_height": null,
            "min_width": null,
            "object_fit": null,
            "object_position": null,
            "order": null,
            "overflow": null,
            "overflow_x": null,
            "overflow_y": null,
            "padding": null,
            "right": null,
            "top": null,
            "visibility": null,
            "width": null
          }
        },
        "f325307042c84ce6ae25e4be6a30f5de": {
          "model_module": "@jupyter-widgets/controls",
          "model_name": "ProgressStyleModel",
          "model_module_version": "1.5.0",
          "state": {
            "_model_module": "@jupyter-widgets/controls",
            "_model_module_version": "1.5.0",
            "_model_name": "ProgressStyleModel",
            "_view_count": null,
            "_view_module": "@jupyter-widgets/base",
            "_view_module_version": "1.2.0",
            "_view_name": "StyleView",
            "bar_color": null,
            "description_width": ""
          }
        },
        "b3e9d21c1ba34cc19da18835953f8c61": {
          "model_module": "@jupyter-widgets/base",
          "model_name": "LayoutModel",
          "model_module_version": "1.2.0",
          "state": {
            "_model_module": "@jupyter-widgets/base",
            "_model_module_version": "1.2.0",
            "_model_name": "LayoutModel",
            "_view_count": null,
            "_view_module": "@jupyter-widgets/base",
            "_view_module_version": "1.2.0",
            "_view_name": "LayoutView",
            "align_content": null,
            "align_items": null,
            "align_self": null,
            "border": null,
            "bottom": null,
            "display": null,
            "flex": null,
            "flex_flow": null,
            "grid_area": null,
            "grid_auto_columns": null,
            "grid_auto_flow": null,
            "grid_auto_rows": null,
            "grid_column": null,
            "grid_gap": null,
            "grid_row": null,
            "grid_template_areas": null,
            "grid_template_columns": null,
            "grid_template_rows": null,
            "height": null,
            "justify_content": null,
            "justify_items": null,
            "left": null,
            "margin": null,
            "max_height": null,
            "max_width": null,
            "min_height": null,
            "min_width": null,
            "object_fit": null,
            "object_position": null,
            "order": null,
            "overflow": null,
            "overflow_x": null,
            "overflow_y": null,
            "padding": null,
            "right": null,
            "top": null,
            "visibility": null,
            "width": null
          }
        },
        "5839c9ec4df7454487ccd513c2526cc0": {
          "model_module": "@jupyter-widgets/controls",
          "model_name": "DescriptionStyleModel",
          "model_module_version": "1.5.0",
          "state": {
            "_model_module": "@jupyter-widgets/controls",
            "_model_module_version": "1.5.0",
            "_model_name": "DescriptionStyleModel",
            "_view_count": null,
            "_view_module": "@jupyter-widgets/base",
            "_view_module_version": "1.2.0",
            "_view_name": "StyleView",
            "description_width": ""
          }
        },
        "b4318ca76a8e4327aa172209c104ad25": {
          "model_module": "@jupyter-widgets/controls",
          "model_name": "HBoxModel",
          "model_module_version": "1.5.0",
          "state": {
            "_dom_classes": [],
            "_model_module": "@jupyter-widgets/controls",
            "_model_module_version": "1.5.0",
            "_model_name": "HBoxModel",
            "_view_count": null,
            "_view_module": "@jupyter-widgets/controls",
            "_view_module_version": "1.5.0",
            "_view_name": "HBoxView",
            "box_style": "",
            "children": [
              "IPY_MODEL_fc59a1a7a637470ca1b2a9dc91d8b746",
              "IPY_MODEL_2b08036e7a2843f391c3e14300a2dabd",
              "IPY_MODEL_954f628e9e5c4e1b9a0974b9b1ca25c6"
            ],
            "layout": "IPY_MODEL_35a018c7617341bb80936bab4a4d156f"
          }
        },
        "fc59a1a7a637470ca1b2a9dc91d8b746": {
          "model_module": "@jupyter-widgets/controls",
          "model_name": "HTMLModel",
          "model_module_version": "1.5.0",
          "state": {
            "_dom_classes": [],
            "_model_module": "@jupyter-widgets/controls",
            "_model_module_version": "1.5.0",
            "_model_name": "HTMLModel",
            "_view_count": null,
            "_view_module": "@jupyter-widgets/controls",
            "_view_module_version": "1.5.0",
            "_view_name": "HTMLView",
            "description": "",
            "description_tooltip": null,
            "layout": "IPY_MODEL_7cf883e0a6a04f26b3041f5fa73757be",
            "placeholder": "​",
            "style": "IPY_MODEL_3a8641bfa7034c33a6d3ff553f5d2635",
            "value": "Loading checkpoint shards: 100%"
          }
        },
        "2b08036e7a2843f391c3e14300a2dabd": {
          "model_module": "@jupyter-widgets/controls",
          "model_name": "FloatProgressModel",
          "model_module_version": "1.5.0",
          "state": {
            "_dom_classes": [],
            "_model_module": "@jupyter-widgets/controls",
            "_model_module_version": "1.5.0",
            "_model_name": "FloatProgressModel",
            "_view_count": null,
            "_view_module": "@jupyter-widgets/controls",
            "_view_module_version": "1.5.0",
            "_view_name": "ProgressView",
            "bar_style": "success",
            "description": "",
            "description_tooltip": null,
            "layout": "IPY_MODEL_a23099f325dd4b83a9c4a960b7b556e2",
            "max": 2,
            "min": 0,
            "orientation": "horizontal",
            "style": "IPY_MODEL_58acde42b209491db767ea92c586787d",
            "value": 2
          }
        },
        "954f628e9e5c4e1b9a0974b9b1ca25c6": {
          "model_module": "@jupyter-widgets/controls",
          "model_name": "HTMLModel",
          "model_module_version": "1.5.0",
          "state": {
            "_dom_classes": [],
            "_model_module": "@jupyter-widgets/controls",
            "_model_module_version": "1.5.0",
            "_model_name": "HTMLModel",
            "_view_count": null,
            "_view_module": "@jupyter-widgets/controls",
            "_view_module_version": "1.5.0",
            "_view_name": "HTMLView",
            "description": "",
            "description_tooltip": null,
            "layout": "IPY_MODEL_e98a480cb7ff439199570b2c60a868fd",
            "placeholder": "​",
            "style": "IPY_MODEL_c3275dd413524f0889e70ba40d0dd105",
            "value": " 2/2 [00:24&lt;00:00, 10.32s/it]"
          }
        },
        "35a018c7617341bb80936bab4a4d156f": {
          "model_module": "@jupyter-widgets/base",
          "model_name": "LayoutModel",
          "model_module_version": "1.2.0",
          "state": {
            "_model_module": "@jupyter-widgets/base",
            "_model_module_version": "1.2.0",
            "_model_name": "LayoutModel",
            "_view_count": null,
            "_view_module": "@jupyter-widgets/base",
            "_view_module_version": "1.2.0",
            "_view_name": "LayoutView",
            "align_content": null,
            "align_items": null,
            "align_self": null,
            "border": null,
            "bottom": null,
            "display": null,
            "flex": null,
            "flex_flow": null,
            "grid_area": null,
            "grid_auto_columns": null,
            "grid_auto_flow": null,
            "grid_auto_rows": null,
            "grid_column": null,
            "grid_gap": null,
            "grid_row": null,
            "grid_template_areas": null,
            "grid_template_columns": null,
            "grid_template_rows": null,
            "height": null,
            "justify_content": null,
            "justify_items": null,
            "left": null,
            "margin": null,
            "max_height": null,
            "max_width": null,
            "min_height": null,
            "min_width": null,
            "object_fit": null,
            "object_position": null,
            "order": null,
            "overflow": null,
            "overflow_x": null,
            "overflow_y": null,
            "padding": null,
            "right": null,
            "top": null,
            "visibility": null,
            "width": null
          }
        },
        "7cf883e0a6a04f26b3041f5fa73757be": {
          "model_module": "@jupyter-widgets/base",
          "model_name": "LayoutModel",
          "model_module_version": "1.2.0",
          "state": {
            "_model_module": "@jupyter-widgets/base",
            "_model_module_version": "1.2.0",
            "_model_name": "LayoutModel",
            "_view_count": null,
            "_view_module": "@jupyter-widgets/base",
            "_view_module_version": "1.2.0",
            "_view_name": "LayoutView",
            "align_content": null,
            "align_items": null,
            "align_self": null,
            "border": null,
            "bottom": null,
            "display": null,
            "flex": null,
            "flex_flow": null,
            "grid_area": null,
            "grid_auto_columns": null,
            "grid_auto_flow": null,
            "grid_auto_rows": null,
            "grid_column": null,
            "grid_gap": null,
            "grid_row": null,
            "grid_template_areas": null,
            "grid_template_columns": null,
            "grid_template_rows": null,
            "height": null,
            "justify_content": null,
            "justify_items": null,
            "left": null,
            "margin": null,
            "max_height": null,
            "max_width": null,
            "min_height": null,
            "min_width": null,
            "object_fit": null,
            "object_position": null,
            "order": null,
            "overflow": null,
            "overflow_x": null,
            "overflow_y": null,
            "padding": null,
            "right": null,
            "top": null,
            "visibility": null,
            "width": null
          }
        },
        "3a8641bfa7034c33a6d3ff553f5d2635": {
          "model_module": "@jupyter-widgets/controls",
          "model_name": "DescriptionStyleModel",
          "model_module_version": "1.5.0",
          "state": {
            "_model_module": "@jupyter-widgets/controls",
            "_model_module_version": "1.5.0",
            "_model_name": "DescriptionStyleModel",
            "_view_count": null,
            "_view_module": "@jupyter-widgets/base",
            "_view_module_version": "1.2.0",
            "_view_name": "StyleView",
            "description_width": ""
          }
        },
        "a23099f325dd4b83a9c4a960b7b556e2": {
          "model_module": "@jupyter-widgets/base",
          "model_name": "LayoutModel",
          "model_module_version": "1.2.0",
          "state": {
            "_model_module": "@jupyter-widgets/base",
            "_model_module_version": "1.2.0",
            "_model_name": "LayoutModel",
            "_view_count": null,
            "_view_module": "@jupyter-widgets/base",
            "_view_module_version": "1.2.0",
            "_view_name": "LayoutView",
            "align_content": null,
            "align_items": null,
            "align_self": null,
            "border": null,
            "bottom": null,
            "display": null,
            "flex": null,
            "flex_flow": null,
            "grid_area": null,
            "grid_auto_columns": null,
            "grid_auto_flow": null,
            "grid_auto_rows": null,
            "grid_column": null,
            "grid_gap": null,
            "grid_row": null,
            "grid_template_areas": null,
            "grid_template_columns": null,
            "grid_template_rows": null,
            "height": null,
            "justify_content": null,
            "justify_items": null,
            "left": null,
            "margin": null,
            "max_height": null,
            "max_width": null,
            "min_height": null,
            "min_width": null,
            "object_fit": null,
            "object_position": null,
            "order": null,
            "overflow": null,
            "overflow_x": null,
            "overflow_y": null,
            "padding": null,
            "right": null,
            "top": null,
            "visibility": null,
            "width": null
          }
        },
        "58acde42b209491db767ea92c586787d": {
          "model_module": "@jupyter-widgets/controls",
          "model_name": "ProgressStyleModel",
          "model_module_version": "1.5.0",
          "state": {
            "_model_module": "@jupyter-widgets/controls",
            "_model_module_version": "1.5.0",
            "_model_name": "ProgressStyleModel",
            "_view_count": null,
            "_view_module": "@jupyter-widgets/base",
            "_view_module_version": "1.2.0",
            "_view_name": "StyleView",
            "bar_color": null,
            "description_width": ""
          }
        },
        "e98a480cb7ff439199570b2c60a868fd": {
          "model_module": "@jupyter-widgets/base",
          "model_name": "LayoutModel",
          "model_module_version": "1.2.0",
          "state": {
            "_model_module": "@jupyter-widgets/base",
            "_model_module_version": "1.2.0",
            "_model_name": "LayoutModel",
            "_view_count": null,
            "_view_module": "@jupyter-widgets/base",
            "_view_module_version": "1.2.0",
            "_view_name": "LayoutView",
            "align_content": null,
            "align_items": null,
            "align_self": null,
            "border": null,
            "bottom": null,
            "display": null,
            "flex": null,
            "flex_flow": null,
            "grid_area": null,
            "grid_auto_columns": null,
            "grid_auto_flow": null,
            "grid_auto_rows": null,
            "grid_column": null,
            "grid_gap": null,
            "grid_row": null,
            "grid_template_areas": null,
            "grid_template_columns": null,
            "grid_template_rows": null,
            "height": null,
            "justify_content": null,
            "justify_items": null,
            "left": null,
            "margin": null,
            "max_height": null,
            "max_width": null,
            "min_height": null,
            "min_width": null,
            "object_fit": null,
            "object_position": null,
            "order": null,
            "overflow": null,
            "overflow_x": null,
            "overflow_y": null,
            "padding": null,
            "right": null,
            "top": null,
            "visibility": null,
            "width": null
          }
        },
        "c3275dd413524f0889e70ba40d0dd105": {
          "model_module": "@jupyter-widgets/controls",
          "model_name": "DescriptionStyleModel",
          "model_module_version": "1.5.0",
          "state": {
            "_model_module": "@jupyter-widgets/controls",
            "_model_module_version": "1.5.0",
            "_model_name": "DescriptionStyleModel",
            "_view_count": null,
            "_view_module": "@jupyter-widgets/base",
            "_view_module_version": "1.2.0",
            "_view_name": "StyleView",
            "description_width": ""
          }
        },
        "010ddafa595642c0a0fd96177be6513a": {
          "model_module": "@jupyter-widgets/controls",
          "model_name": "HBoxModel",
          "model_module_version": "1.5.0",
          "state": {
            "_dom_classes": [],
            "_model_module": "@jupyter-widgets/controls",
            "_model_module_version": "1.5.0",
            "_model_name": "HBoxModel",
            "_view_count": null,
            "_view_module": "@jupyter-widgets/controls",
            "_view_module_version": "1.5.0",
            "_view_name": "HBoxView",
            "box_style": "",
            "children": [
              "IPY_MODEL_9e34984d7aea470e848dfa75c035808f",
              "IPY_MODEL_8306d03f550645de89a3f5e1f45240ce",
              "IPY_MODEL_2b893c4d7d374436bf6f2ab4b7aab9bd"
            ],
            "layout": "IPY_MODEL_4ce43347bf094c70bc275a2d16a3ac66"
          }
        },
        "9e34984d7aea470e848dfa75c035808f": {
          "model_module": "@jupyter-widgets/controls",
          "model_name": "HTMLModel",
          "model_module_version": "1.5.0",
          "state": {
            "_dom_classes": [],
            "_model_module": "@jupyter-widgets/controls",
            "_model_module_version": "1.5.0",
            "_model_name": "HTMLModel",
            "_view_count": null,
            "_view_module": "@jupyter-widgets/controls",
            "_view_module_version": "1.5.0",
            "_view_name": "HTMLView",
            "description": "",
            "description_tooltip": null,
            "layout": "IPY_MODEL_727e306696324de1b0224516e0161711",
            "placeholder": "​",
            "style": "IPY_MODEL_50935d177cf44f2a8dcf3a71799981f4",
            "value": "generation_config.json: 100%"
          }
        },
        "8306d03f550645de89a3f5e1f45240ce": {
          "model_module": "@jupyter-widgets/controls",
          "model_name": "FloatProgressModel",
          "model_module_version": "1.5.0",
          "state": {
            "_dom_classes": [],
            "_model_module": "@jupyter-widgets/controls",
            "_model_module_version": "1.5.0",
            "_model_name": "FloatProgressModel",
            "_view_count": null,
            "_view_module": "@jupyter-widgets/controls",
            "_view_module_version": "1.5.0",
            "_view_name": "ProgressView",
            "bar_style": "success",
            "description": "",
            "description_tooltip": null,
            "layout": "IPY_MODEL_c9f8ff3183ff4063b04d7382dc7a7bf8",
            "max": 187,
            "min": 0,
            "orientation": "horizontal",
            "style": "IPY_MODEL_3ce0955fd348418bb65ec7325c2ee8d3",
            "value": 187
          }
        },
        "2b893c4d7d374436bf6f2ab4b7aab9bd": {
          "model_module": "@jupyter-widgets/controls",
          "model_name": "HTMLModel",
          "model_module_version": "1.5.0",
          "state": {
            "_dom_classes": [],
            "_model_module": "@jupyter-widgets/controls",
            "_model_module_version": "1.5.0",
            "_model_name": "HTMLModel",
            "_view_count": null,
            "_view_module": "@jupyter-widgets/controls",
            "_view_module_version": "1.5.0",
            "_view_name": "HTMLView",
            "description": "",
            "description_tooltip": null,
            "layout": "IPY_MODEL_1589f6dfe6bc420584daa3f34253eb1e",
            "placeholder": "​",
            "style": "IPY_MODEL_24738c0ee6c0494d9aa0a4abd767522b",
            "value": " 187/187 [00:00&lt;00:00, 14.3kB/s]"
          }
        },
        "4ce43347bf094c70bc275a2d16a3ac66": {
          "model_module": "@jupyter-widgets/base",
          "model_name": "LayoutModel",
          "model_module_version": "1.2.0",
          "state": {
            "_model_module": "@jupyter-widgets/base",
            "_model_module_version": "1.2.0",
            "_model_name": "LayoutModel",
            "_view_count": null,
            "_view_module": "@jupyter-widgets/base",
            "_view_module_version": "1.2.0",
            "_view_name": "LayoutView",
            "align_content": null,
            "align_items": null,
            "align_self": null,
            "border": null,
            "bottom": null,
            "display": null,
            "flex": null,
            "flex_flow": null,
            "grid_area": null,
            "grid_auto_columns": null,
            "grid_auto_flow": null,
            "grid_auto_rows": null,
            "grid_column": null,
            "grid_gap": null,
            "grid_row": null,
            "grid_template_areas": null,
            "grid_template_columns": null,
            "grid_template_rows": null,
            "height": null,
            "justify_content": null,
            "justify_items": null,
            "left": null,
            "margin": null,
            "max_height": null,
            "max_width": null,
            "min_height": null,
            "min_width": null,
            "object_fit": null,
            "object_position": null,
            "order": null,
            "overflow": null,
            "overflow_x": null,
            "overflow_y": null,
            "padding": null,
            "right": null,
            "top": null,
            "visibility": null,
            "width": null
          }
        },
        "727e306696324de1b0224516e0161711": {
          "model_module": "@jupyter-widgets/base",
          "model_name": "LayoutModel",
          "model_module_version": "1.2.0",
          "state": {
            "_model_module": "@jupyter-widgets/base",
            "_model_module_version": "1.2.0",
            "_model_name": "LayoutModel",
            "_view_count": null,
            "_view_module": "@jupyter-widgets/base",
            "_view_module_version": "1.2.0",
            "_view_name": "LayoutView",
            "align_content": null,
            "align_items": null,
            "align_self": null,
            "border": null,
            "bottom": null,
            "display": null,
            "flex": null,
            "flex_flow": null,
            "grid_area": null,
            "grid_auto_columns": null,
            "grid_auto_flow": null,
            "grid_auto_rows": null,
            "grid_column": null,
            "grid_gap": null,
            "grid_row": null,
            "grid_template_areas": null,
            "grid_template_columns": null,
            "grid_template_rows": null,
            "height": null,
            "justify_content": null,
            "justify_items": null,
            "left": null,
            "margin": null,
            "max_height": null,
            "max_width": null,
            "min_height": null,
            "min_width": null,
            "object_fit": null,
            "object_position": null,
            "order": null,
            "overflow": null,
            "overflow_x": null,
            "overflow_y": null,
            "padding": null,
            "right": null,
            "top": null,
            "visibility": null,
            "width": null
          }
        },
        "50935d177cf44f2a8dcf3a71799981f4": {
          "model_module": "@jupyter-widgets/controls",
          "model_name": "DescriptionStyleModel",
          "model_module_version": "1.5.0",
          "state": {
            "_model_module": "@jupyter-widgets/controls",
            "_model_module_version": "1.5.0",
            "_model_name": "DescriptionStyleModel",
            "_view_count": null,
            "_view_module": "@jupyter-widgets/base",
            "_view_module_version": "1.2.0",
            "_view_name": "StyleView",
            "description_width": ""
          }
        },
        "c9f8ff3183ff4063b04d7382dc7a7bf8": {
          "model_module": "@jupyter-widgets/base",
          "model_name": "LayoutModel",
          "model_module_version": "1.2.0",
          "state": {
            "_model_module": "@jupyter-widgets/base",
            "_model_module_version": "1.2.0",
            "_model_name": "LayoutModel",
            "_view_count": null,
            "_view_module": "@jupyter-widgets/base",
            "_view_module_version": "1.2.0",
            "_view_name": "LayoutView",
            "align_content": null,
            "align_items": null,
            "align_self": null,
            "border": null,
            "bottom": null,
            "display": null,
            "flex": null,
            "flex_flow": null,
            "grid_area": null,
            "grid_auto_columns": null,
            "grid_auto_flow": null,
            "grid_auto_rows": null,
            "grid_column": null,
            "grid_gap": null,
            "grid_row": null,
            "grid_template_areas": null,
            "grid_template_columns": null,
            "grid_template_rows": null,
            "height": null,
            "justify_content": null,
            "justify_items": null,
            "left": null,
            "margin": null,
            "max_height": null,
            "max_width": null,
            "min_height": null,
            "min_width": null,
            "object_fit": null,
            "object_position": null,
            "order": null,
            "overflow": null,
            "overflow_x": null,
            "overflow_y": null,
            "padding": null,
            "right": null,
            "top": null,
            "visibility": null,
            "width": null
          }
        },
        "3ce0955fd348418bb65ec7325c2ee8d3": {
          "model_module": "@jupyter-widgets/controls",
          "model_name": "ProgressStyleModel",
          "model_module_version": "1.5.0",
          "state": {
            "_model_module": "@jupyter-widgets/controls",
            "_model_module_version": "1.5.0",
            "_model_name": "ProgressStyleModel",
            "_view_count": null,
            "_view_module": "@jupyter-widgets/base",
            "_view_module_version": "1.2.0",
            "_view_name": "StyleView",
            "bar_color": null,
            "description_width": ""
          }
        },
        "1589f6dfe6bc420584daa3f34253eb1e": {
          "model_module": "@jupyter-widgets/base",
          "model_name": "LayoutModel",
          "model_module_version": "1.2.0",
          "state": {
            "_model_module": "@jupyter-widgets/base",
            "_model_module_version": "1.2.0",
            "_model_name": "LayoutModel",
            "_view_count": null,
            "_view_module": "@jupyter-widgets/base",
            "_view_module_version": "1.2.0",
            "_view_name": "LayoutView",
            "align_content": null,
            "align_items": null,
            "align_self": null,
            "border": null,
            "bottom": null,
            "display": null,
            "flex": null,
            "flex_flow": null,
            "grid_area": null,
            "grid_auto_columns": null,
            "grid_auto_flow": null,
            "grid_auto_rows": null,
            "grid_column": null,
            "grid_gap": null,
            "grid_row": null,
            "grid_template_areas": null,
            "grid_template_columns": null,
            "grid_template_rows": null,
            "height": null,
            "justify_content": null,
            "justify_items": null,
            "left": null,
            "margin": null,
            "max_height": null,
            "max_width": null,
            "min_height": null,
            "min_width": null,
            "object_fit": null,
            "object_position": null,
            "order": null,
            "overflow": null,
            "overflow_x": null,
            "overflow_y": null,
            "padding": null,
            "right": null,
            "top": null,
            "visibility": null,
            "width": null
          }
        },
        "24738c0ee6c0494d9aa0a4abd767522b": {
          "model_module": "@jupyter-widgets/controls",
          "model_name": "DescriptionStyleModel",
          "model_module_version": "1.5.0",
          "state": {
            "_model_module": "@jupyter-widgets/controls",
            "_model_module_version": "1.5.0",
            "_model_name": "DescriptionStyleModel",
            "_view_count": null,
            "_view_module": "@jupyter-widgets/base",
            "_view_module_version": "1.2.0",
            "_view_name": "StyleView",
            "description_width": ""
          }
        }
      }
    }
  },
  "cells": [
    {
      "cell_type": "markdown",
      "metadata": {
        "id": "view-in-github",
        "colab_type": "text"
      },
      "source": [
        "<a href=\"https://colab.research.google.com/github/jingtang10/odhs-genai/blob/main/%5BODHS_D2_T1_05A_CL2_2%5D_Gemma_WHO_ANC_Guidelines_Eval.ipynb\" target=\"_parent\"><img src=\"https://colab.research.google.com/assets/colab-badge.svg\" alt=\"Open In Colab\"/></a>"
      ]
    },
    {
      "cell_type": "code",
      "execution_count": null,
      "metadata": {
        "id": "PtuG6XARTWCl"
      },
      "outputs": [],
      "source": []
    },
    {
      "cell_type": "markdown",
      "metadata": {
        "id": "a81P2IwkSFQJ"
      },
      "source": [
        "# Evaluation of Questions and Answers with Gemma"
      ]
    },
    {
      "cell_type": "markdown",
      "metadata": {
        "id": "coIQIy64Sch_"
      },
      "source": [
        "## Install required libraries"
      ]
    },
    {
      "cell_type": "code",
      "execution_count": null,
      "metadata": {
        "id": "YLs5yexHcmAF",
        "colab": {
          "base_uri": "https://localhost:8080/"
        },
        "outputId": "95faaa4c-4a19-4a70-dc02-0ed20181f003"
      },
      "outputs": [
        {
          "output_type": "stream",
          "name": "stdout",
          "text": [
            "\u001b[2K     \u001b[90m━━━━━━━━━━━━━━━━━━━━━━━━━━━━━━━━━━━━━━━━\u001b[0m \u001b[32m44.1/44.1 kB\u001b[0m \u001b[31m3.0 MB/s\u001b[0m eta \u001b[36m0:00:00\u001b[0m\n",
            "\u001b[2K   \u001b[90m━━━━━━━━━━━━━━━━━━━━━━━━━━━━━━━━━━━━━━━━\u001b[0m \u001b[32m10.0/10.0 MB\u001b[0m \u001b[31m84.8 MB/s\u001b[0m eta \u001b[36m0:00:00\u001b[0m\n",
            "\u001b[?25hRequirement already satisfied: accelerate>=0.26.0 in /usr/local/lib/python3.10/dist-packages (1.1.1)\n",
            "Requirement already satisfied: huggingface-hub>=0.21.0 in /usr/local/lib/python3.10/dist-packages (from accelerate>=0.26.0) (0.26.2)\n",
            "Requirement already satisfied: numpy<3.0.0,>=1.17 in /usr/local/lib/python3.10/dist-packages (from accelerate>=0.26.0) (1.26.4)\n",
            "Requirement already satisfied: packaging>=20.0 in /usr/local/lib/python3.10/dist-packages (from accelerate>=0.26.0) (24.2)\n",
            "Requirement already satisfied: psutil in /usr/local/lib/python3.10/dist-packages (from accelerate>=0.26.0) (5.9.5)\n",
            "Requirement already satisfied: pyyaml in /usr/local/lib/python3.10/dist-packages (from accelerate>=0.26.0) (6.0.2)\n",
            "Requirement already satisfied: safetensors>=0.4.3 in /usr/local/lib/python3.10/dist-packages (from accelerate>=0.26.0) (0.4.5)\n",
            "Requirement already satisfied: torch>=1.10.0 in /usr/local/lib/python3.10/dist-packages (from accelerate>=0.26.0) (2.5.1+cu121)\n",
            "Requirement already satisfied: filelock in /usr/local/lib/python3.10/dist-packages (from huggingface-hub>=0.21.0->accelerate>=0.26.0) (3.16.1)\n",
            "Requirement already satisfied: fsspec>=2023.5.0 in /usr/local/lib/python3.10/dist-packages (from huggingface-hub>=0.21.0->accelerate>=0.26.0) (2024.10.0)\n",
            "Requirement already satisfied: requests in /usr/local/lib/python3.10/dist-packages (from huggingface-hub>=0.21.0->accelerate>=0.26.0) (2.32.3)\n",
            "Requirement already satisfied: tqdm>=4.42.1 in /usr/local/lib/python3.10/dist-packages (from huggingface-hub>=0.21.0->accelerate>=0.26.0) (4.66.6)\n",
            "Requirement already satisfied: typing-extensions>=3.7.4.3 in /usr/local/lib/python3.10/dist-packages (from huggingface-hub>=0.21.0->accelerate>=0.26.0) (4.12.2)\n",
            "Requirement already satisfied: networkx in /usr/local/lib/python3.10/dist-packages (from torch>=1.10.0->accelerate>=0.26.0) (3.4.2)\n",
            "Requirement already satisfied: jinja2 in /usr/local/lib/python3.10/dist-packages (from torch>=1.10.0->accelerate>=0.26.0) (3.1.4)\n",
            "Requirement already satisfied: sympy==1.13.1 in /usr/local/lib/python3.10/dist-packages (from torch>=1.10.0->accelerate>=0.26.0) (1.13.1)\n",
            "Requirement already satisfied: mpmath<1.4,>=1.1.0 in /usr/local/lib/python3.10/dist-packages (from sympy==1.13.1->torch>=1.10.0->accelerate>=0.26.0) (1.3.0)\n",
            "Requirement already satisfied: MarkupSafe>=2.0 in /usr/local/lib/python3.10/dist-packages (from jinja2->torch>=1.10.0->accelerate>=0.26.0) (3.0.2)\n",
            "Requirement already satisfied: charset-normalizer<4,>=2 in /usr/local/lib/python3.10/dist-packages (from requests->huggingface-hub>=0.21.0->accelerate>=0.26.0) (3.4.0)\n",
            "Requirement already satisfied: idna<4,>=2.5 in /usr/local/lib/python3.10/dist-packages (from requests->huggingface-hub>=0.21.0->accelerate>=0.26.0) (3.10)\n",
            "Requirement already satisfied: urllib3<3,>=1.21.1 in /usr/local/lib/python3.10/dist-packages (from requests->huggingface-hub>=0.21.0->accelerate>=0.26.0) (2.2.3)\n",
            "Requirement already satisfied: certifi>=2017.4.17 in /usr/local/lib/python3.10/dist-packages (from requests->huggingface-hub>=0.21.0->accelerate>=0.26.0) (2024.8.30)\n"
          ]
        }
      ],
      "source": [
        "! pip install -qU google-generativeai\n",
        "! pip install -qU transformers\n",
        "! pip install 'accelerate>=0.26.0'"
      ]
    },
    {
      "cell_type": "code",
      "execution_count": null,
      "metadata": {
        "id": "ZHT4LjtVHWDe"
      },
      "outputs": [],
      "source": [
        "import os\n",
        "import textwrap\n",
        "import pandas as pd\n",
        "\n",
        "import google.generativeai as genai\n",
        "\n",
        "from typing import Union, List\n",
        "\n",
        "from google.api_core import retry, exceptions"
      ]
    },
    {
      "cell_type": "markdown",
      "metadata": {
        "id": "jHiL-wL-SxYI"
      },
      "source": [
        "## Import required libraries"
      ]
    },
    {
      "cell_type": "code",
      "execution_count": null,
      "metadata": {
        "id": "UhCCryX2SqFp"
      },
      "outputs": [],
      "source": [
        "import torch\n",
        "import re\n",
        "\n",
        "from transformers import AutoTokenizer, AutoModelForCausalLM"
      ]
    },
    {
      "cell_type": "markdown",
      "metadata": {
        "id": "jNRJJL-7UmKB"
      },
      "source": [
        "## Setup"
      ]
    },
    {
      "cell_type": "markdown",
      "metadata": {
        "id": "953sBZFlUpQP"
      },
      "source": [
        "### Select colab runtime"
      ]
    },
    {
      "cell_type": "markdown",
      "metadata": {
        "id": "Y9T8WsOpU3Kl"
      },
      "source": [
        "To complete this tutorial, you'll need to have a Colab runtime with sufficient resources to run the Gemma model. In this case, you can use a T4 GPU:\n",
        "\n",
        "\n",
        "1.   In the upper-right of the Colab window, select **▾ (Additional connection options).**\n",
        "2.   Select **Change runtime type.**\n",
        "3.   Under **Hardware accelerator**, select **T4 GPU**.\n",
        "\n"
      ]
    },
    {
      "cell_type": "markdown",
      "metadata": {
        "id": "ZQ9p0ItIVWu3"
      },
      "source": [
        "### Gemma setup\n"
      ]
    },
    {
      "cell_type": "markdown",
      "metadata": {
        "id": "G7oEqaIVVaVY"
      },
      "source": [
        "**Before you dive into the tutorial, let's get you set up with Gemma:**\n",
        "\n",
        "1. **Hugging Face Account:** If you don't already have one, you can create a free Hugging Face account by clicking here.\n",
        "2. **Gemma Model Access:** Head over to the [Gemma model page](https://huggingface.co/collections/google/gemma-2-release-667d6600fd5220e7b967f315) and accept the usage conditions.\n",
        "3. **Colab with Gemma Power:** For this tutorial, you'll need a Colab runtime with enough resources to handle the Gemma 2B model. Choose an appropriate runtime when starting your Colab session.\n",
        "4. **Hugging Face Token:** Generate a Hugging Face access (preferably write permission) token by clicking here. You'll need this token later in the tutorial.\n",
        "\n",
        "\n",
        "**Once you've completed these steps, you're ready to move on to the next section where you'll set up environment variables in your Colab environment.**"
      ]
    },
    {
      "cell_type": "markdown",
      "metadata": {
        "id": "CxGLmxvBV59o"
      },
      "source": [
        "### Configure your Hugging Face token\n"
      ]
    },
    {
      "cell_type": "markdown",
      "metadata": {
        "id": "yVE_xtNgW3bb"
      },
      "source": [
        "Add your Hugging Face token to the Colab Secrets manager to securely store it.\n",
        "\n",
        "1. Open your Google Colab notebook and click on the 🔑 Secrets tab in the left panel.\n",
        "2. Create a new secret with the name HF_TOKEN.\n",
        "3. Copy/paste your token key into the Value input box of HF_TOKEN.\n",
        "4. Toggle the button on the left to allow notebook access to the secret."
      ]
    },
    {
      "cell_type": "code",
      "execution_count": null,
      "metadata": {
        "id": "f0jnWxCPW2jI"
      },
      "outputs": [],
      "source": [
        "# import os\n",
        "from google.colab import userdata\n",
        "\n",
        "# Set the Hugging Face token as an environment variable\n",
        "os.environ[\"HF_TOKEN\"] = userdata.get(\"HF_TOKEN\")"
      ]
    },
    {
      "cell_type": "markdown",
      "metadata": {
        "id": "anfciaO9-IOV"
      },
      "source": [
        "### Logging into Hugging Face Hub"
      ]
    },
    {
      "cell_type": "markdown",
      "metadata": {
        "id": "7KiNALpa-R2q"
      },
      "source": [
        "Next, you'll have to log into the Hugging Face Hub using your access token. This will allow us to download the Gemma model."
      ]
    },
    {
      "cell_type": "code",
      "execution_count": null,
      "metadata": {
        "id": "98HcmRlsXtOq",
        "colab": {
          "base_uri": "https://localhost:8080/"
        },
        "outputId": "a91d8437-0d3c-40fd-9e63-2a1affe4af47"
      },
      "outputs": [
        {
          "output_type": "stream",
          "name": "stderr",
          "text": [
            "Note: Environment variable`HF_TOKEN` is set and is the current active token independently from the token you've just configured.\n",
            "WARNING:huggingface_hub._login:Note: Environment variable`HF_TOKEN` is set and is the current active token independently from the token you've just configured.\n"
          ]
        }
      ],
      "source": [
        "from huggingface_hub import login\n",
        "\n",
        "login(os.environ[\"HF_TOKEN\"])"
      ]
    },
    {
      "cell_type": "markdown",
      "metadata": {
        "id": "UuYbH59_6WNM"
      },
      "source": [
        "## Select the model"
      ]
    },
    {
      "cell_type": "code",
      "execution_count": null,
      "metadata": {
        "id": "ePR8gChT6t7y"
      },
      "outputs": [],
      "source": [
        "gemma_model_name = \"google/gemma-2-2b-it\" #@param [\"google/gemma-2-2b-it\",\"google/gemma-2-9b-it\"]"
      ]
    },
    {
      "cell_type": "markdown",
      "metadata": {
        "id": "VO5B-PuA1XNU"
      },
      "source": [
        "Every prompt you send to the model includes parameters that control how the model generates responses.\n",
        "\n",
        "- `temperature`: Controls the randomness of the model's output. A higher value (closer to 1) makes the output more diverse, while a lower value (closer to 0) makes it more focused and deterministic.\n",
        "- `top_p`: Implements nucleus sampling, which selects the smallest set of tokens whose cumulative probability is greater than or equal to this value (e.g., 0.95), promoting diversity by considering multiple tokens.\n",
        "- `max_new_tokens`: The maximum number of new tokens to generate in the model's output.\n",
        "- `repetition_penalty`: Penalizes the model for repeating tokens that have already been generated. A value above 1 discourages repetition.\n",
        "- `no_repeat_ngram_size`: Prevents the model from repeating phrases of this size (e.g., 2-gram means no repeated pairs of words).\n"
      ]
    },
    {
      "cell_type": "code",
      "execution_count": null,
      "metadata": {
        "cellView": "form",
        "id": "8Szqe0K0orOA"
      },
      "outputs": [],
      "source": [
        "temperature = 0.7 #@param {type:\"slider\", min:0, max:1, step:0.1}\n",
        "top_p = 0.95 #@param {type:\"slider\", min:0, max:1, step:0.05}\n",
        "max_new_tokens = 256 #@param {type:\"integer\"}\n",
        "repetition_penalty = 1.2 #@param {type:\"slider\", min:1, max:2, step:0.1}\n",
        "no_repeat_ngram_size = 2 #@param {type:\"integer\"}\n"
      ]
    },
    {
      "cell_type": "markdown",
      "metadata": {
        "id": "iiRcLHl0FYnt"
      },
      "source": [
        "### Utility Functions"
      ]
    },
    {
      "cell_type": "code",
      "execution_count": null,
      "metadata": {
        "id": "h_Jmya-ECWM-"
      },
      "outputs": [],
      "source": [
        "def model(model_name:str):\n",
        "  \"\"\"\n",
        "    Loads a tokenizer and model for a specified pre-trained causal language model.\n",
        "\n",
        "    Args:\n",
        "        model_name (str): The name or path of the pre-trained model to load.\n",
        "\n",
        "    Returns:\n",
        "        tuple: A tuple containing:\n",
        "            - tokenizer: The tokenizer corresponding to the specified model,\n",
        "              loaded using AutoTokenizer.\n",
        "            - model: The pre-trained causal language model loaded using AutoModelForCausalLM.\n",
        "\n",
        "    The model is loaded with automatic device mapping (i.e., device_map=\"auto\")\n",
        "    and uses bfloat16 precision (torch_dtype=torch.bfloat16).\n",
        "    \"\"\"\n",
        "  tokenizer = AutoTokenizer.from_pretrained(model_name)\n",
        "  model = AutoModelForCausalLM.from_pretrained(\n",
        "          model_name,\n",
        "          device_map=\"auto\",\n",
        "          torch_dtype=torch.bfloat16,)\n",
        "  return tokenizer, model"
      ]
    },
    {
      "cell_type": "code",
      "execution_count": null,
      "metadata": {
        "id": "8usTiWnFaEZz"
      },
      "outputs": [],
      "source": [
        "def generate(\n",
        "    model,\n",
        "    input_ids\n",
        ")-> torch.Tensor:\n",
        "  \"\"\"\n",
        "    Generates text using a pre-trained language model with customizable parameters.\n",
        "\n",
        "    Args:\n",
        "        model: The pre-trained language model used for text generation.\n",
        "        input_ids: The input tokens for the model, typically the tokenized input text.\n",
        "\n",
        "    Returns:\n",
        "        outputs: The generated text tokens from the model based on the given parameters.\n",
        "    \"\"\"\n",
        "  outputs = model.generate(**input_ids,\n",
        "                           max_new_tokens = max_new_tokens,\n",
        "                           temperature = temperature,\n",
        "                           top_p = top_p,\n",
        "                           repetition_penalty=repetition_penalty,\n",
        "                           no_repeat_ngram_size=no_repeat_ngram_size)\n",
        "  return outputs\n",
        "\n",
        "\n"
      ]
    },
    {
      "cell_type": "code",
      "execution_count": null,
      "metadata": {
        "id": "7i_vVapYinnQ"
      },
      "outputs": [],
      "source": [
        "def get_option_or_answer(\n",
        "    output,\n",
        "    item_type: str\n",
        ") -> str:\n",
        "    \"\"\"\n",
        "    Extracts and returns the option or answer from the provided text output based on the specified item type.\n",
        "\n",
        "    Args:\n",
        "        output (str): The output text containing the answer, assumed to have the format \"Answer: <content>\".\n",
        "        item_type (str): The type of item, either \"mcq\" for multiple-choice questions or \"sqa\" for short-answer questions.\n",
        "\n",
        "    Returns:\n",
        "        str: The extracted option (first character after \"Answer:\") if `item_type` is \"mcq\".\n",
        "             For \"sqa\", returns the full answer after \"Answer:\", with extra whitespace and asterisks removed.\n",
        "             If no answer is found for \"mcq\", returns \"None\".\n",
        "    \"\"\"\n",
        "    if item_type == \"mcq\":\n",
        "        option = output.split(\"Answer:\")[1].strip()\n",
        "        option = option.replace(\"*\", \"\")\n",
        "\n",
        "        if option == \"\":\n",
        "            return \"None\"\n",
        "\n",
        "        return option[0]\n",
        "    elif item_type == \"sqa\":\n",
        "        answer = output.split(\"Answer:\")[1].strip()\n",
        "        answer = answer.replace(\"\\n\", \" \")\n",
        "        answer = answer.replace(\"*\", \"\")\n",
        "        answer = \" \".join(answer.split())\n",
        "        return answer\n"
      ]
    },
    {
      "cell_type": "code",
      "execution_count": null,
      "metadata": {
        "id": "DxeaZsMfBW28"
      },
      "outputs": [],
      "source": [
        "def merge_df(sqa_eval_df: pd.DataFrame, sqa_eval_gemma_df: pd.DataFrame) -> pd.DataFrame:\n",
        "    \"\"\"\n",
        "    Merges two DataFrames containing evaluation results from different models (Gemini and Gemma 2b)\n",
        "    based on a common 'Question' column and returns the merged DataFrame.\n",
        "\n",
        "    Parameters:\n",
        "    ----------\n",
        "    sqa_eval_df : pd.DataFrame\n",
        "        The DataFrame containing evaluation data for the Gemini model.\n",
        "        Expected to have columns: 'Question', 'Grade', and 'Answer'.\n",
        "\n",
        "    sqa_eval_gemma_df : pd.DataFrame\n",
        "        The DataFrame containing evaluation data for the Gemma 2b model.\n",
        "        Expected to have columns: 'Question', 'Grade', 'Answer', 'Context', and 'Intervention'.\n",
        "        Columns 'Context' and 'Intervention' will be dropped in the merged DataFrame.\n",
        "\n",
        "    Returns:\n",
        "    -------\n",
        "    pd.DataFrame\n",
        "        A DataFrame resulting from an inner merge on 'Question' between the two input DataFrames.\n",
        "        The output DataFrame will rename the overlapping columns as follows:\n",
        "            - 'Grade_x' to 'Grade_gemini'\n",
        "            - 'Answer_x' to 'Answer_gemini'\n",
        "            - 'Grade_y' to 'Grade_gemma_2b'\n",
        "            - 'Answer_y' to 'Answer_gemma_2b'\n",
        "    \"\"\"\n",
        "    sqa_eval_gemma_df.drop(columns=['Context', 'Intervention'], inplace=True)\n",
        "    result = pd.merge(sqa_eval_df, sqa_eval_gemma_df, on='Question', how='inner')\n",
        "    result = result.rename(columns={\n",
        "        \"Grade_x\": \"Grade_gemini\",\n",
        "        \"Answer_x\": \"Answer_gemini\",\n",
        "        \"Grade_y\": \"Grade_gemma_2b\",\n",
        "        \"Answer_y\": \"Answer_gemma_2b\"\n",
        "    })\n",
        "    return result\n"
      ]
    },
    {
      "cell_type": "code",
      "execution_count": null,
      "metadata": {
        "id": "eC3FOVgwc06H"
      },
      "outputs": [],
      "source": [
        "def get_metrics(result):\n",
        "  perfect_answer = 0\n",
        "  better_answer = 0\n",
        "  worst_answer = 0\n",
        "  for idx in range(len(result['Grade_gemini'])):\n",
        "    # gemma and gemini got same grades\n",
        "    if result['Grade_gemini'][idx] == result['Grade_gemma_2b'][idx]:\n",
        "      perfect_answer += 1\n",
        "    # gemma got better grades compared gemini\n",
        "    elif result['Grade_gemini'][idx] < result['Grade_gemma_2b'][idx]:\n",
        "      better_answer += 1\n",
        "    # gemma got worst grades compared to gemini\n",
        "    else:\n",
        "      worst_answer += 1\n",
        "\n",
        "  print(f\"The number of questions gemma and gemini got same grades is {perfect_answer}\")\n",
        "  print(f\"The number of questions gemma got better grades compared gemini {better_answer}\")\n",
        "  print(f\"The number of questions gemma got worst grades compared to gemini {worst_answer}\")\n",
        "\n",
        "  grade_difference = {}\n",
        "  worst_answer = 0\n",
        "  count = 0\n",
        "  difference = []\n",
        "  for idx in range(len(result['Grade_gemini'])):\n",
        "    if result['Grade_gemini'][idx] > result['Grade_gemma_2b'][idx]:\n",
        "      diff = result['Grade_gemini'][idx] - result['Grade_gemma_2b'][idx]\n",
        "      grade_difference.setdefault(diff, []).append(result['Question'][idx])\n",
        "  question_counts = {diff: len(questions) for diff, questions in grade_difference.items()}\n",
        "  print(\"Grade differences and counts between Gemma and Gemini for questions where Gemma underperformed.\")\n",
        "  print(question_counts)"
      ]
    },
    {
      "cell_type": "code",
      "execution_count": null,
      "metadata": {
        "id": "H2tbVLv75_4-",
        "colab": {
          "base_uri": "https://localhost:8080/"
        },
        "outputId": "942e8a62-66e5-4a52-c3b0-ff7905a8da53"
      },
      "outputs": [
        {
          "output_type": "stream",
          "name": "stdout",
          "text": [
            "Your task is to Carefully read the question and analyze each option based on your knowledge as a WHO expert.\n",
            "Select the most appropriate option considering the context of antenatal care.\n",
            "\n",
            "Instructions:\n",
            "Choose the correct option (A, B, C, D, or E).\n",
            "Please strictly provide only the option which is correct.\n",
            "Don't give any \"explanations\", \"option\" and \"asterisks\" in the output.\n",
            "\n",
            "\n",
            "\n"
          ]
        }
      ],
      "source": [
        "mcq_base_prompt = textwrap.dedent('''\\\n",
        "Your task is to Carefully read the question and analyze each option based on your knowledge as a WHO expert.\n",
        "Select the most appropriate option considering the context of antenatal care.\n",
        "\n",
        "Instructions:\n",
        "Choose the correct option (A, B, C, D, or E).\n",
        "Please strictly provide only the option which is correct.\n",
        "Don't give any \"explanations\", \"option\" and \"asterisks\" in the output.\\n\\n\n",
        "''')\n",
        "print(mcq_base_prompt)"
      ]
    },
    {
      "cell_type": "markdown",
      "metadata": {
        "id": "qusNf3zc7zjq"
      },
      "source": [
        "## Download the selected model"
      ]
    },
    {
      "cell_type": "code",
      "execution_count": null,
      "metadata": {
        "id": "lh1nO5jy7vvb",
        "colab": {
          "base_uri": "https://localhost:8080/",
          "height": 369,
          "referenced_widgets": [
            "3043441121494a60ac0f6e36a0309307",
            "13ca613f97f24308b0a38fbdc907b27c",
            "0ad88e1a6d374815a54a72f79e2b082d",
            "31b6c0fd59124592b57228e9f529da0c",
            "f42b1185dff74b5eb53ac2f164810a12",
            "e9fac713271946bf99d56359ab89ad8c",
            "d5f0c6a007c742e6a21692d027e31696",
            "191834c99be74d39bf16227cafafdba0",
            "a10786cf4f1a45c0a8e61ee8db66c26c",
            "2bbdab2011fd4a63be6595dd20302896",
            "0f2e1ad5b6ec433b84c92601bdc59859",
            "674f2c8e9ef848109a85584d3e271b72",
            "c4f20168fbda47b3a3fdbc6bea9ddc14",
            "d94bb7d762d54824be408c51b3468d84",
            "e828db74befb490ba7d23933e78e80e6",
            "bd120621ed03485db0583d95979107cf",
            "82fb9c8572a14fb7b6249d7fd883e68a",
            "5563c95f73d14ed3966fa74a30eed4ce",
            "db05d425d2e94d979db138ea10f99080",
            "7d25d20a22bd4673a83338b5d377492a",
            "c0fee6619cd441a3bc0291d59b12582c",
            "986d9d49838f4ed4bf9d509923e828e8",
            "246d6250c42b47d7bd65193fc7aa7ec5",
            "e500b536a8a74fde9d6870f0a468a4ba",
            "93aaa55e24f940aa8ebf875dc6e91373",
            "a73876836aec48d9b77523fb28c66918",
            "acd23a41dcde4ba98af5c4c9b2ab3591",
            "bf17a0329ffb464392440a5cd6a62a46",
            "4febde79e6b94d70b045425951a6ce5e",
            "a80eb0199f04468da4c338fd52a799bd",
            "aec6f0c7199342a58432a632b08a716c",
            "db3b08c17085453ebe737bb26e0b75fd",
            "0c1819313a4844d38abdb6ba09deab40",
            "3af981ee1af342ceab7071b035d689a4",
            "d0ba9bd4cfeb4866944e165dad413eb4",
            "f6639245ad0d4b08ad2dd3e80a3a60e2",
            "a21f4849fbc74aff898d871262c63460",
            "8df7c999a2ac47bdbd6e9873227af069",
            "e955a051f34d435fa1eaccceafd90262",
            "bac46153ffd24515ab41a7087073e92a",
            "36ceb26702534b60a15a535854ead247",
            "abebafffc3e44275a86e0ab2d6df4c57",
            "627f2e0743ec44319142bf5c0667f4ca",
            "abe473f2ccca4535a8d5ea245d7ebea4",
            "395a80740dd44bc7a05d24879403a2fd",
            "81d0c164fae5476885595bf1b81ddc3d",
            "c09c6881d3ff4ec7b0f89190f96ef00e",
            "3b90c957498d47eb965fb58e23f5209e",
            "6182dd7b33424fc39668c1ac7f92fce8",
            "3e30befe01ad413bad77568d26a82ff6",
            "f185f695e8fd449bac799017ab6980f6",
            "0d9004dbd7b24875b09e9d40f2aa3060",
            "4a6122902cca4d8b8110edf645751524",
            "41fe3f0f01f74a079b067c6062a798ad",
            "096746e79ec84788b51611519141732b",
            "fb7dcbba50ab4f759bf3ca6515626769",
            "4d54cd24893540a39baf2664d40e2a42",
            "d21f050812f445db9f7f2344575c92a7",
            "e1cb7d0360984d5b862d737ea0f029d4",
            "cf63957336e84422916138e9b18dca39",
            "4f4d2d2fbf1540fa959699ff5c2862be",
            "35aed78857fe48cdb764e2bb03c93302",
            "163d066187f0489da5bd4f46edf206f6",
            "8d130f797859472ca09762b5f4e4be36",
            "64b6d3914d694c88bd9118270a9380d6",
            "be88b0ff523348ada9f51a40eaf90070",
            "90d18f442b4b4ac2ab709b9879faefb9",
            "9b57e45908b04b5e8ee9c0ee7be465b7",
            "b27036af4a8e4ecba4d9736c1bedfb09",
            "e14c0a8dabe643dda899dae71d5c2f7c",
            "bdf22ab9fcd840e5bef9cc9cf1fd174b",
            "6080cebeffad41b7bf355f0a0a973f88",
            "a22d7d6c4831489f954788329788b499",
            "e9de75691e15467e9d331f2c07cbd221",
            "150df479e41d4d029d91ab1d33430c91",
            "d0be7446044e4f30b27726f1328b54ec",
            "a9a2f386b2614518be6815ab03b7ef9a",
            "73b5fb3073834916a783a0a9cc75f4aa",
            "c0351e1d522b40358f0fa5816b278b67",
            "9ab8b504082e46fe9fa09e30d0ccd072",
            "8f5d23ab8f2e421888e2b4a9ea804f5b",
            "943e509306214ee3924d5df8f5b0374d",
            "5cf21519f0f243869e912b383d688d5c",
            "5fe82aca840943d3bdb9e553952b0283",
            "523c81fee9ec4653802b5dfd6531579e",
            "a086e2881fa24d7b9dda775173914289",
            "286b56a30be84f748faeb01e2df4a970",
            "875d076503fb4f828f4334ba9909efbe",
            "f6ad77667b084f1880eb8572dfd3c304",
            "771fb4e976684a32b715a36567eb4d15",
            "90b3394eb0cc4bceba60c40ead759b3c",
            "60aed0f7feee44db936635767275df1d",
            "165dc87927674750969701bd8f7c0841",
            "6fde7a9e26c4416cb7cdf86c654de01b",
            "f2d21c5cd9a4407a90ef4bfbcbe3ce1b",
            "36db18efe5a74a398ff948671dc68fb5",
            "f325307042c84ce6ae25e4be6a30f5de",
            "b3e9d21c1ba34cc19da18835953f8c61",
            "5839c9ec4df7454487ccd513c2526cc0",
            "b4318ca76a8e4327aa172209c104ad25",
            "fc59a1a7a637470ca1b2a9dc91d8b746",
            "2b08036e7a2843f391c3e14300a2dabd",
            "954f628e9e5c4e1b9a0974b9b1ca25c6",
            "35a018c7617341bb80936bab4a4d156f",
            "7cf883e0a6a04f26b3041f5fa73757be",
            "3a8641bfa7034c33a6d3ff553f5d2635",
            "a23099f325dd4b83a9c4a960b7b556e2",
            "58acde42b209491db767ea92c586787d",
            "e98a480cb7ff439199570b2c60a868fd",
            "c3275dd413524f0889e70ba40d0dd105",
            "010ddafa595642c0a0fd96177be6513a",
            "9e34984d7aea470e848dfa75c035808f",
            "8306d03f550645de89a3f5e1f45240ce",
            "2b893c4d7d374436bf6f2ab4b7aab9bd",
            "4ce43347bf094c70bc275a2d16a3ac66",
            "727e306696324de1b0224516e0161711",
            "50935d177cf44f2a8dcf3a71799981f4",
            "c9f8ff3183ff4063b04d7382dc7a7bf8",
            "3ce0955fd348418bb65ec7325c2ee8d3",
            "1589f6dfe6bc420584daa3f34253eb1e",
            "24738c0ee6c0494d9aa0a4abd767522b"
          ]
        },
        "outputId": "2b4dffe1-a3b6-45b8-f219-1b83d088de9a"
      },
      "outputs": [
        {
          "output_type": "display_data",
          "data": {
            "text/plain": [
              "tokenizer_config.json:   0%|          | 0.00/47.0k [00:00<?, ?B/s]"
            ],
            "application/vnd.jupyter.widget-view+json": {
              "version_major": 2,
              "version_minor": 0,
              "model_id": "3043441121494a60ac0f6e36a0309307"
            }
          },
          "metadata": {}
        },
        {
          "output_type": "display_data",
          "data": {
            "text/plain": [
              "tokenizer.model:   0%|          | 0.00/4.24M [00:00<?, ?B/s]"
            ],
            "application/vnd.jupyter.widget-view+json": {
              "version_major": 2,
              "version_minor": 0,
              "model_id": "674f2c8e9ef848109a85584d3e271b72"
            }
          },
          "metadata": {}
        },
        {
          "output_type": "display_data",
          "data": {
            "text/plain": [
              "tokenizer.json:   0%|          | 0.00/17.5M [00:00<?, ?B/s]"
            ],
            "application/vnd.jupyter.widget-view+json": {
              "version_major": 2,
              "version_minor": 0,
              "model_id": "246d6250c42b47d7bd65193fc7aa7ec5"
            }
          },
          "metadata": {}
        },
        {
          "output_type": "display_data",
          "data": {
            "text/plain": [
              "special_tokens_map.json:   0%|          | 0.00/636 [00:00<?, ?B/s]"
            ],
            "application/vnd.jupyter.widget-view+json": {
              "version_major": 2,
              "version_minor": 0,
              "model_id": "3af981ee1af342ceab7071b035d689a4"
            }
          },
          "metadata": {}
        },
        {
          "output_type": "display_data",
          "data": {
            "text/plain": [
              "config.json:   0%|          | 0.00/838 [00:00<?, ?B/s]"
            ],
            "application/vnd.jupyter.widget-view+json": {
              "version_major": 2,
              "version_minor": 0,
              "model_id": "395a80740dd44bc7a05d24879403a2fd"
            }
          },
          "metadata": {}
        },
        {
          "output_type": "display_data",
          "data": {
            "text/plain": [
              "model.safetensors.index.json:   0%|          | 0.00/24.2k [00:00<?, ?B/s]"
            ],
            "application/vnd.jupyter.widget-view+json": {
              "version_major": 2,
              "version_minor": 0,
              "model_id": "fb7dcbba50ab4f759bf3ca6515626769"
            }
          },
          "metadata": {}
        },
        {
          "output_type": "display_data",
          "data": {
            "text/plain": [
              "Downloading shards:   0%|          | 0/2 [00:00<?, ?it/s]"
            ],
            "application/vnd.jupyter.widget-view+json": {
              "version_major": 2,
              "version_minor": 0,
              "model_id": "90d18f442b4b4ac2ab709b9879faefb9"
            }
          },
          "metadata": {}
        },
        {
          "output_type": "display_data",
          "data": {
            "text/plain": [
              "model-00001-of-00002.safetensors:   0%|          | 0.00/4.99G [00:00<?, ?B/s]"
            ],
            "application/vnd.jupyter.widget-view+json": {
              "version_major": 2,
              "version_minor": 0,
              "model_id": "73b5fb3073834916a783a0a9cc75f4aa"
            }
          },
          "metadata": {}
        },
        {
          "output_type": "display_data",
          "data": {
            "text/plain": [
              "model-00002-of-00002.safetensors:   0%|          | 0.00/241M [00:00<?, ?B/s]"
            ],
            "application/vnd.jupyter.widget-view+json": {
              "version_major": 2,
              "version_minor": 0,
              "model_id": "f6ad77667b084f1880eb8572dfd3c304"
            }
          },
          "metadata": {}
        },
        {
          "output_type": "display_data",
          "data": {
            "text/plain": [
              "Loading checkpoint shards:   0%|          | 0/2 [00:00<?, ?it/s]"
            ],
            "application/vnd.jupyter.widget-view+json": {
              "version_major": 2,
              "version_minor": 0,
              "model_id": "b4318ca76a8e4327aa172209c104ad25"
            }
          },
          "metadata": {}
        },
        {
          "output_type": "display_data",
          "data": {
            "text/plain": [
              "generation_config.json:   0%|          | 0.00/187 [00:00<?, ?B/s]"
            ],
            "application/vnd.jupyter.widget-view+json": {
              "version_major": 2,
              "version_minor": 0,
              "model_id": "010ddafa595642c0a0fd96177be6513a"
            }
          },
          "metadata": {}
        }
      ],
      "source": [
        "tokenizer, model = model(gemma_model_name)"
      ]
    },
    {
      "cell_type": "code",
      "execution_count": null,
      "metadata": {
        "id": "g4b99JaPXaUn"
      },
      "outputs": [],
      "source": [
        "# Selects the device based on the availability\n",
        "\n",
        "device = torch.device(\"cuda\" if torch.cuda.is_available() else \"cpu\")"
      ]
    },
    {
      "cell_type": "code",
      "execution_count": null,
      "metadata": {
        "id": "sEkPuLCyuUaC"
      },
      "outputs": [],
      "source": [
        "def model_def(model_name, safety_settings, tools=None):\n",
        "  model = genai.GenerativeModel(\n",
        "    model_name=model_name,\n",
        "    safety_settings=safety_settings,\n",
        "    tools=tools\n",
        "  )\n",
        "  return model"
      ]
    },
    {
      "cell_type": "code",
      "execution_count": null,
      "metadata": {
        "id": "JzaSSy9krcNH"
      },
      "outputs": [],
      "source": [
        "def format_items_for_prompt(items: list, item_type: str,model_name: str) -> str:\n",
        "  \"\"\"\n",
        "  Formats a list of items (questions, etc.) into a string for the prompt.\n",
        "  Handles different item types (e.g., \"mcq\", \"sqa\").\n",
        "  \"\"\"\n",
        "  formatted_text = \"\"\n",
        "  for item in items:\n",
        "    formatted_text += f\"Question: {item['Question']}\\n\"\n",
        "    formatted_text += f\"{item.get('Intervention', '')}\\n\"\n",
        "    if item_type == \"mcq\":\n",
        "      if model_name == 'gemini':\n",
        "        formatted_text += \"\".join(\n",
        "            [f\"{option}: {item[option]}\\n\" for option in [\"A\", \"B\", \"C\", \"D\", \"E\"]]\n",
        "        )\n",
        "        formatted_text += f\"Choice: {item.get('Choice', '')}\\n\\n\" # Include Choice if present\n",
        "      elif model_name == \"gemma\":\n",
        "          formatted_text += \"\".join(\n",
        "            [f\"{option}: {item[option]}\\n\" for option in [\"A\", \"B\", \"C\", \"D\", \"E\"]]\n",
        "        )\n",
        "          formatted_text += f\"Answer: \\n\"\n",
        "\n",
        "    elif item_type == \"sqa_eval\":\n",
        "      if model_name == 'gemini':\n",
        "        formatted_text += f\"Answer: {item.get('Answer', '')}\\n\\n\"\n",
        "      elif model_name == \"gemma\":\n",
        "        formatted_text += f\"Answer: {item.get('Answer_2b', '')}\\n\\n\"\n",
        "\n",
        "    elif item_type == \"sqa\":\n",
        "      if model_name == 'gemini':\n",
        "        formatted_text += f\"Answer: {item.get('Answer', '')}\\n\\n\"\n",
        "      elif model_name == 'gemma':\n",
        "        formatted_text += f\"Answer: \\n\\n\"\n",
        "\n",
        "  return formatted_text"
      ]
    },
    {
      "cell_type": "markdown",
      "metadata": {
        "id": "vI0lTttwJCb_"
      },
      "source": [
        "This code iterates through a list of multiple-choice questions, generates an answer for each using a 2B model, and decodes the output to extract the selected choice (A-E). The extracted choices are then appended to the answer list, handling cases where no valid choice is found."
      ]
    },
    {
      "cell_type": "code",
      "execution_count": null,
      "metadata": {
        "id": "MduZqynal199"
      },
      "outputs": [],
      "source": [
        "mcq_df = pd.read_csv('mcq_questions.csv')"
      ]
    },
    {
      "cell_type": "code",
      "execution_count": null,
      "metadata": {
        "id": "RIpfA8uXBz5v",
        "colab": {
          "base_uri": "https://localhost:8080/"
        },
        "outputId": "f44981f5-31a4-43b9-8984-72f07f99632a"
      },
      "outputs": [
        {
          "output_type": "stream",
          "name": "stderr",
          "text": [
            "/usr/local/lib/python3.10/dist-packages/transformers/generation/configuration_utils.py:590: UserWarning: `do_sample` is set to `False`. However, `temperature` is set to `0.7` -- this flag is only used in sample-based generation modes. You should set `do_sample=True` or unset `temperature`.\n",
            "  warnings.warn(\n",
            "/usr/local/lib/python3.10/dist-packages/transformers/generation/configuration_utils.py:595: UserWarning: `do_sample` is set to `False`. However, `top_p` is set to `0.95` -- this flag is only used in sample-based generation modes. You should set `do_sample=True` or unset `top_p`.\n",
            "  warnings.warn(\n"
          ]
        }
      ],
      "source": [
        "choice = []\n",
        "mcq_df_dict_list = mcq_df.to_dict(orient=\"records\")\n",
        "for idx in range(len(mcq_df_dict_list)):\n",
        "  formatted_text = format_items_for_prompt(items = [mcq_df_dict_list[idx]],\n",
        "                                           item_type = \"mcq\",\n",
        "                                           model_name = 'gemma')\n",
        "  prompt = mcq_base_prompt + formatted_text\n",
        "  input_ids = tokenizer(prompt, return_tensors=\"pt\").to(device)\n",
        "  outputs = generate(model, input_ids)\n",
        "  output = tokenizer.decode(outputs[0], skip_special_tokens=True)\n",
        "  #retuns the option from the output\n",
        "  option = get_option_or_answer(output,\"mcq\")\n",
        "  choice.append(option)"
      ]
    },
    {
      "cell_type": "markdown",
      "metadata": {
        "id": "2IYp3sTVSTVy"
      },
      "source": [
        "#### Evaluation of the choices between the gemini and gemma model selected"
      ]
    },
    {
      "cell_type": "code",
      "execution_count": null,
      "metadata": {
        "id": "-P-B4VaPQHhc"
      },
      "outputs": [],
      "source": [
        "count = 0\n",
        "for i, mcq_question in mcq_df.iterrows():\n",
        "  if choice[i].lower() == mcq_question['Choice'].lower():\n",
        "    count+=1"
      ]
    },
    {
      "cell_type": "code",
      "execution_count": null,
      "metadata": {
        "id": "P1XKReddNAu8",
        "colab": {
          "base_uri": "https://localhost:8080/"
        },
        "outputId": "9e8e0ead-6c4a-443a-85f8-46950e16d80d"
      },
      "outputs": [
        {
          "output_type": "stream",
          "name": "stdout",
          "text": [
            "number of the correct answers for google/gemma-2-2b-it is 77\n"
          ]
        }
      ],
      "source": [
        "print(f\"number of the correct answers for {gemma_model_name} is {count}\")"
      ]
    },
    {
      "cell_type": "code",
      "execution_count": null,
      "metadata": {
        "id": "4yGoW5xEDiFU"
      },
      "outputs": [],
      "source": [
        "mcq_df['choice_2b'] = choice\n",
        "mcq_df.to_csv('mcq_questions_gemma.csv',index=False)"
      ]
    },
    {
      "cell_type": "markdown",
      "metadata": {
        "id": "SewDei0Il5Bh"
      },
      "source": [
        "## Generating Short Answer using GEMMA"
      ]
    },
    {
      "cell_type": "code",
      "execution_count": null,
      "metadata": {
        "id": "G5oVvvTl7MN7"
      },
      "outputs": [],
      "source": [
        "sqa_df = pd.read_csv('sqa_questions.csv')"
      ]
    },
    {
      "cell_type": "code",
      "execution_count": null,
      "metadata": {
        "id": "F-hmvTtHfcLp",
        "colab": {
          "base_uri": "https://localhost:8080/"
        },
        "outputId": "68dadb13-638e-4c81-a9e9-829aaf991d1f"
      },
      "outputs": [
        {
          "output_type": "stream",
          "name": "stdout",
          "text": [
            "Your task is to Carefully read the question and generate short answers based on your knowledge as a WHO expert.\n",
            "\n",
            "Instructions for short answers:\n",
            "The number words should be strictly between 10 to 20 words.\n",
            "Refrain from giving single or two word answers\n",
            "Please strictly provide only the answer which is correct.\n",
            "\n"
          ]
        }
      ],
      "source": [
        "eval_base_prompt =textwrap.dedent(\"\"\"\\\n",
        "Your task is to Carefully read the question and generate short answers based on your knowledge as a WHO expert.\n",
        "\n",
        "Instructions for short answers:\n",
        "The number words should be strictly between 10 to 20 words.\n",
        "Refrain from giving single or two word answers\n",
        "Please strictly provide only the answer which is correct.\n",
        "\"\"\")\n",
        "print(eval_base_prompt)"
      ]
    },
    {
      "cell_type": "markdown",
      "metadata": {
        "id": "VHEf_7nypZST"
      },
      "source": [
        "The Below code processes questions and interventions from a dataset by generating answers using a language model. It cleans and extracts the final answers, storing them in the final_answer list."
      ]
    },
    {
      "cell_type": "code",
      "execution_count": null,
      "metadata": {
        "id": "8v3c5AMjeWjH",
        "colab": {
          "base_uri": "https://localhost:8080/"
        },
        "outputId": "008de8c3-1275-4d10-e884-b7ea39ccee75"
      },
      "outputs": [
        {
          "output_type": "stream",
          "name": "stderr",
          "text": [
            "/usr/local/lib/python3.10/dist-packages/transformers/generation/configuration_utils.py:590: UserWarning: `do_sample` is set to `False`. However, `temperature` is set to `0.7` -- this flag is only used in sample-based generation modes. You should set `do_sample=True` or unset `temperature`.\n",
            "  warnings.warn(\n",
            "/usr/local/lib/python3.10/dist-packages/transformers/generation/configuration_utils.py:595: UserWarning: `do_sample` is set to `False`. However, `top_p` is set to `0.95` -- this flag is only used in sample-based generation modes. You should set `do_sample=True` or unset `top_p`.\n",
            "  warnings.warn(\n"
          ]
        }
      ],
      "source": [
        "final_answer = []\n",
        "sqa_df_dict_list = sqa_df.to_dict(orient=\"records\")\n",
        "for idx in range(len(sqa_df_dict_list)):\n",
        "  formatted_text = format_items_for_prompt(items = [sqa_df_dict_list[idx]],\n",
        "                                           item_type = \"sqa\",\n",
        "                                           model_name = 'gemma')\n",
        "  prompt = eval_base_prompt + formatted_text\n",
        "  # print(prompt)\n",
        "  input_ids = tokenizer(prompt, return_tensors=\"pt\").to('cuda')\n",
        "  outputs = generate(model,input_ids)\n",
        "  output = tokenizer.decode(outputs[0], skip_special_tokens=True)\n",
        "\n",
        "  # retuns the option from the output\n",
        "  answer = get_option_or_answer(output,\"sqa\")\n",
        "  # print(answer)\n",
        "  final_answer.append(answer)"
      ]
    },
    {
      "cell_type": "code",
      "execution_count": null,
      "metadata": {
        "id": "DN8-zE_lLp3C"
      },
      "outputs": [],
      "source": [
        "sqa_df['Answer_2b'] = final_answer"
      ]
    },
    {
      "cell_type": "code",
      "execution_count": null,
      "metadata": {
        "id": "b1ZDPmkSMsns"
      },
      "outputs": [],
      "source": [
        "sqa_df.to_csv('sqa_questions.csv',index=False)"
      ]
    },
    {
      "cell_type": "markdown",
      "metadata": {
        "id": "XyIqmabuJ9q0"
      },
      "source": [
        "# Evaluation of Gemma SQA"
      ]
    },
    {
      "cell_type": "markdown",
      "metadata": {
        "id": "yfU3Z7DXLZS4"
      },
      "source": [
        "## Evaluation functions"
      ]
    },
    {
      "cell_type": "markdown",
      "metadata": {
        "id": "vChevak0zUh_"
      },
      "source": [
        "## Set up your API key\n",
        "\n",
        "\n",
        "To use the Gemini API, you'll need an API key. Store your API key in Colab Secrets named `GOOGLE_API_KEY`.   \n",
        "If you don't have an API key or need help creating a Colab Secrets, see the [Authentication](https://github.com/google-gemini/cookbook/blob/main/quickstarts/Authentication.ipynb) guide."
      ]
    },
    {
      "cell_type": "code",
      "execution_count": null,
      "metadata": {
        "id": "UBzh7C86yAiq"
      },
      "outputs": [],
      "source": [
        "# passing the API key\n",
        "try:\n",
        "  from google.colab import userdata\n",
        "  GOOGLE_API_KEY = userdata.get ('GOOGLE_API_KEY')\n",
        "  genai.configure(api_key=GOOGLE_API_KEY)\n",
        "except ImportError:\n",
        "  pass"
      ]
    },
    {
      "cell_type": "markdown",
      "metadata": {
        "id": "pvdVEtPP3cEw"
      },
      "source": [
        "## Select a suitable gemini model\n",
        "\n",
        "The Gemini API offers different models that are optimized for specific use cases. Here's a [brief overview of Gemini variants](https://ai.google.dev/gemini-api/docs/models/gemini?_gl=1*cyblbc*_up*MQ..&gclid=Cj0KCQjwsJO4BhDoARIsADDv4vB5i1gAcxplfDp37YCnHdYV1vFF_11JvdxwPjqBjujKpgMKrmDHM9caAlGLEALw_wcB) that are available.\n",
        "To ensure your prompts work correctly, check the input and output token limits. Make sure your document and desired output fit within these limits.\n",
        "\n",
        "We will be using [Gemini 1.5 pro](https://ai.google.dev/gemini-api/docs/models/gemini?_gl=1*cyblbc*_up*MQ..&gclid=Cj0KCQjwsJO4BhDoARIsADDv4vB5i1gAcxplfDp37YCnHdYV1vFF_11JvdxwPjqBjujKpgMKrmDHM9caAlGLEALw_wcB#gemini-1.5-pro) model in this tutorial to generate the questionnaires."
      ]
    },
    {
      "cell_type": "code",
      "execution_count": null,
      "metadata": {
        "id": "sHJA2k7BUE9c",
        "colab": {
          "base_uri": "https://localhost:8080/",
          "height": 69
        },
        "outputId": "4c8def0f-f625-4272-a0cf-986b0a9d4272"
      },
      "outputs": [
        {
          "output_type": "stream",
          "name": "stdout",
          "text": [
            "Model: gemini-1.5-pro-latest\n",
            "Input Token Limit: 2000000\n",
            "Output Token Limit: 8192\n"
          ]
        }
      ],
      "source": [
        "model_name = \"gemini-1.5-pro-latest\" #@param [\"gemini-1.5-pro-latest\", \"gemini-1.5-pro\", \"gemini-1.5-flash-latest\", \"gemini-1.5-flash\"]\n",
        "model_info = genai.get_model(f'models/{model_name}')\n",
        "\n",
        "print(f\"Model: {model_name}\")\n",
        "print(f\"Input Token Limit: {model_info.input_token_limit}\")\n",
        "print(f\"Output Token Limit: {model_info.output_token_limit}\")"
      ]
    },
    {
      "cell_type": "markdown",
      "metadata": {
        "id": "0I20XXYHeqf-"
      },
      "source": [
        "## Upload WHO's antenatal care guidelines file\n",
        "\n",
        "Use the [`upload_file`](https://ai.google.dev/gemini-api/docs/document-processing?lang=python#upload-document) API to temporarily store WHO's antenatal care guidelines pdf file. This process produces a file reference that can be used to prompt a model."
      ]
    },
    {
      "cell_type": "code",
      "execution_count": null,
      "metadata": {
        "id": "BuMQV37AX8M9"
      },
      "outputs": [],
      "source": [
        "file_path = \"9789241549912-eng.pdf\" #@param {type:\"string\"}\n",
        "display_name = \"WHO recommendations on antenatal care for a positive pregnancy experience\"\n",
        "\n",
        "pdf_file = genai.upload_file(\n",
        "    path=file_path,\n",
        "    display_name=display_name,\n",
        ")\n",
        "\n",
        "file_ref = genai.get_file(name=pdf_file.name)"
      ]
    },
    {
      "cell_type": "code",
      "execution_count": null,
      "metadata": {
        "id": "o6D4TSLQcGYR"
      },
      "outputs": [],
      "source": [
        "HARM_CATEGORY_DANGEROUS = \"BLOCK_NONE\" # @param [\"BLOCK_NONE\", \"BLOCK_ONLY_HIGH\", \"BLOCK_MEDIUM_AND_ABOVE\", \"BLOCK_LOW_AND_ABOVE\", \"HARM_BLOCK_THRESHOLD_UNSPECIFIED\"]\n",
        "HARM_CATEGORY_HARASSMENT = \"BLOCK_NONE\" # @param [\"BLOCK_NONE\", \"BLOCK_ONLY_HIGH\", \"BLOCK_MEDIUM_AND_ABOVE\", \"BLOCK_LOW_AND_ABOVE\", \"HARM_BLOCK_THRESHOLD_UNSPECIFIED\"]\n",
        "HARM_CATEGORY_HATE_SPEECH = \"BLOCK_NONE\" # @param [\"BLOCK_NONE\", \"BLOCK_ONLY_HIGH\", \"BLOCK_MEDIUM_AND_ABOVE\", \"BLOCK_LOW_AND_ABOVE\", \"HARM_BLOCK_THRESHOLD_UNSPECIFIED\"]\n",
        "HARM_CATEGORY_SEXUALLY_EXPLICIT = \"BLOCK_NONE\" # @param [\"BLOCK_NONE\", \"BLOCK_ONLY_HIGH\", \"BLOCK_MEDIUM_AND_ABOVE\", \"BLOCK_LOW_AND_ABOVE\", \"HARM_BLOCK_THRESHOLD_UNSPECIFIED\"]\n",
        "HARM_CATEGORY_DANGEROUS_CONTENT = \"BLOCK_NONE\" # @param [\"BLOCK_NONE\", \"BLOCK_ONLY_HIGH\", \"BLOCK_MEDIUM_AND_ABOVE\", \"BLOCK_LOW_AND_ABOVE\", \"HARM_BLOCK_THRESHOLD_UNSPECIFIED\"]\n",
        "\n",
        "safety_settings = [\n",
        "    {\n",
        "        \"category\": \"HARM_CATEGORY_DANGEROUS\",\n",
        "        \"threshold\": HARM_CATEGORY_DANGEROUS,\n",
        "        },\n",
        "    {\n",
        "        \"category\": \"HARM_CATEGORY_HARASSMENT\",\n",
        "        \"threshold\": HARM_CATEGORY_HARASSMENT,\n",
        "    },\n",
        "    {\n",
        "        \"category\": \"HARM_CATEGORY_HATE_SPEECH\",\n",
        "        \"threshold\": HARM_CATEGORY_HATE_SPEECH,\n",
        "    },\n",
        "    {\n",
        "        \"category\": \"HARM_CATEGORY_SEXUALLY_EXPLICIT\",\n",
        "        \"threshold\": HARM_CATEGORY_SEXUALLY_EXPLICIT,\n",
        "    },\n",
        "    {\n",
        "        \"category\": \"HARM_CATEGORY_DANGEROUS_CONTENT\",\n",
        "        \"threshold\": HARM_CATEGORY_DANGEROUS_CONTENT,\n",
        "    },\n",
        "]"
      ]
    },
    {
      "cell_type": "markdown",
      "metadata": {
        "id": "wb9lbFsSlxdd"
      },
      "source": [
        "## Configure text generation\n",
        "\n",
        "\n",
        "Every prompt you send to the model includes [parameters]((https://ai.google.dev/gemini-api/docs/models/generative-models#model-parameters)) that control how the model generates responses. You can use [genai.GenerationConfig](https://ai.google.dev/api/generate-content#generationconfig) to configure these parameters. If you don't configure the parameters, the model uses default options, which can vary by model."
      ]
    },
    {
      "cell_type": "code",
      "execution_count": null,
      "metadata": {
        "id": "JNKXyNy00qpy"
      },
      "outputs": [],
      "source": [
        "temperature = 1 #@param {type:\"slider\", min:0, max:1, step:0.1}\n",
        "top_p = 0.95 #@param {type:\"slider\", min:0, max:1, step:0.05}\n",
        "top_k = 64 #@param {type:\"integer\"}\n",
        "max_output_tokens = 8192 #@param {type:\"integer\"}\n",
        "\n",
        "generation_config ={\n",
        "    \"temperature\": 1,\n",
        "    \"top_p\": 0.95,\n",
        "    \"top_k\": 64,\n",
        "    \"max_output_tokens\": 8192,\n",
        "}"
      ]
    },
    {
      "cell_type": "markdown",
      "metadata": {
        "id": "--zIOXolU2rV"
      },
      "source": [
        "## Evaluate the generated MCQ questions with Gemini 1.5 model\n",
        "\n",
        "In this section we try to evaluate the questions generated from Gemini model and what context has been to used to frame the Multiple Choice Questions."
      ]
    },
    {
      "cell_type": "code",
      "execution_count": null,
      "metadata": {
        "id": "mx3Uj_XNrdDA"
      },
      "outputs": [],
      "source": [
        "def call_model_and_extract(\n",
        "    chat_model: genai.GenerativeModel,\n",
        "    prompt: list,\n",
        "    function_name: str,\n",
        "    generation_config: dict = None,\n",
        "    tool_config: dict = None,\n",
        ") -> list:\n",
        "  \"\"\"Calls the language model and extracts the results from the function call.\"\"\"\n",
        "\n",
        "  try:\n",
        "    response = generate_text(\n",
        "        chat_model,\n",
        "        prompt,\n",
        "        generation_config=generation_config,\n",
        "        tool_config=tool_config,\n",
        "    )\n",
        "\n",
        "    if response.candidates[0].content.parts[0].function_call:\n",
        "      function_call = response.candidates[0].content.parts[0].function_call\n",
        "      extracted_results = type(function_call).to_dict(function_call)[\"args\"][\n",
        "          function_name\n",
        "      ]\n",
        "      return extracted_results\n",
        "    else:\n",
        "      return []  # Return empty list if no function call\n",
        "\n",
        "\n",
        "  except Exception as e:\n",
        "    print(f\"Error calling model: {e}\")\n",
        "    return []  # Return empty list on error"
      ]
    },
    {
      "cell_type": "code",
      "execution_count": null,
      "metadata": {
        "id": "J8GrF3yor_cA"
      },
      "outputs": [],
      "source": [
        "def eval_questions(\n",
        "    chat_model: genai.GenerativeModel,\n",
        "    file_ref: genai.types.file_types.File,\n",
        "    base_prompt: str,\n",
        "    questions_dict_list: list,\n",
        "    question_type: str,\n",
        "    eval_type_function_name: str,\n",
        "    eval_per_prompt: int,\n",
        "    generation_config: dict = None,\n",
        "    tool_config: dict = None,\n",
        "    model_name: str = \"gemini\"\n",
        "):\n",
        "  evaluated_questions = []\n",
        "  current_prompt = [file_ref, base_prompt]\n",
        "\n",
        "  for idx in range(0, len(questions_dict_list), eval_per_prompt):\n",
        "    formatted_text = format_items_for_prompt(\n",
        "        questions_dict_list[idx:idx+eval_per_prompt],\n",
        "        question_type,\n",
        "        model_name\n",
        "    )\n",
        "    current_prompt.append(formatted_text)\n",
        "\n",
        "    per_prompt_evaluated_questions = call_model_and_extract(\n",
        "        chat_model,\n",
        "        current_prompt,\n",
        "        eval_type_function_name,\n",
        "        generation_config=generation_config,\n",
        "        tool_config=tool_config,\n",
        "    )\n",
        "    print(f\"Evaluated {len(per_prompt_evaluated_questions)} questions in prompt {idx//eval_per_prompt+1}\")\n",
        "\n",
        "    evaluated_questions.extend(per_prompt_evaluated_questions)\n",
        "    current_prompt = []\n",
        "\n",
        "  return evaluated_questions\n"
      ]
    },
    {
      "cell_type": "markdown",
      "metadata": {
        "id": "sTqjiLc6Eijp"
      },
      "source": [
        "### Base Prompt"
      ]
    },
    {
      "cell_type": "code",
      "execution_count": null,
      "metadata": {
        "id": "uNr6pu4IElQO",
        "colab": {
          "base_uri": "https://localhost:8080/"
        },
        "outputId": "f2e67a08-efe4-4de5-faba-c2c257360759"
      },
      "outputs": [
        {
          "output_type": "stream",
          "name": "stdout",
          "text": [
            "Task: Evaluate the provided multiple-choice questions using above extracted text corpus based on the following criteria:\n",
            "\n",
            "Accuracy: Ensure the correct response aligns with the information presented in the provided text corpus.\n",
            "Relevance: Verify that the question and answer choices are directly related to the stated intervention topic.\n",
            "Clarity: Check if the question and answer choices are clear, concise, and avoid ambiguity.\n",
            "Consistency: Ensure that the correct response is consistent with other relevant information in the provided text corpus.\n",
            "\n",
            "Evaluation Format:\n",
            "\n",
            "Question: [Question text]\n",
            "Intervention Topic: [Intervention topic]\n",
            "Correct Answer: [Correct option]\n",
            "Context: [Page number or section reference where the correct answer can be found in the provided text corpus]\n",
            "\n",
            "Example:\n",
            "\n",
            "Question: According to the WHO recommendations, what is the recommended daily intake of calcium for pregnant women?\n",
            "Intervention Topic: Nutritional interventions\n",
            "Correct Answer: B\n",
            "Context: Page 72, Section 3.1 of the WHO Guidelines for the Prevention and Management of Gestational Diabetes Mellitus\n",
            "Note: To ensure accurate and relevant evaluations, please provide the specific text corpus that the questions are based on.\n",
            "This will allow for a more precise assessment of the accuracy, relevance, clarity, and consistency of the questions and answers.\n",
            "\n"
          ]
        }
      ],
      "source": [
        "eval_mcq_base_prompt = textwrap.dedent(\"\"\"\\\n",
        "Task: Evaluate the provided multiple-choice questions using above extracted text corpus based on the following criteria:\n",
        "\n",
        "Accuracy: Ensure the correct response aligns with the information presented in the provided text corpus.\n",
        "Relevance: Verify that the question and answer choices are directly related to the stated intervention topic.\n",
        "Clarity: Check if the question and answer choices are clear, concise, and avoid ambiguity.\n",
        "Consistency: Ensure that the correct response is consistent with other relevant information in the provided text corpus.\n",
        "\n",
        "Evaluation Format:\n",
        "\n",
        "Question: [Question text]\n",
        "Intervention Topic: [Intervention topic]\n",
        "Correct Answer: [Correct option]\n",
        "Context: [Page number or section reference where the correct answer can be found in the provided text corpus]\n",
        "\n",
        "Example:\n",
        "\n",
        "Question: According to the WHO recommendations, what is the recommended daily intake of calcium for pregnant women?\n",
        "Intervention Topic: Nutritional interventions\n",
        "Correct Answer: B\n",
        "Context: Page 72, Section 3.1 of the WHO Guidelines for the Prevention and Management of Gestational Diabetes Mellitus\n",
        "Note: To ensure accurate and relevant evaluations, please provide the specific text corpus that the questions are based on.\n",
        "This will allow for a more precise assessment of the accuracy, relevance, clarity, and consistency of the questions and answers.\n",
        "\"\"\"\n",
        ")\n",
        "print(eval_mcq_base_prompt)"
      ]
    },
    {
      "cell_type": "markdown",
      "metadata": {
        "id": "Uw1-a1x6FAYT"
      },
      "source": [
        "### Function Calling"
      ]
    },
    {
      "cell_type": "markdown",
      "metadata": {
        "id": "vcuoio7fFH7K"
      },
      "source": [
        "#### Single Eval Schema\n",
        "\n",
        "This schema defines the structure for evaluating multiple choice questions. It includes the following fields:\n",
        "\n",
        "* Intervention: The topic or subject matter related to the question.\n",
        "* Question: The actual multiple-choice question.\n",
        "* Choice: The chosen option or answer for the question.\n",
        "* Correct: A boolean value indicating whether the chosen answer is correct (1) or incorrect (0).\n",
        "* Context: A reference or source where the correct answer can be found, such as a page number or section in a document."
      ]
    },
    {
      "cell_type": "code",
      "execution_count": null,
      "metadata": {
        "id": "RLvAn5JxJWlY"
      },
      "outputs": [],
      "source": [
        "mcq_eval = genai.protos.Schema(\n",
        "    type = genai.protos.Type.OBJECT,\n",
        "    properties = {\n",
        "        'Intervention':  genai.protos.Schema(type=genai.protos.Type.STRING),\n",
        "        'Question':  genai.protos.Schema(type=genai.protos.Type.STRING),\n",
        "        'Choice': genai.protos.Schema(type=genai.protos.Type.STRING),\n",
        "        'Correct': genai.protos.Schema(type=genai.protos.Type.NUMBER),\n",
        "        'Context': genai.protos.Schema(type=genai.protos.Type.STRING),\n",
        "    },\n",
        "    required=['Intervention', 'Question', 'Choice', 'Correct', 'Context']\n",
        ")"
      ]
    },
    {
      "cell_type": "markdown",
      "metadata": {
        "id": "vs_JEFhnFMj5"
      },
      "source": [
        "#### Array Schema"
      ]
    },
    {
      "cell_type": "code",
      "execution_count": null,
      "metadata": {
        "id": "4Ld96e5aLHf7"
      },
      "outputs": [],
      "source": [
        "mcq_eval_schema = genai.protos.Schema(\n",
        "    type=genai.protos.Type.ARRAY,\n",
        "    items=mcq_eval\n",
        ")"
      ]
    },
    {
      "cell_type": "markdown",
      "metadata": {
        "id": "erYWCG5LDnvC"
      },
      "source": [
        "#### SQA Eval Schema"
      ]
    },
    {
      "cell_type": "code",
      "execution_count": null,
      "metadata": {
        "id": "tf8_n3r-Dx_Z"
      },
      "outputs": [],
      "source": [
        "sqa_eval_single_schema = genai.protos.Schema(\n",
        "    type = genai.protos.Type.OBJECT,\n",
        "    properties = {\n",
        "        'Intervention':  genai.protos.Schema(type=genai.protos.Type.STRING),\n",
        "        'Question':  genai.protos.Schema(type=genai.protos.Type.STRING),\n",
        "        'Answer': genai.protos.Schema(type=genai.protos.Type.STRING),\n",
        "        'Grade': genai.protos.Schema(type=genai.protos.Type.NUMBER),\n",
        "        'Context': genai.protos.Schema(type=genai.protos.Type.STRING),\n",
        "    },\n",
        "    required=['Intervention', 'Question', 'Answer', 'Grade', 'Context']\n",
        ")"
      ]
    },
    {
      "cell_type": "markdown",
      "metadata": {
        "id": "jOMYbT3bqood"
      },
      "source": [
        "#### Array Schema"
      ]
    },
    {
      "cell_type": "code",
      "execution_count": null,
      "metadata": {
        "id": "lye6gbxfEZyn"
      },
      "outputs": [],
      "source": [
        "sqa_eval_schema = genai.protos.Schema(\n",
        "    type=genai.protos.Type.ARRAY,\n",
        "    items=sqa_eval_single_schema\n",
        ")"
      ]
    },
    {
      "cell_type": "markdown",
      "metadata": {
        "id": "CJTT-RB6qkwK"
      },
      "source": [
        "#### Function Declaration"
      ]
    },
    {
      "cell_type": "code",
      "execution_count": null,
      "metadata": {
        "id": "EQfCp9BREeUm"
      },
      "outputs": [],
      "source": [
        "sqa_eval_database = genai.protos.FunctionDeclaration(\n",
        "    name=\"sqa_eval_database\",\n",
        "    description=textwrap.dedent(\"\"\"\\\n",
        "        Adds interventions, questions, answers, grading and its context to the database.\n",
        "        \"\"\"),\n",
        "    parameters=genai.protos.Schema(\n",
        "        type=genai.protos.Type.OBJECT,\n",
        "        properties = {\n",
        "            'sqa_eval': sqa_eval_schema,\n",
        "        }\n",
        "    )\n",
        ")"
      ]
    },
    {
      "cell_type": "code",
      "execution_count": null,
      "metadata": {
        "id": "EpXGWwYPKrb0"
      },
      "outputs": [],
      "source": [
        "mcq_eval_database = genai.protos.FunctionDeclaration(\n",
        "    name=\"mcq_eval_database\",\n",
        "    description=textwrap.dedent(\"\"\"\\\n",
        "        Adds interventions, questions, answers, correctness and its context to the database.\n",
        "        \"\"\"),\n",
        "    parameters=genai.protos.Schema(\n",
        "        type=genai.protos.Type.OBJECT,\n",
        "        properties = {\n",
        "            'mcq_eval': mcq_eval_schema,\n",
        "        }\n",
        "    )\n",
        ")"
      ]
    },
    {
      "cell_type": "markdown",
      "metadata": {
        "id": "GbweT3poMPOS"
      },
      "source": [
        "## Generate text\n",
        "\n",
        "* The Gemini API's client library offers built-in retry mechanisms for handling transient errors.\n",
        "\n",
        "* The `generate_text` function sends a message to the chat model with the given prompt and\n",
        "  configurations, and returns the response. It includes retry logic to handle\n",
        "  transient errors.\n",
        "\n",
        "* For more info on error handling, take a look at the [error_handling quickstart](https://github.com/google-gemini/cookbook/blob/main/quickstarts/Error_handling.ipynb)."
      ]
    },
    {
      "cell_type": "code",
      "execution_count": null,
      "metadata": {
        "id": "lm0gVbVnPFoj"
      },
      "outputs": [],
      "source": [
        "@retry.Retry(\n",
        "    predicate=retry.if_transient_error,\n",
        "    initial=5,\n",
        "    maximum=10,\n",
        "    multiplier=2.0,\n",
        "    timeout=100,\n",
        ")\n",
        "\n",
        "def generate_text(\n",
        "    chat: genai.GenerativeModel,\n",
        "    prompt: Union[List[str], str],\n",
        "    generation_config: dict = None,\n",
        "    tool_config: dict = None\n",
        "):\n",
        "  \"\"\"Generates text using a chat model, with retry mechanism for transient errors.\n",
        "\n",
        "  This function sends a prompt to a chat model and returns the generated response.\n",
        "  It uses a retry decorator to handle transient errors, such as network issues,\n",
        "  allowing the function to automatically retry the operation multiple times\n",
        "  before giving up.\n",
        "\n",
        "  Args:\n",
        "    chat: The chat model object (an instance of `genai.Model`).\n",
        "    prompt: The text prompt to send to the chat model. Can be a string or a list of strings.\n",
        "    generation_config: (Optional) A dictionary containing configuration\n",
        "        parameters for the text generation process. This might include settings\n",
        "        like temperature, max tokens, etc. The specific format depends on the\n",
        "        `chat` object (genai.Model).  See GenAI's documentation for details.\n",
        "    tool_config: (Optional)  A dictionary containing configuration\n",
        "        parameters for any tools that the chat model might use. The specific\n",
        "        format depends on the `chat` object (genai.Model) and whether it\n",
        "        supports tools.\n",
        "\n",
        "  Returns:\n",
        "    The response from the chat model (genai.Response).\n",
        "\n",
        "\n",
        "  Raises:\n",
        "    retry.RetryError: If the function fails to generate text after multiple\n",
        "        retries due to persistent transient errors. The original exception\n",
        "        that triggered the retries will be chained to the `RetryError`.\n",
        "    Any other exception raised by `chat.generate_text`: If the `generate_text`\n",
        "        method raises an exception that is not considered a transient error,\n",
        "        the exception will be propagated directly without retries.\n",
        "  \"\"\"\n",
        "\n",
        "  response = chat.send_message(\n",
        "      prompt,\n",
        "      generation_config=generation_config,\n",
        "      tool_config=tool_config,\n",
        "  )\n",
        "  return response"
      ]
    },
    {
      "cell_type": "markdown",
      "metadata": {
        "id": "1IxyIxqqF6o9"
      },
      "source": [
        "### Define the model with function declaration"
      ]
    },
    {
      "cell_type": "code",
      "execution_count": null,
      "metadata": {
        "id": "fIf9onCdeFZ6"
      },
      "outputs": [],
      "source": [
        "model = model_def(model_name, safety_settings, tools=[mcq_eval_database])\n",
        "chat = model.start_chat(history=[])"
      ]
    },
    {
      "cell_type": "markdown",
      "metadata": {
        "id": "UjMEOkbWYkGo"
      },
      "source": [
        "### Load the csv file containing previously generated mcq questions"
      ]
    },
    {
      "cell_type": "code",
      "execution_count": null,
      "metadata": {
        "id": "o6inVQJAhyDe"
      },
      "outputs": [],
      "source": [
        "mcq_questions_df = pd.read_csv(\"mcq_questions.csv\")\n",
        "mcq_questions_dict_list = mcq_questions_df.to_dict(orient=\"records\")"
      ]
    },
    {
      "cell_type": "markdown",
      "metadata": {
        "id": "u92sv7irFzIP"
      },
      "source": [
        "### Evaluate in chat session"
      ]
    },
    {
      "cell_type": "code",
      "execution_count": null,
      "metadata": {
        "id": "Hwq6rNMcUyUL",
        "colab": {
          "base_uri": "https://localhost:8080/",
          "height": 312
        },
        "outputId": "069716f4-cc77-425b-dfc4-6b10f548804d"
      },
      "outputs": [
        {
          "output_type": "stream",
          "name": "stdout",
          "text": [
            "Evaluated 20 questions in prompt 1\n"
          ]
        },
        {
          "output_type": "stream",
          "name": "stderr",
          "text": [
            "WARNING:tornado.access:429 POST /v1beta/models/gemini-1.5-pro-latest:generateContent?%24alt=json%3Benum-encoding%3Dint (127.0.0.1) 2043.45ms\n",
            "WARNING:tornado.access:429 POST /v1beta/models/gemini-1.5-pro-latest:generateContent?%24alt=json%3Benum-encoding%3Dint (127.0.0.1) 2370.71ms\n",
            "WARNING:tornado.access:429 POST /v1beta/models/gemini-1.5-pro-latest:generateContent?%24alt=json%3Benum-encoding%3Dint (127.0.0.1) 1084.50ms\n",
            "WARNING:tornado.access:429 POST /v1beta/models/gemini-1.5-pro-latest:generateContent?%24alt=json%3Benum-encoding%3Dint (127.0.0.1) 2321.58ms\n",
            "WARNING:tornado.access:429 POST /v1beta/models/gemini-1.5-pro-latest:generateContent?%24alt=json%3Benum-encoding%3Dint (127.0.0.1) 1713.28ms\n",
            "WARNING:tornado.access:429 POST /v1beta/models/gemini-1.5-pro-latest:generateContent?%24alt=json%3Benum-encoding%3Dint (127.0.0.1) 1135.61ms\n",
            "WARNING:tornado.access:429 POST /v1beta/models/gemini-1.5-pro-latest:generateContent?%24alt=json%3Benum-encoding%3Dint (127.0.0.1) 1941.35ms\n"
          ]
        },
        {
          "output_type": "stream",
          "name": "stdout",
          "text": [
            "Evaluated 20 questions in prompt 2\n"
          ]
        },
        {
          "output_type": "stream",
          "name": "stderr",
          "text": [
            "WARNING:tornado.access:429 POST /v1beta/models/gemini-1.5-pro-latest:generateContent?%24alt=json%3Benum-encoding%3Dint (127.0.0.1) 20796.56ms\n",
            "WARNING:tornado.access:429 POST /v1beta/models/gemini-1.5-pro-latest:generateContent?%24alt=json%3Benum-encoding%3Dint (127.0.0.1) 4939.50ms\n",
            "WARNING:tornado.access:429 POST /v1beta/models/gemini-1.5-pro-latest:generateContent?%24alt=json%3Benum-encoding%3Dint (127.0.0.1) 7965.13ms\n"
          ]
        },
        {
          "output_type": "stream",
          "name": "stdout",
          "text": [
            "Evaluated 20 questions in prompt 3\n"
          ]
        },
        {
          "output_type": "stream",
          "name": "stderr",
          "text": [
            "WARNING:tornado.access:429 POST /v1beta/models/gemini-1.5-pro-latest:generateContent?%24alt=json%3Benum-encoding%3Dint (127.0.0.1) 1011.02ms\n"
          ]
        },
        {
          "output_type": "stream",
          "name": "stdout",
          "text": [
            "Evaluated 20 questions in prompt 4\n"
          ]
        },
        {
          "output_type": "stream",
          "name": "stderr",
          "text": [
            "WARNING:tornado.access:429 POST /v1beta/models/gemini-1.5-pro-latest:generateContent?%24alt=json%3Benum-encoding%3Dint (127.0.0.1) 1087.71ms\n"
          ]
        },
        {
          "output_type": "stream",
          "name": "stdout",
          "text": [
            "Evaluated 20 questions in prompt 5\n"
          ]
        }
      ],
      "source": [
        "eval_num_mcq_per_prompt = 20\n",
        "\n",
        "mcq_evaluated_questions = eval_questions(\n",
        "    chat_model=chat,\n",
        "    file_ref=file_ref,\n",
        "    base_prompt=eval_mcq_base_prompt,\n",
        "    questions_dict_list=mcq_questions_dict_list,\n",
        "    question_type=\"mcq\",\n",
        "    eval_type_function_name=\"mcq_eval\",\n",
        "    eval_per_prompt=eval_num_mcq_per_prompt,\n",
        "    generation_config=generation_config,\n",
        "    tool_config={\"function_calling_config\": {\"mode\": \"ANY\"}},\n",
        "    model_name = 'gemini'\n",
        ")"
      ]
    },
    {
      "cell_type": "code",
      "execution_count": null,
      "metadata": {
        "id": "_8an4Nfj-prj",
        "colab": {
          "base_uri": "https://localhost:8080/",
          "height": 424
        },
        "outputId": "08602e02-7dd1-4ff4-8a6d-b3c9b4d8658f"
      },
      "outputs": [
        {
          "output_type": "execute_result",
          "data": {
            "text/plain": [
              "                                             Question Choice  Correct  \\\n",
              "0   Which supplement is routinely recommended for ...      A      1.0   \n",
              "1   What does a healthy diet during pregnancy cons...      D      1.0   \n",
              "2   For undernourished populations, which type of ...      B      1.0   \n",
              "3   When is vitamin A supplementation recommended ...      B      1.0   \n",
              "4   What is the recommended method for diagnosing ...      C      1.0   \n",
              "..                                                ...    ...      ...   \n",
              "95  Which of the following may be recommended for ...      D      1.0   \n",
              "96  Which statement about midwife-led continuity o...      A      1.0   \n",
              "97  What is a key consideration regarding task-shi...      D      1.0   \n",
              "98  What is an accurate statement about group ante...      D      1.0   \n",
              "99  What is the WHO's recommendation for the numbe...      D      1.0   \n",
              "\n",
              "     Context                                       Intervention  \n",
              "0    Page 23                          Nutritional interventions  \n",
              "1    Page 14                          Nutritional interventions  \n",
              "2    Page 20                          Nutritional interventions  \n",
              "3    Page 29                          Nutritional interventions  \n",
              "4    Page 41                      Maternal and fetal assessment  \n",
              "..       ...                                                ...  \n",
              "95   Page 74  Interventional measures for common physiologic...  \n",
              "96   Page 89                       Health systems interventions  \n",
              "97   Page 99                       Health systems interventions  \n",
              "98   Page 91                       Health systems interventions  \n",
              "99  Page 105                       Health systems interventions  \n",
              "\n",
              "[100 rows x 5 columns]"
            ],
            "text/html": [
              "\n",
              "  <div id=\"df-339cbe1a-e77d-483e-8562-8462425594de\" class=\"colab-df-container\">\n",
              "    <div>\n",
              "<style scoped>\n",
              "    .dataframe tbody tr th:only-of-type {\n",
              "        vertical-align: middle;\n",
              "    }\n",
              "\n",
              "    .dataframe tbody tr th {\n",
              "        vertical-align: top;\n",
              "    }\n",
              "\n",
              "    .dataframe thead th {\n",
              "        text-align: right;\n",
              "    }\n",
              "</style>\n",
              "<table border=\"1\" class=\"dataframe\">\n",
              "  <thead>\n",
              "    <tr style=\"text-align: right;\">\n",
              "      <th></th>\n",
              "      <th>Question</th>\n",
              "      <th>Choice</th>\n",
              "      <th>Correct</th>\n",
              "      <th>Context</th>\n",
              "      <th>Intervention</th>\n",
              "    </tr>\n",
              "  </thead>\n",
              "  <tbody>\n",
              "    <tr>\n",
              "      <th>0</th>\n",
              "      <td>Which supplement is routinely recommended for ...</td>\n",
              "      <td>A</td>\n",
              "      <td>1.0</td>\n",
              "      <td>Page 23</td>\n",
              "      <td>Nutritional interventions</td>\n",
              "    </tr>\n",
              "    <tr>\n",
              "      <th>1</th>\n",
              "      <td>What does a healthy diet during pregnancy cons...</td>\n",
              "      <td>D</td>\n",
              "      <td>1.0</td>\n",
              "      <td>Page 14</td>\n",
              "      <td>Nutritional interventions</td>\n",
              "    </tr>\n",
              "    <tr>\n",
              "      <th>2</th>\n",
              "      <td>For undernourished populations, which type of ...</td>\n",
              "      <td>B</td>\n",
              "      <td>1.0</td>\n",
              "      <td>Page 20</td>\n",
              "      <td>Nutritional interventions</td>\n",
              "    </tr>\n",
              "    <tr>\n",
              "      <th>3</th>\n",
              "      <td>When is vitamin A supplementation recommended ...</td>\n",
              "      <td>B</td>\n",
              "      <td>1.0</td>\n",
              "      <td>Page 29</td>\n",
              "      <td>Nutritional interventions</td>\n",
              "    </tr>\n",
              "    <tr>\n",
              "      <th>4</th>\n",
              "      <td>What is the recommended method for diagnosing ...</td>\n",
              "      <td>C</td>\n",
              "      <td>1.0</td>\n",
              "      <td>Page 41</td>\n",
              "      <td>Maternal and fetal assessment</td>\n",
              "    </tr>\n",
              "    <tr>\n",
              "      <th>...</th>\n",
              "      <td>...</td>\n",
              "      <td>...</td>\n",
              "      <td>...</td>\n",
              "      <td>...</td>\n",
              "      <td>...</td>\n",
              "    </tr>\n",
              "    <tr>\n",
              "      <th>95</th>\n",
              "      <td>Which of the following may be recommended for ...</td>\n",
              "      <td>D</td>\n",
              "      <td>1.0</td>\n",
              "      <td>Page 74</td>\n",
              "      <td>Interventional measures for common physiologic...</td>\n",
              "    </tr>\n",
              "    <tr>\n",
              "      <th>96</th>\n",
              "      <td>Which statement about midwife-led continuity o...</td>\n",
              "      <td>A</td>\n",
              "      <td>1.0</td>\n",
              "      <td>Page 89</td>\n",
              "      <td>Health systems interventions</td>\n",
              "    </tr>\n",
              "    <tr>\n",
              "      <th>97</th>\n",
              "      <td>What is a key consideration regarding task-shi...</td>\n",
              "      <td>D</td>\n",
              "      <td>1.0</td>\n",
              "      <td>Page 99</td>\n",
              "      <td>Health systems interventions</td>\n",
              "    </tr>\n",
              "    <tr>\n",
              "      <th>98</th>\n",
              "      <td>What is an accurate statement about group ante...</td>\n",
              "      <td>D</td>\n",
              "      <td>1.0</td>\n",
              "      <td>Page 91</td>\n",
              "      <td>Health systems interventions</td>\n",
              "    </tr>\n",
              "    <tr>\n",
              "      <th>99</th>\n",
              "      <td>What is the WHO's recommendation for the numbe...</td>\n",
              "      <td>D</td>\n",
              "      <td>1.0</td>\n",
              "      <td>Page 105</td>\n",
              "      <td>Health systems interventions</td>\n",
              "    </tr>\n",
              "  </tbody>\n",
              "</table>\n",
              "<p>100 rows × 5 columns</p>\n",
              "</div>\n",
              "    <div class=\"colab-df-buttons\">\n",
              "\n",
              "  <div class=\"colab-df-container\">\n",
              "    <button class=\"colab-df-convert\" onclick=\"convertToInteractive('df-339cbe1a-e77d-483e-8562-8462425594de')\"\n",
              "            title=\"Convert this dataframe to an interactive table.\"\n",
              "            style=\"display:none;\">\n",
              "\n",
              "  <svg xmlns=\"http://www.w3.org/2000/svg\" height=\"24px\" viewBox=\"0 -960 960 960\">\n",
              "    <path d=\"M120-120v-720h720v720H120Zm60-500h600v-160H180v160Zm220 220h160v-160H400v160Zm0 220h160v-160H400v160ZM180-400h160v-160H180v160Zm440 0h160v-160H620v160ZM180-180h160v-160H180v160Zm440 0h160v-160H620v160Z\"/>\n",
              "  </svg>\n",
              "    </button>\n",
              "\n",
              "  <style>\n",
              "    .colab-df-container {\n",
              "      display:flex;\n",
              "      gap: 12px;\n",
              "    }\n",
              "\n",
              "    .colab-df-convert {\n",
              "      background-color: #E8F0FE;\n",
              "      border: none;\n",
              "      border-radius: 50%;\n",
              "      cursor: pointer;\n",
              "      display: none;\n",
              "      fill: #1967D2;\n",
              "      height: 32px;\n",
              "      padding: 0 0 0 0;\n",
              "      width: 32px;\n",
              "    }\n",
              "\n",
              "    .colab-df-convert:hover {\n",
              "      background-color: #E2EBFA;\n",
              "      box-shadow: 0px 1px 2px rgba(60, 64, 67, 0.3), 0px 1px 3px 1px rgba(60, 64, 67, 0.15);\n",
              "      fill: #174EA6;\n",
              "    }\n",
              "\n",
              "    .colab-df-buttons div {\n",
              "      margin-bottom: 4px;\n",
              "    }\n",
              "\n",
              "    [theme=dark] .colab-df-convert {\n",
              "      background-color: #3B4455;\n",
              "      fill: #D2E3FC;\n",
              "    }\n",
              "\n",
              "    [theme=dark] .colab-df-convert:hover {\n",
              "      background-color: #434B5C;\n",
              "      box-shadow: 0px 1px 3px 1px rgba(0, 0, 0, 0.15);\n",
              "      filter: drop-shadow(0px 1px 2px rgba(0, 0, 0, 0.3));\n",
              "      fill: #FFFFFF;\n",
              "    }\n",
              "  </style>\n",
              "\n",
              "    <script>\n",
              "      const buttonEl =\n",
              "        document.querySelector('#df-339cbe1a-e77d-483e-8562-8462425594de button.colab-df-convert');\n",
              "      buttonEl.style.display =\n",
              "        google.colab.kernel.accessAllowed ? 'block' : 'none';\n",
              "\n",
              "      async function convertToInteractive(key) {\n",
              "        const element = document.querySelector('#df-339cbe1a-e77d-483e-8562-8462425594de');\n",
              "        const dataTable =\n",
              "          await google.colab.kernel.invokeFunction('convertToInteractive',\n",
              "                                                    [key], {});\n",
              "        if (!dataTable) return;\n",
              "\n",
              "        const docLinkHtml = 'Like what you see? Visit the ' +\n",
              "          '<a target=\"_blank\" href=https://colab.research.google.com/notebooks/data_table.ipynb>data table notebook</a>'\n",
              "          + ' to learn more about interactive tables.';\n",
              "        element.innerHTML = '';\n",
              "        dataTable['output_type'] = 'display_data';\n",
              "        await google.colab.output.renderOutput(dataTable, element);\n",
              "        const docLink = document.createElement('div');\n",
              "        docLink.innerHTML = docLinkHtml;\n",
              "        element.appendChild(docLink);\n",
              "      }\n",
              "    </script>\n",
              "  </div>\n",
              "\n",
              "\n",
              "<div id=\"df-692ee2de-3d1e-4af0-b143-11098d4ffd3b\">\n",
              "  <button class=\"colab-df-quickchart\" onclick=\"quickchart('df-692ee2de-3d1e-4af0-b143-11098d4ffd3b')\"\n",
              "            title=\"Suggest charts\"\n",
              "            style=\"display:none;\">\n",
              "\n",
              "<svg xmlns=\"http://www.w3.org/2000/svg\" height=\"24px\"viewBox=\"0 0 24 24\"\n",
              "     width=\"24px\">\n",
              "    <g>\n",
              "        <path d=\"M19 3H5c-1.1 0-2 .9-2 2v14c0 1.1.9 2 2 2h14c1.1 0 2-.9 2-2V5c0-1.1-.9-2-2-2zM9 17H7v-7h2v7zm4 0h-2V7h2v10zm4 0h-2v-4h2v4z\"/>\n",
              "    </g>\n",
              "</svg>\n",
              "  </button>\n",
              "\n",
              "<style>\n",
              "  .colab-df-quickchart {\n",
              "      --bg-color: #E8F0FE;\n",
              "      --fill-color: #1967D2;\n",
              "      --hover-bg-color: #E2EBFA;\n",
              "      --hover-fill-color: #174EA6;\n",
              "      --disabled-fill-color: #AAA;\n",
              "      --disabled-bg-color: #DDD;\n",
              "  }\n",
              "\n",
              "  [theme=dark] .colab-df-quickchart {\n",
              "      --bg-color: #3B4455;\n",
              "      --fill-color: #D2E3FC;\n",
              "      --hover-bg-color: #434B5C;\n",
              "      --hover-fill-color: #FFFFFF;\n",
              "      --disabled-bg-color: #3B4455;\n",
              "      --disabled-fill-color: #666;\n",
              "  }\n",
              "\n",
              "  .colab-df-quickchart {\n",
              "    background-color: var(--bg-color);\n",
              "    border: none;\n",
              "    border-radius: 50%;\n",
              "    cursor: pointer;\n",
              "    display: none;\n",
              "    fill: var(--fill-color);\n",
              "    height: 32px;\n",
              "    padding: 0;\n",
              "    width: 32px;\n",
              "  }\n",
              "\n",
              "  .colab-df-quickchart:hover {\n",
              "    background-color: var(--hover-bg-color);\n",
              "    box-shadow: 0 1px 2px rgba(60, 64, 67, 0.3), 0 1px 3px 1px rgba(60, 64, 67, 0.15);\n",
              "    fill: var(--button-hover-fill-color);\n",
              "  }\n",
              "\n",
              "  .colab-df-quickchart-complete:disabled,\n",
              "  .colab-df-quickchart-complete:disabled:hover {\n",
              "    background-color: var(--disabled-bg-color);\n",
              "    fill: var(--disabled-fill-color);\n",
              "    box-shadow: none;\n",
              "  }\n",
              "\n",
              "  .colab-df-spinner {\n",
              "    border: 2px solid var(--fill-color);\n",
              "    border-color: transparent;\n",
              "    border-bottom-color: var(--fill-color);\n",
              "    animation:\n",
              "      spin 1s steps(1) infinite;\n",
              "  }\n",
              "\n",
              "  @keyframes spin {\n",
              "    0% {\n",
              "      border-color: transparent;\n",
              "      border-bottom-color: var(--fill-color);\n",
              "      border-left-color: var(--fill-color);\n",
              "    }\n",
              "    20% {\n",
              "      border-color: transparent;\n",
              "      border-left-color: var(--fill-color);\n",
              "      border-top-color: var(--fill-color);\n",
              "    }\n",
              "    30% {\n",
              "      border-color: transparent;\n",
              "      border-left-color: var(--fill-color);\n",
              "      border-top-color: var(--fill-color);\n",
              "      border-right-color: var(--fill-color);\n",
              "    }\n",
              "    40% {\n",
              "      border-color: transparent;\n",
              "      border-right-color: var(--fill-color);\n",
              "      border-top-color: var(--fill-color);\n",
              "    }\n",
              "    60% {\n",
              "      border-color: transparent;\n",
              "      border-right-color: var(--fill-color);\n",
              "    }\n",
              "    80% {\n",
              "      border-color: transparent;\n",
              "      border-right-color: var(--fill-color);\n",
              "      border-bottom-color: var(--fill-color);\n",
              "    }\n",
              "    90% {\n",
              "      border-color: transparent;\n",
              "      border-bottom-color: var(--fill-color);\n",
              "    }\n",
              "  }\n",
              "</style>\n",
              "\n",
              "  <script>\n",
              "    async function quickchart(key) {\n",
              "      const quickchartButtonEl =\n",
              "        document.querySelector('#' + key + ' button');\n",
              "      quickchartButtonEl.disabled = true;  // To prevent multiple clicks.\n",
              "      quickchartButtonEl.classList.add('colab-df-spinner');\n",
              "      try {\n",
              "        const charts = await google.colab.kernel.invokeFunction(\n",
              "            'suggestCharts', [key], {});\n",
              "      } catch (error) {\n",
              "        console.error('Error during call to suggestCharts:', error);\n",
              "      }\n",
              "      quickchartButtonEl.classList.remove('colab-df-spinner');\n",
              "      quickchartButtonEl.classList.add('colab-df-quickchart-complete');\n",
              "    }\n",
              "    (() => {\n",
              "      let quickchartButtonEl =\n",
              "        document.querySelector('#df-692ee2de-3d1e-4af0-b143-11098d4ffd3b button');\n",
              "      quickchartButtonEl.style.display =\n",
              "        google.colab.kernel.accessAllowed ? 'block' : 'none';\n",
              "    })();\n",
              "  </script>\n",
              "</div>\n",
              "\n",
              "  <div id=\"id_8e683ddb-823e-430c-9910-fc7be0190f9b\">\n",
              "    <style>\n",
              "      .colab-df-generate {\n",
              "        background-color: #E8F0FE;\n",
              "        border: none;\n",
              "        border-radius: 50%;\n",
              "        cursor: pointer;\n",
              "        display: none;\n",
              "        fill: #1967D2;\n",
              "        height: 32px;\n",
              "        padding: 0 0 0 0;\n",
              "        width: 32px;\n",
              "      }\n",
              "\n",
              "      .colab-df-generate:hover {\n",
              "        background-color: #E2EBFA;\n",
              "        box-shadow: 0px 1px 2px rgba(60, 64, 67, 0.3), 0px 1px 3px 1px rgba(60, 64, 67, 0.15);\n",
              "        fill: #174EA6;\n",
              "      }\n",
              "\n",
              "      [theme=dark] .colab-df-generate {\n",
              "        background-color: #3B4455;\n",
              "        fill: #D2E3FC;\n",
              "      }\n",
              "\n",
              "      [theme=dark] .colab-df-generate:hover {\n",
              "        background-color: #434B5C;\n",
              "        box-shadow: 0px 1px 3px 1px rgba(0, 0, 0, 0.15);\n",
              "        filter: drop-shadow(0px 1px 2px rgba(0, 0, 0, 0.3));\n",
              "        fill: #FFFFFF;\n",
              "      }\n",
              "    </style>\n",
              "    <button class=\"colab-df-generate\" onclick=\"generateWithVariable('mcq_eval_df')\"\n",
              "            title=\"Generate code using this dataframe.\"\n",
              "            style=\"display:none;\">\n",
              "\n",
              "  <svg xmlns=\"http://www.w3.org/2000/svg\" height=\"24px\"viewBox=\"0 0 24 24\"\n",
              "       width=\"24px\">\n",
              "    <path d=\"M7,19H8.4L18.45,9,17,7.55,7,17.6ZM5,21V16.75L18.45,3.32a2,2,0,0,1,2.83,0l1.4,1.43a1.91,1.91,0,0,1,.58,1.4,1.91,1.91,0,0,1-.58,1.4L9.25,21ZM18.45,9,17,7.55Zm-12,3A5.31,5.31,0,0,0,4.9,8.1,5.31,5.31,0,0,0,1,6.5,5.31,5.31,0,0,0,4.9,4.9,5.31,5.31,0,0,0,6.5,1,5.31,5.31,0,0,0,8.1,4.9,5.31,5.31,0,0,0,12,6.5,5.46,5.46,0,0,0,6.5,12Z\"/>\n",
              "  </svg>\n",
              "    </button>\n",
              "    <script>\n",
              "      (() => {\n",
              "      const buttonEl =\n",
              "        document.querySelector('#id_8e683ddb-823e-430c-9910-fc7be0190f9b button.colab-df-generate');\n",
              "      buttonEl.style.display =\n",
              "        google.colab.kernel.accessAllowed ? 'block' : 'none';\n",
              "\n",
              "      buttonEl.onclick = () => {\n",
              "        google.colab.notebook.generateWithVariable('mcq_eval_df');\n",
              "      }\n",
              "      })();\n",
              "    </script>\n",
              "  </div>\n",
              "\n",
              "    </div>\n",
              "  </div>\n"
            ],
            "application/vnd.google.colaboratory.intrinsic+json": {
              "type": "dataframe",
              "variable_name": "mcq_eval_df",
              "summary": "{\n  \"name\": \"mcq_eval_df\",\n  \"rows\": 100,\n  \"fields\": [\n    {\n      \"column\": \"Question\",\n      \"properties\": {\n        \"dtype\": \"string\",\n        \"num_unique_values\": 100,\n        \"samples\": [\n          \"What advice should be given to pregnant women regarding high caffeine intake?\",\n          \"What is true about the management of leg cramps during pregnancy, according to the WHO?\",\n          \"When should preventive anthelminthic treatment be given to pregnant women in endemic areas?\"\n        ],\n        \"semantic_type\": \"\",\n        \"description\": \"\"\n      }\n    },\n    {\n      \"column\": \"Choice\",\n      \"properties\": {\n        \"dtype\": \"category\",\n        \"num_unique_values\": 5,\n        \"samples\": [\n          \"D\",\n          \"E\",\n          \"B\"\n        ],\n        \"semantic_type\": \"\",\n        \"description\": \"\"\n      }\n    },\n    {\n      \"column\": \"Correct\",\n      \"properties\": {\n        \"dtype\": \"number\",\n        \"std\": 0.14070529413628957,\n        \"min\": 0.0,\n        \"max\": 1.0,\n        \"num_unique_values\": 2,\n        \"samples\": [\n          0.0,\n          1.0\n        ],\n        \"semantic_type\": \"\",\n        \"description\": \"\"\n      }\n    },\n    {\n      \"column\": \"Context\",\n      \"properties\": {\n        \"dtype\": \"category\",\n        \"num_unique_values\": 49,\n        \"samples\": [\n          \"Page 74\",\n          \"Page 91, Recommendation E3\"\n        ],\n        \"semantic_type\": \"\",\n        \"description\": \"\"\n      }\n    },\n    {\n      \"column\": \"Intervention\",\n      \"properties\": {\n        \"dtype\": \"category\",\n        \"num_unique_values\": 5,\n        \"samples\": [\n          \"Maternal and fetal assessment\",\n          \"Health systems interventions\"\n        ],\n        \"semantic_type\": \"\",\n        \"description\": \"\"\n      }\n    }\n  ]\n}"
            }
          },
          "metadata": {},
          "execution_count": 46
        }
      ],
      "source": [
        "mcq_eval_df = pd.DataFrame(mcq_evaluated_questions)\n",
        "mcq_eval_df"
      ]
    },
    {
      "cell_type": "code",
      "execution_count": null,
      "metadata": {
        "id": "WGtXvhb4_25X"
      },
      "outputs": [],
      "source": [
        "# Save the evaluations to a CSV file\n",
        "mcq_eval_df.to_csv(\"mcq_eval.csv\", index=False)"
      ]
    },
    {
      "cell_type": "markdown",
      "metadata": {
        "id": "EFFnRF9jZBae"
      },
      "source": [
        "Evaluation results show that all of the MCQ questions were answered correctly by Gemini 1.5 pro model\n",
        "\n",
        "\n",
        "\n"
      ]
    },
    {
      "cell_type": "code",
      "execution_count": null,
      "metadata": {
        "id": "si64FFAwGoXG",
        "colab": {
          "base_uri": "https://localhost:8080/"
        },
        "outputId": "bf0946ee-71db-452d-debf-cfc84e56d4bb"
      },
      "outputs": [
        {
          "output_type": "stream",
          "name": "stdout",
          "text": [
            "Task: Evaluate the provided short answer responses using above extracted text corpus based on the following criteria:\n",
            "\n",
            "Accuracy: Ensure the response aligns with the information presented in the provided text corpus.\n",
            "Relevance: Verify that the response is directly related to the stated intervention topic.\n",
            "Clarity: Check if the response is clear, concise, and avoids ambiguity.\n",
            "Consistency: Ensure the response is consistent with other relevant information in the provided text corpus.\n",
            "\n",
            "Evaluation Format:\n",
            "\n",
            "Question: [Question text]\n",
            "Intervention Topic: [Intervention topic]\n",
            "Response: [Short answer response]\n",
            "Grade: [1-5] (1: Poor, 2: Needs Improvement, 3: Satisfactory, 4: Good, 5: Excellent)\n",
            "Context: [Page number or section reference where the response is supported or contradicted in the provided text corpus]\n",
            "\n",
            "Example:\n",
            "\n",
            "Question: According to the WHO recommendations, what is the recommended daily intake of calcium for pregnant women?\n",
            "Intervention Topic: Nutritional interventions\n",
            "Response: \"Pregnant women should consume 1000 mg of calcium per day.\"\n",
            "Grade: 4\n",
            "Context: Page 75, Section 3.2 of the WHO Guidelines for the Prevention and Management of Gestational Diabetes Mellitus\n",
            "\n",
            "Note: To ensure accurate and relevant evaluations, please provide the specific text corpus that the short answer responses are based on.\n",
            "This will allow for a more precise assessment of the accuracy, relevance, clarity, and consistency of the responses.\n",
            "\n"
          ]
        }
      ],
      "source": [
        "eval_sqa_base_prompt = textwrap.dedent(\"\"\"\\\n",
        "Task: Evaluate the provided short answer responses using above extracted text corpus based on the following criteria:\n",
        "\n",
        "Accuracy: Ensure the response aligns with the information presented in the provided text corpus.\n",
        "Relevance: Verify that the response is directly related to the stated intervention topic.\n",
        "Clarity: Check if the response is clear, concise, and avoids ambiguity.\n",
        "Consistency: Ensure the response is consistent with other relevant information in the provided text corpus.\n",
        "\n",
        "Evaluation Format:\n",
        "\n",
        "Question: [Question text]\n",
        "Intervention Topic: [Intervention topic]\n",
        "Response: [Short answer response]\n",
        "Grade: [1-5] (1: Poor, 2: Needs Improvement, 3: Satisfactory, 4: Good, 5: Excellent)\n",
        "Context: [Page number or section reference where the response is supported or contradicted in the provided text corpus]\n",
        "\n",
        "Example:\n",
        "\n",
        "Question: According to the WHO recommendations, what is the recommended daily intake of calcium for pregnant women?\n",
        "Intervention Topic: Nutritional interventions\n",
        "Response: \"Pregnant women should consume 1000 mg of calcium per day.\"\n",
        "Grade: 4\n",
        "Context: Page 75, Section 3.2 of the WHO Guidelines for the Prevention and Management of Gestational Diabetes Mellitus\n",
        "\n",
        "Note: To ensure accurate and relevant evaluations, please provide the specific text corpus that the short answer responses are based on.\n",
        "This will allow for a more precise assessment of the accuracy, relevance, clarity, and consistency of the responses.\n",
        "\"\"\"\n",
        ")\n",
        "print(eval_sqa_base_prompt)"
      ]
    },
    {
      "cell_type": "markdown",
      "metadata": {
        "id": "N6DEo782m4D4"
      },
      "source": [
        "### Evaluation of Gemma Short Answer question answer using Gemini 1.5"
      ]
    },
    {
      "cell_type": "code",
      "execution_count": null,
      "metadata": {
        "id": "ecD9QJGHIFki"
      },
      "outputs": [],
      "source": [
        "sqa_questions_df = pd.read_csv(\"sqa_questions.csv\")\n",
        "sqa_questions_dict_list = sqa_questions_df.to_dict(orient=\"records\")"
      ]
    },
    {
      "cell_type": "markdown",
      "metadata": {
        "id": "Q2ndkKJUr2Lk"
      },
      "source": [
        "### Define the model with function declaration\n",
        "\n"
      ]
    },
    {
      "cell_type": "code",
      "execution_count": null,
      "metadata": {
        "id": "QtKjXy1_TkGJ"
      },
      "outputs": [],
      "source": [
        "model = model_def(model_name, safety_settings, tools=[sqa_eval_database])\n",
        "chat = model.start_chat(history=[])"
      ]
    },
    {
      "cell_type": "markdown",
      "metadata": {
        "id": "_-CmKg-Ts57A"
      },
      "source": [
        "### Evaluate chat session"
      ]
    },
    {
      "cell_type": "code",
      "execution_count": null,
      "metadata": {
        "id": "O6-_OAc1N0YR"
      },
      "outputs": [],
      "source": [
        "num_sqa_eval_per_prompt = 20"
      ]
    },
    {
      "cell_type": "code",
      "execution_count": null,
      "metadata": {
        "id": "8sgNUcNxN0YT",
        "colab": {
          "base_uri": "https://localhost:8080/",
          "height": 885
        },
        "outputId": "82b70b6a-5e99-4d48-d279-f6b19fa71fb8"
      },
      "outputs": [
        {
          "output_type": "stream",
          "name": "stderr",
          "text": [
            "WARNING:tornado.access:429 POST /v1beta/models/gemini-1.5-pro-latest:generateContent?%24alt=json%3Benum-encoding%3Dint (127.0.0.1) 1287.12ms\n",
            "WARNING:tornado.access:429 POST /v1beta/models/gemini-1.5-pro-latest:generateContent?%24alt=json%3Benum-encoding%3Dint (127.0.0.1) 732.48ms\n",
            "WARNING:tornado.access:429 POST /v1beta/models/gemini-1.5-pro-latest:generateContent?%24alt=json%3Benum-encoding%3Dint (127.0.0.1) 732.16ms\n",
            "WARNING:tornado.access:429 POST /v1beta/models/gemini-1.5-pro-latest:generateContent?%24alt=json%3Benum-encoding%3Dint (127.0.0.1) 1187.04ms\n",
            "WARNING:tornado.access:429 POST /v1beta/models/gemini-1.5-pro-latest:generateContent?%24alt=json%3Benum-encoding%3Dint (127.0.0.1) 957.67ms\n",
            "WARNING:tornado.access:429 POST /v1beta/models/gemini-1.5-pro-latest:generateContent?%24alt=json%3Benum-encoding%3Dint (127.0.0.1) 707.55ms\n",
            "WARNING:tornado.access:429 POST /v1beta/models/gemini-1.5-pro-latest:generateContent?%24alt=json%3Benum-encoding%3Dint (127.0.0.1) 657.62ms\n",
            "WARNING:tornado.access:429 POST /v1beta/models/gemini-1.5-pro-latest:generateContent?%24alt=json%3Benum-encoding%3Dint (127.0.0.1) 883.91ms\n",
            "WARNING:tornado.access:429 POST /v1beta/models/gemini-1.5-pro-latest:generateContent?%24alt=json%3Benum-encoding%3Dint (127.0.0.1) 657.23ms\n",
            "WARNING:tornado.access:429 POST /v1beta/models/gemini-1.5-pro-latest:generateContent?%24alt=json%3Benum-encoding%3Dint (127.0.0.1) 656.66ms\n",
            "WARNING:tornado.access:429 POST /v1beta/models/gemini-1.5-pro-latest:generateContent?%24alt=json%3Benum-encoding%3Dint (127.0.0.1) 757.43ms\n",
            "WARNING:tornado.access:429 POST /v1beta/models/gemini-1.5-pro-latest:generateContent?%24alt=json%3Benum-encoding%3Dint (127.0.0.1) 681.76ms\n"
          ]
        },
        {
          "output_type": "stream",
          "name": "stdout",
          "text": [
            "Evaluated 20 questions in prompt 1\n"
          ]
        },
        {
          "output_type": "stream",
          "name": "stderr",
          "text": [
            "WARNING:tornado.access:429 POST /v1beta/models/gemini-1.5-pro-latest:generateContent?%24alt=json%3Benum-encoding%3Dint (127.0.0.1) 959.56ms\n",
            "WARNING:tornado.access:429 POST /v1beta/models/gemini-1.5-pro-latest:generateContent?%24alt=json%3Benum-encoding%3Dint (127.0.0.1) 757.79ms\n",
            "WARNING:tornado.access:429 POST /v1beta/models/gemini-1.5-pro-latest:generateContent?%24alt=json%3Benum-encoding%3Dint (127.0.0.1) 833.78ms\n",
            "WARNING:tornado.access:429 POST /v1beta/models/gemini-1.5-pro-latest:generateContent?%24alt=json%3Benum-encoding%3Dint (127.0.0.1) 731.85ms\n",
            "WARNING:tornado.access:429 POST /v1beta/models/gemini-1.5-pro-latest:generateContent?%24alt=json%3Benum-encoding%3Dint (127.0.0.1) 707.24ms\n",
            "WARNING:tornado.access:429 POST /v1beta/models/gemini-1.5-pro-latest:generateContent?%24alt=json%3Benum-encoding%3Dint (127.0.0.1) 707.96ms\n",
            "WARNING:tornado.access:429 POST /v1beta/models/gemini-1.5-pro-latest:generateContent?%24alt=json%3Benum-encoding%3Dint (127.0.0.1) 707.58ms\n"
          ]
        },
        {
          "output_type": "stream",
          "name": "stdout",
          "text": [
            "Evaluated 19 questions in prompt 2\n"
          ]
        },
        {
          "output_type": "stream",
          "name": "stderr",
          "text": [
            "WARNING:tornado.access:429 POST /v1beta/models/gemini-1.5-pro-latest:generateContent?%24alt=json%3Benum-encoding%3Dint (127.0.0.1) 961.57ms\n",
            "WARNING:tornado.access:429 POST /v1beta/models/gemini-1.5-pro-latest:generateContent?%24alt=json%3Benum-encoding%3Dint (127.0.0.1) 1012.33ms\n",
            "WARNING:tornado.access:429 POST /v1beta/models/gemini-1.5-pro-latest:generateContent?%24alt=json%3Benum-encoding%3Dint (127.0.0.1) 986.39ms\n",
            "WARNING:tornado.access:429 POST /v1beta/models/gemini-1.5-pro-latest:generateContent?%24alt=json%3Benum-encoding%3Dint (127.0.0.1) 1061.38ms\n",
            "WARNING:tornado.access:429 POST /v1beta/models/gemini-1.5-pro-latest:generateContent?%24alt=json%3Benum-encoding%3Dint (127.0.0.1) 808.87ms\n"
          ]
        },
        {
          "output_type": "stream",
          "name": "stdout",
          "text": [
            "Evaluated 20 questions in prompt 3\n"
          ]
        },
        {
          "output_type": "stream",
          "name": "stderr",
          "text": [
            "WARNING:tornado.access:429 POST /v1beta/models/gemini-1.5-pro-latest:generateContent?%24alt=json%3Benum-encoding%3Dint (127.0.0.1) 1010.60ms\n",
            "WARNING:tornado.access:429 POST /v1beta/models/gemini-1.5-pro-latest:generateContent?%24alt=json%3Benum-encoding%3Dint (127.0.0.1) 783.53ms\n",
            "WARNING:tornado.access:429 POST /v1beta/models/gemini-1.5-pro-latest:generateContent?%24alt=json%3Benum-encoding%3Dint (127.0.0.1) 809.76ms\n",
            "WARNING:tornado.access:429 POST /v1beta/models/gemini-1.5-pro-latest:generateContent?%24alt=json%3Benum-encoding%3Dint (127.0.0.1) 935.49ms\n",
            "WARNING:tornado.access:429 POST /v1beta/models/gemini-1.5-pro-latest:generateContent?%24alt=json%3Benum-encoding%3Dint (127.0.0.1) 833.95ms\n",
            "WARNING:tornado.access:429 POST /v1beta/models/gemini-1.5-pro-latest:generateContent?%24alt=json%3Benum-encoding%3Dint (127.0.0.1) 859.51ms\n",
            "WARNING:tornado.access:429 POST /v1beta/models/gemini-1.5-pro-latest:generateContent?%24alt=json%3Benum-encoding%3Dint (127.0.0.1) 883.90ms\n",
            "WARNING:tornado.access:429 POST /v1beta/models/gemini-1.5-pro-latest:generateContent?%24alt=json%3Benum-encoding%3Dint (127.0.0.1) 959.48ms\n",
            "WARNING:tornado.access:429 POST /v1beta/models/gemini-1.5-pro-latest:generateContent?%24alt=json%3Benum-encoding%3Dint (127.0.0.1) 935.74ms\n",
            "WARNING:tornado.access:429 POST /v1beta/models/gemini-1.5-pro-latest:generateContent?%24alt=json%3Benum-encoding%3Dint (127.0.0.1) 935.01ms\n",
            "WARNING:tornado.access:429 POST /v1beta/models/gemini-1.5-pro-latest:generateContent?%24alt=json%3Benum-encoding%3Dint (127.0.0.1) 783.83ms\n"
          ]
        },
        {
          "output_type": "stream",
          "name": "stdout",
          "text": [
            "Evaluated 20 questions in prompt 4\n"
          ]
        },
        {
          "output_type": "stream",
          "name": "stderr",
          "text": [
            "WARNING:tornado.access:429 POST /v1beta/models/gemini-1.5-pro-latest:generateContent?%24alt=json%3Benum-encoding%3Dint (127.0.0.1) 1237.67ms\n",
            "WARNING:tornado.access:429 POST /v1beta/models/gemini-1.5-pro-latest:generateContent?%24alt=json%3Benum-encoding%3Dint (127.0.0.1) 1013.36ms\n",
            "WARNING:tornado.access:429 POST /v1beta/models/gemini-1.5-pro-latest:generateContent?%24alt=json%3Benum-encoding%3Dint (127.0.0.1) 1112.26ms\n",
            "WARNING:tornado.access:429 POST /v1beta/models/gemini-1.5-pro-latest:generateContent?%24alt=json%3Benum-encoding%3Dint (127.0.0.1) 1185.72ms\n",
            "WARNING:tornado.access:429 POST /v1beta/models/gemini-1.5-pro-latest:generateContent?%24alt=json%3Benum-encoding%3Dint (127.0.0.1) 1113.99ms\n",
            "WARNING:tornado.access:429 POST /v1beta/models/gemini-1.5-pro-latest:generateContent?%24alt=json%3Benum-encoding%3Dint (127.0.0.1) 1011.03ms\n",
            "WARNING:tornado.access:429 POST /v1beta/models/gemini-1.5-pro-latest:generateContent?%24alt=json%3Benum-encoding%3Dint (127.0.0.1) 1041.87ms\n",
            "WARNING:tornado.access:429 POST /v1beta/models/gemini-1.5-pro-latest:generateContent?%24alt=json%3Benum-encoding%3Dint (127.0.0.1) 1034.87ms\n",
            "WARNING:tornado.access:429 POST /v1beta/models/gemini-1.5-pro-latest:generateContent?%24alt=json%3Benum-encoding%3Dint (127.0.0.1) 1036.90ms\n",
            "WARNING:tornado.access:429 POST /v1beta/models/gemini-1.5-pro-latest:generateContent?%24alt=json%3Benum-encoding%3Dint (127.0.0.1) 1010.87ms\n"
          ]
        },
        {
          "output_type": "stream",
          "name": "stdout",
          "text": [
            "Evaluated 20 questions in prompt 5\n"
          ]
        }
      ],
      "source": [
        "sqa_evaluated_questions = eval_questions(\n",
        "    chat_model=chat,\n",
        "    file_ref=file_ref,\n",
        "    base_prompt=eval_sqa_base_prompt,\n",
        "    questions_dict_list=sqa_questions_dict_list,\n",
        "    question_type=\"sqa_eval\",\n",
        "    eval_type_function_name=\"sqa_eval\",\n",
        "    eval_per_prompt=num_sqa_eval_per_prompt,\n",
        "    generation_config=generation_config,\n",
        "    tool_config={\"function_calling_config\": {\"mode\": \"ANY\"}},\n",
        "    model_name = 'gemma'\n",
        ")"
      ]
    },
    {
      "cell_type": "code",
      "execution_count": null,
      "metadata": {
        "id": "GMWVV848N0YT",
        "colab": {
          "base_uri": "https://localhost:8080/",
          "height": 597
        },
        "outputId": "95131201-c86d-4aa1-85fb-1be2bf0089e2"
      },
      "outputs": [
        {
          "output_type": "execute_result",
          "data": {
            "text/plain": [
              "                                         Intervention  \\\n",
              "0                           Nutritional interventions   \n",
              "1                           Nutritional interventions   \n",
              "2                           Nutritional interventions   \n",
              "3                           Nutritional interventions   \n",
              "4                       Maternal and fetal assessment   \n",
              "..                                                ...   \n",
              "94   Interventions from common physiological symptoms   \n",
              "95  Health systems interventions to improve the ut...   \n",
              "96  Health systems interventions to improve the ut...   \n",
              "97  Health systems interventions to improve the ut...   \n",
              "98  Health systems interventions to improve the ut...   \n",
              "\n",
              "                                               Answer  Grade  \\\n",
              "0   A balanced intake of essential nutrients, incl...    4.0   \n",
              "1   To optimize maternal health, fetal growth, and...    5.0   \n",
              "2   Addressing undernourishment during pregnant wo...    4.0   \n",
              "3   During the first trimester, second trimester a...    5.0   \n",
              "4   Hemoglobin level, Hematocrit level, Red blood ...    1.0   \n",
              "..                                                ...    ...   \n",
              "94  Compression stockings, elevation of legs, exer...    4.0   \n",
              "95  Woman-Held Case Notes encourage better communi...    5.0   \n",
              "96  Midwife-Led Continuity of Care Models are most...    4.0   \n",
              "97  Incentives include: Competitive salaries: Offe...    4.0   \n",
              "98  Improving access to healthcare facilities, tra...    4.0   \n",
              "\n",
              "                                              Context  \\\n",
              "0   Page 14: \\\"Pregnancy requires a healthy diet t...   \n",
              "1   Page 15: \\\"...optimize maternal and newborn he...   \n",
              "2   Page 14: \\\"...maternal undernutrition is highl...   \n",
              "3   Page 20: \\\"...balanced energy and protein diet...   \n",
              "4   Page 41: \\\"Full blood count testing...quantifi...   \n",
              "..                                                ...   \n",
              "94  Page 83: Recommendation D.6 recommends these a...   \n",
              "95  Page 87: Recommendation E.1 and its remarks me...   \n",
              "96  Page 89: Recommendation E.2 emphasizes the imp...   \n",
              "97  Page 100: Recommendation E.6 suggests consider...   \n",
              "98  Multiple sections throughout the document cove...   \n",
              "\n",
              "                                             Question  \n",
              "0   What constitutes a healthy diet during pregnancy?  \n",
              "1   What is the goal of nutritional counseling dur...  \n",
              "2   Why is addressing undernutrition during pregna...  \n",
              "3   When is balanced energy and protein supplement...  \n",
              "4   What are the recommended methods for diagnosin...  \n",
              "..                                                ...  \n",
              "94  What non-pharmacological approaches can help m...  \n",
              "95  Why are woman-held case notes encouraged durin...  \n",
              "96  Where are midwife-led continuity of care model...  \n",
              "97  What incentives can be used to address healthc...  \n",
              "98  How can ANC participation and perinatal outcom...  \n",
              "\n",
              "[99 rows x 5 columns]"
            ],
            "text/html": [
              "\n",
              "  <div id=\"df-01b4da5e-0eec-4da2-a8b7-1d3b18be9b05\" class=\"colab-df-container\">\n",
              "    <div>\n",
              "<style scoped>\n",
              "    .dataframe tbody tr th:only-of-type {\n",
              "        vertical-align: middle;\n",
              "    }\n",
              "\n",
              "    .dataframe tbody tr th {\n",
              "        vertical-align: top;\n",
              "    }\n",
              "\n",
              "    .dataframe thead th {\n",
              "        text-align: right;\n",
              "    }\n",
              "</style>\n",
              "<table border=\"1\" class=\"dataframe\">\n",
              "  <thead>\n",
              "    <tr style=\"text-align: right;\">\n",
              "      <th></th>\n",
              "      <th>Intervention</th>\n",
              "      <th>Answer</th>\n",
              "      <th>Grade</th>\n",
              "      <th>Context</th>\n",
              "      <th>Question</th>\n",
              "    </tr>\n",
              "  </thead>\n",
              "  <tbody>\n",
              "    <tr>\n",
              "      <th>0</th>\n",
              "      <td>Nutritional interventions</td>\n",
              "      <td>A balanced intake of essential nutrients, incl...</td>\n",
              "      <td>4.0</td>\n",
              "      <td>Page 14: \\\"Pregnancy requires a healthy diet t...</td>\n",
              "      <td>What constitutes a healthy diet during pregnancy?</td>\n",
              "    </tr>\n",
              "    <tr>\n",
              "      <th>1</th>\n",
              "      <td>Nutritional interventions</td>\n",
              "      <td>To optimize maternal health, fetal growth, and...</td>\n",
              "      <td>5.0</td>\n",
              "      <td>Page 15: \\\"...optimize maternal and newborn he...</td>\n",
              "      <td>What is the goal of nutritional counseling dur...</td>\n",
              "    </tr>\n",
              "    <tr>\n",
              "      <th>2</th>\n",
              "      <td>Nutritional interventions</td>\n",
              "      <td>Addressing undernourishment during pregnant wo...</td>\n",
              "      <td>4.0</td>\n",
              "      <td>Page 14: \\\"...maternal undernutrition is highl...</td>\n",
              "      <td>Why is addressing undernutrition during pregna...</td>\n",
              "    </tr>\n",
              "    <tr>\n",
              "      <th>3</th>\n",
              "      <td>Nutritional interventions</td>\n",
              "      <td>During the first trimester, second trimester a...</td>\n",
              "      <td>5.0</td>\n",
              "      <td>Page 20: \\\"...balanced energy and protein diet...</td>\n",
              "      <td>When is balanced energy and protein supplement...</td>\n",
              "    </tr>\n",
              "    <tr>\n",
              "      <th>4</th>\n",
              "      <td>Maternal and fetal assessment</td>\n",
              "      <td>Hemoglobin level, Hematocrit level, Red blood ...</td>\n",
              "      <td>1.0</td>\n",
              "      <td>Page 41: \\\"Full blood count testing...quantifi...</td>\n",
              "      <td>What are the recommended methods for diagnosin...</td>\n",
              "    </tr>\n",
              "    <tr>\n",
              "      <th>...</th>\n",
              "      <td>...</td>\n",
              "      <td>...</td>\n",
              "      <td>...</td>\n",
              "      <td>...</td>\n",
              "      <td>...</td>\n",
              "    </tr>\n",
              "    <tr>\n",
              "      <th>94</th>\n",
              "      <td>Interventions from common physiological symptoms</td>\n",
              "      <td>Compression stockings, elevation of legs, exer...</td>\n",
              "      <td>4.0</td>\n",
              "      <td>Page 83: Recommendation D.6 recommends these a...</td>\n",
              "      <td>What non-pharmacological approaches can help m...</td>\n",
              "    </tr>\n",
              "    <tr>\n",
              "      <th>95</th>\n",
              "      <td>Health systems interventions to improve the ut...</td>\n",
              "      <td>Woman-Held Case Notes encourage better communi...</td>\n",
              "      <td>5.0</td>\n",
              "      <td>Page 87: Recommendation E.1 and its remarks me...</td>\n",
              "      <td>Why are woman-held case notes encouraged durin...</td>\n",
              "    </tr>\n",
              "    <tr>\n",
              "      <th>96</th>\n",
              "      <td>Health systems interventions to improve the ut...</td>\n",
              "      <td>Midwife-Led Continuity of Care Models are most...</td>\n",
              "      <td>4.0</td>\n",
              "      <td>Page 89: Recommendation E.2 emphasizes the imp...</td>\n",
              "      <td>Where are midwife-led continuity of care model...</td>\n",
              "    </tr>\n",
              "    <tr>\n",
              "      <th>97</th>\n",
              "      <td>Health systems interventions to improve the ut...</td>\n",
              "      <td>Incentives include: Competitive salaries: Offe...</td>\n",
              "      <td>4.0</td>\n",
              "      <td>Page 100: Recommendation E.6 suggests consider...</td>\n",
              "      <td>What incentives can be used to address healthc...</td>\n",
              "    </tr>\n",
              "    <tr>\n",
              "      <th>98</th>\n",
              "      <td>Health systems interventions to improve the ut...</td>\n",
              "      <td>Improving access to healthcare facilities, tra...</td>\n",
              "      <td>4.0</td>\n",
              "      <td>Multiple sections throughout the document cove...</td>\n",
              "      <td>How can ANC participation and perinatal outcom...</td>\n",
              "    </tr>\n",
              "  </tbody>\n",
              "</table>\n",
              "<p>99 rows × 5 columns</p>\n",
              "</div>\n",
              "    <div class=\"colab-df-buttons\">\n",
              "\n",
              "  <div class=\"colab-df-container\">\n",
              "    <button class=\"colab-df-convert\" onclick=\"convertToInteractive('df-01b4da5e-0eec-4da2-a8b7-1d3b18be9b05')\"\n",
              "            title=\"Convert this dataframe to an interactive table.\"\n",
              "            style=\"display:none;\">\n",
              "\n",
              "  <svg xmlns=\"http://www.w3.org/2000/svg\" height=\"24px\" viewBox=\"0 -960 960 960\">\n",
              "    <path d=\"M120-120v-720h720v720H120Zm60-500h600v-160H180v160Zm220 220h160v-160H400v160Zm0 220h160v-160H400v160ZM180-400h160v-160H180v160Zm440 0h160v-160H620v160ZM180-180h160v-160H180v160Zm440 0h160v-160H620v160Z\"/>\n",
              "  </svg>\n",
              "    </button>\n",
              "\n",
              "  <style>\n",
              "    .colab-df-container {\n",
              "      display:flex;\n",
              "      gap: 12px;\n",
              "    }\n",
              "\n",
              "    .colab-df-convert {\n",
              "      background-color: #E8F0FE;\n",
              "      border: none;\n",
              "      border-radius: 50%;\n",
              "      cursor: pointer;\n",
              "      display: none;\n",
              "      fill: #1967D2;\n",
              "      height: 32px;\n",
              "      padding: 0 0 0 0;\n",
              "      width: 32px;\n",
              "    }\n",
              "\n",
              "    .colab-df-convert:hover {\n",
              "      background-color: #E2EBFA;\n",
              "      box-shadow: 0px 1px 2px rgba(60, 64, 67, 0.3), 0px 1px 3px 1px rgba(60, 64, 67, 0.15);\n",
              "      fill: #174EA6;\n",
              "    }\n",
              "\n",
              "    .colab-df-buttons div {\n",
              "      margin-bottom: 4px;\n",
              "    }\n",
              "\n",
              "    [theme=dark] .colab-df-convert {\n",
              "      background-color: #3B4455;\n",
              "      fill: #D2E3FC;\n",
              "    }\n",
              "\n",
              "    [theme=dark] .colab-df-convert:hover {\n",
              "      background-color: #434B5C;\n",
              "      box-shadow: 0px 1px 3px 1px rgba(0, 0, 0, 0.15);\n",
              "      filter: drop-shadow(0px 1px 2px rgba(0, 0, 0, 0.3));\n",
              "      fill: #FFFFFF;\n",
              "    }\n",
              "  </style>\n",
              "\n",
              "    <script>\n",
              "      const buttonEl =\n",
              "        document.querySelector('#df-01b4da5e-0eec-4da2-a8b7-1d3b18be9b05 button.colab-df-convert');\n",
              "      buttonEl.style.display =\n",
              "        google.colab.kernel.accessAllowed ? 'block' : 'none';\n",
              "\n",
              "      async function convertToInteractive(key) {\n",
              "        const element = document.querySelector('#df-01b4da5e-0eec-4da2-a8b7-1d3b18be9b05');\n",
              "        const dataTable =\n",
              "          await google.colab.kernel.invokeFunction('convertToInteractive',\n",
              "                                                    [key], {});\n",
              "        if (!dataTable) return;\n",
              "\n",
              "        const docLinkHtml = 'Like what you see? Visit the ' +\n",
              "          '<a target=\"_blank\" href=https://colab.research.google.com/notebooks/data_table.ipynb>data table notebook</a>'\n",
              "          + ' to learn more about interactive tables.';\n",
              "        element.innerHTML = '';\n",
              "        dataTable['output_type'] = 'display_data';\n",
              "        await google.colab.output.renderOutput(dataTable, element);\n",
              "        const docLink = document.createElement('div');\n",
              "        docLink.innerHTML = docLinkHtml;\n",
              "        element.appendChild(docLink);\n",
              "      }\n",
              "    </script>\n",
              "  </div>\n",
              "\n",
              "\n",
              "<div id=\"df-9ad1d8b9-54b3-4a34-a692-3811a97a5609\">\n",
              "  <button class=\"colab-df-quickchart\" onclick=\"quickchart('df-9ad1d8b9-54b3-4a34-a692-3811a97a5609')\"\n",
              "            title=\"Suggest charts\"\n",
              "            style=\"display:none;\">\n",
              "\n",
              "<svg xmlns=\"http://www.w3.org/2000/svg\" height=\"24px\"viewBox=\"0 0 24 24\"\n",
              "     width=\"24px\">\n",
              "    <g>\n",
              "        <path d=\"M19 3H5c-1.1 0-2 .9-2 2v14c0 1.1.9 2 2 2h14c1.1 0 2-.9 2-2V5c0-1.1-.9-2-2-2zM9 17H7v-7h2v7zm4 0h-2V7h2v10zm4 0h-2v-4h2v4z\"/>\n",
              "    </g>\n",
              "</svg>\n",
              "  </button>\n",
              "\n",
              "<style>\n",
              "  .colab-df-quickchart {\n",
              "      --bg-color: #E8F0FE;\n",
              "      --fill-color: #1967D2;\n",
              "      --hover-bg-color: #E2EBFA;\n",
              "      --hover-fill-color: #174EA6;\n",
              "      --disabled-fill-color: #AAA;\n",
              "      --disabled-bg-color: #DDD;\n",
              "  }\n",
              "\n",
              "  [theme=dark] .colab-df-quickchart {\n",
              "      --bg-color: #3B4455;\n",
              "      --fill-color: #D2E3FC;\n",
              "      --hover-bg-color: #434B5C;\n",
              "      --hover-fill-color: #FFFFFF;\n",
              "      --disabled-bg-color: #3B4455;\n",
              "      --disabled-fill-color: #666;\n",
              "  }\n",
              "\n",
              "  .colab-df-quickchart {\n",
              "    background-color: var(--bg-color);\n",
              "    border: none;\n",
              "    border-radius: 50%;\n",
              "    cursor: pointer;\n",
              "    display: none;\n",
              "    fill: var(--fill-color);\n",
              "    height: 32px;\n",
              "    padding: 0;\n",
              "    width: 32px;\n",
              "  }\n",
              "\n",
              "  .colab-df-quickchart:hover {\n",
              "    background-color: var(--hover-bg-color);\n",
              "    box-shadow: 0 1px 2px rgba(60, 64, 67, 0.3), 0 1px 3px 1px rgba(60, 64, 67, 0.15);\n",
              "    fill: var(--button-hover-fill-color);\n",
              "  }\n",
              "\n",
              "  .colab-df-quickchart-complete:disabled,\n",
              "  .colab-df-quickchart-complete:disabled:hover {\n",
              "    background-color: var(--disabled-bg-color);\n",
              "    fill: var(--disabled-fill-color);\n",
              "    box-shadow: none;\n",
              "  }\n",
              "\n",
              "  .colab-df-spinner {\n",
              "    border: 2px solid var(--fill-color);\n",
              "    border-color: transparent;\n",
              "    border-bottom-color: var(--fill-color);\n",
              "    animation:\n",
              "      spin 1s steps(1) infinite;\n",
              "  }\n",
              "\n",
              "  @keyframes spin {\n",
              "    0% {\n",
              "      border-color: transparent;\n",
              "      border-bottom-color: var(--fill-color);\n",
              "      border-left-color: var(--fill-color);\n",
              "    }\n",
              "    20% {\n",
              "      border-color: transparent;\n",
              "      border-left-color: var(--fill-color);\n",
              "      border-top-color: var(--fill-color);\n",
              "    }\n",
              "    30% {\n",
              "      border-color: transparent;\n",
              "      border-left-color: var(--fill-color);\n",
              "      border-top-color: var(--fill-color);\n",
              "      border-right-color: var(--fill-color);\n",
              "    }\n",
              "    40% {\n",
              "      border-color: transparent;\n",
              "      border-right-color: var(--fill-color);\n",
              "      border-top-color: var(--fill-color);\n",
              "    }\n",
              "    60% {\n",
              "      border-color: transparent;\n",
              "      border-right-color: var(--fill-color);\n",
              "    }\n",
              "    80% {\n",
              "      border-color: transparent;\n",
              "      border-right-color: var(--fill-color);\n",
              "      border-bottom-color: var(--fill-color);\n",
              "    }\n",
              "    90% {\n",
              "      border-color: transparent;\n",
              "      border-bottom-color: var(--fill-color);\n",
              "    }\n",
              "  }\n",
              "</style>\n",
              "\n",
              "  <script>\n",
              "    async function quickchart(key) {\n",
              "      const quickchartButtonEl =\n",
              "        document.querySelector('#' + key + ' button');\n",
              "      quickchartButtonEl.disabled = true;  // To prevent multiple clicks.\n",
              "      quickchartButtonEl.classList.add('colab-df-spinner');\n",
              "      try {\n",
              "        const charts = await google.colab.kernel.invokeFunction(\n",
              "            'suggestCharts', [key], {});\n",
              "      } catch (error) {\n",
              "        console.error('Error during call to suggestCharts:', error);\n",
              "      }\n",
              "      quickchartButtonEl.classList.remove('colab-df-spinner');\n",
              "      quickchartButtonEl.classList.add('colab-df-quickchart-complete');\n",
              "    }\n",
              "    (() => {\n",
              "      let quickchartButtonEl =\n",
              "        document.querySelector('#df-9ad1d8b9-54b3-4a34-a692-3811a97a5609 button');\n",
              "      quickchartButtonEl.style.display =\n",
              "        google.colab.kernel.accessAllowed ? 'block' : 'none';\n",
              "    })();\n",
              "  </script>\n",
              "</div>\n",
              "\n",
              "  <div id=\"id_8cf5fdbc-e9e8-4ef4-be22-9d254b047335\">\n",
              "    <style>\n",
              "      .colab-df-generate {\n",
              "        background-color: #E8F0FE;\n",
              "        border: none;\n",
              "        border-radius: 50%;\n",
              "        cursor: pointer;\n",
              "        display: none;\n",
              "        fill: #1967D2;\n",
              "        height: 32px;\n",
              "        padding: 0 0 0 0;\n",
              "        width: 32px;\n",
              "      }\n",
              "\n",
              "      .colab-df-generate:hover {\n",
              "        background-color: #E2EBFA;\n",
              "        box-shadow: 0px 1px 2px rgba(60, 64, 67, 0.3), 0px 1px 3px 1px rgba(60, 64, 67, 0.15);\n",
              "        fill: #174EA6;\n",
              "      }\n",
              "\n",
              "      [theme=dark] .colab-df-generate {\n",
              "        background-color: #3B4455;\n",
              "        fill: #D2E3FC;\n",
              "      }\n",
              "\n",
              "      [theme=dark] .colab-df-generate:hover {\n",
              "        background-color: #434B5C;\n",
              "        box-shadow: 0px 1px 3px 1px rgba(0, 0, 0, 0.15);\n",
              "        filter: drop-shadow(0px 1px 2px rgba(0, 0, 0, 0.3));\n",
              "        fill: #FFFFFF;\n",
              "      }\n",
              "    </style>\n",
              "    <button class=\"colab-df-generate\" onclick=\"generateWithVariable('sqa_eval_df_gemma')\"\n",
              "            title=\"Generate code using this dataframe.\"\n",
              "            style=\"display:none;\">\n",
              "\n",
              "  <svg xmlns=\"http://www.w3.org/2000/svg\" height=\"24px\"viewBox=\"0 0 24 24\"\n",
              "       width=\"24px\">\n",
              "    <path d=\"M7,19H8.4L18.45,9,17,7.55,7,17.6ZM5,21V16.75L18.45,3.32a2,2,0,0,1,2.83,0l1.4,1.43a1.91,1.91,0,0,1,.58,1.4,1.91,1.91,0,0,1-.58,1.4L9.25,21ZM18.45,9,17,7.55Zm-12,3A5.31,5.31,0,0,0,4.9,8.1,5.31,5.31,0,0,0,1,6.5,5.31,5.31,0,0,0,4.9,4.9,5.31,5.31,0,0,0,6.5,1,5.31,5.31,0,0,0,8.1,4.9,5.31,5.31,0,0,0,12,6.5,5.46,5.46,0,0,0,6.5,12Z\"/>\n",
              "  </svg>\n",
              "    </button>\n",
              "    <script>\n",
              "      (() => {\n",
              "      const buttonEl =\n",
              "        document.querySelector('#id_8cf5fdbc-e9e8-4ef4-be22-9d254b047335 button.colab-df-generate');\n",
              "      buttonEl.style.display =\n",
              "        google.colab.kernel.accessAllowed ? 'block' : 'none';\n",
              "\n",
              "      buttonEl.onclick = () => {\n",
              "        google.colab.notebook.generateWithVariable('sqa_eval_df_gemma');\n",
              "      }\n",
              "      })();\n",
              "    </script>\n",
              "  </div>\n",
              "\n",
              "    </div>\n",
              "  </div>\n"
            ],
            "application/vnd.google.colaboratory.intrinsic+json": {
              "type": "dataframe",
              "variable_name": "sqa_eval_df_gemma",
              "summary": "{\n  \"name\": \"sqa_eval_df_gemma\",\n  \"rows\": 99,\n  \"fields\": [\n    {\n      \"column\": \"Intervention\",\n      \"properties\": {\n        \"dtype\": \"category\",\n        \"num_unique_values\": 6,\n        \"samples\": [\n          \"Nutritional interventions\",\n          \"Maternal and fetal assessment\",\n          \"Interventions from common physiological symptoms\"\n        ],\n        \"semantic_type\": \"\",\n        \"description\": \"\"\n      }\n    },\n    {\n      \"column\": \"Answer\",\n      \"properties\": {\n        \"dtype\": \"string\",\n        \"num_unique_values\": 97,\n        \"samples\": [\n          \"Yes, pregnant and lactating women need adequate vitamin D supplementation.\",\n          \"No, it's not recommended.\",\n          \"Woman-Held Case Notes encourage better communication, patient engagement, and improved continuity of care.\"\n        ],\n        \"semantic_type\": \"\",\n        \"description\": \"\"\n      }\n    },\n    {\n      \"column\": \"Grade\",\n      \"properties\": {\n        \"dtype\": \"number\",\n        \"std\": 1.2056179905878244,\n        \"min\": 1.0,\n        \"max\": 5.0,\n        \"num_unique_values\": 5,\n        \"samples\": [\n          5.0,\n          2.0,\n          1.0\n        ],\n        \"semantic_type\": \"\",\n        \"description\": \"\"\n      }\n    },\n    {\n      \"column\": \"Context\",\n      \"properties\": {\n        \"dtype\": \"string\",\n        \"num_unique_values\": 97,\n        \"samples\": [\n          \"Page 45: Recommendation B.1.3 and remarks discuss IPV screening, supportive responses, and referrals.\",\n          \"Page 22: \\\\\\\"In undernourished populations, high-protein supplementation is not recommended for pregnant women to improve maternal and perinatal outcomes.\\\\\\\"\",\n          \"Page 87: Recommendation E.1 and its remarks mention these benefits.\"\n        ],\n        \"semantic_type\": \"\",\n        \"description\": \"\"\n      }\n    },\n    {\n      \"column\": \"Question\",\n      \"properties\": {\n        \"dtype\": \"string\",\n        \"num_unique_values\": 99,\n        \"samples\": [\n          \"Should pregnant women take Vitamin D supplements?\",\n          \"Is high-protein supplementation advisable for undernourished pregnant women?\",\n          \"Why are woman-held case notes encouraged during pregnancy?\"\n        ],\n        \"semantic_type\": \"\",\n        \"description\": \"\"\n      }\n    }\n  ]\n}"
            }
          },
          "metadata": {},
          "execution_count": 53
        }
      ],
      "source": [
        "sqa_eval_df_gemma = pd.DataFrame(sqa_evaluated_questions)\n",
        "sqa_eval_df_gemma"
      ]
    },
    {
      "cell_type": "code",
      "execution_count": null,
      "metadata": {
        "id": "AmMrjhnfN0YT"
      },
      "outputs": [],
      "source": [
        "sqa_eval_df_gemma.to_csv(\"sqa_eval_gemma.csv\", index=False)"
      ]
    },
    {
      "cell_type": "markdown",
      "metadata": {
        "id": "-W_WJIUV-n65"
      },
      "source": [
        "### Merging of the sqa eval of gemma and gemini dataframes"
      ]
    },
    {
      "cell_type": "code",
      "execution_count": null,
      "metadata": {
        "id": "neg_VMOjUuoU"
      },
      "outputs": [],
      "source": [
        "sqa_eval_df = pd.read_csv(\"sqa_eval.csv\")\n",
        "sqa_eval_gemma_df = pd.read_csv(\"sqa_eval_gemma.csv\")"
      ]
    },
    {
      "cell_type": "code",
      "execution_count": null,
      "metadata": {
        "id": "uDbkDTx5-16Q"
      },
      "outputs": [],
      "source": [
        "result = merge_df(sqa_eval_df,sqa_eval_gemma_df)\n",
        "result.to_csv(\"sqa_eval_result.csv\", index=False)"
      ]
    },
    {
      "cell_type": "markdown",
      "metadata": {
        "id": "cP5YUv5RuT8s"
      },
      "source": [
        "### Comparision of the Gemini and Gemma Grades"
      ]
    },
    {
      "cell_type": "markdown",
      "metadata": {
        "id": "qe9v3Zz6vWHi"
      },
      "source": [
        "### Comparision of gemma model w.r.t to gemini in terms of Mean"
      ]
    },
    {
      "cell_type": "code",
      "execution_count": null,
      "metadata": {
        "id": "7l_zz-NmtePU",
        "colab": {
          "base_uri": "https://localhost:8080/"
        },
        "outputId": "f46ecfdb-2cf4-46c8-9a40-8031eccf4164"
      },
      "outputs": [
        {
          "output_type": "stream",
          "name": "stdout",
          "text": [
            "The mean of the grades is gemini 4.99\n"
          ]
        }
      ],
      "source": [
        "print(f\"The mean of the grades is gemini {result['Grade_gemini'].agg('mean')}\")"
      ]
    },
    {
      "cell_type": "code",
      "execution_count": null,
      "metadata": {
        "id": "SeApIsdCpbt9",
        "colab": {
          "base_uri": "https://localhost:8080/"
        },
        "outputId": "250a91cd-4921-4ee3-dade-57d4b719593a"
      },
      "outputs": [
        {
          "output_type": "stream",
          "name": "stdout",
          "text": [
            "The mean of the grades is gemma_2b 3.56\n"
          ]
        }
      ],
      "source": [
        "print(f\"The mean of the grades is gemma_2b {result['Grade_gemma_2b'].agg('mean')}\")"
      ]
    },
    {
      "cell_type": "markdown",
      "metadata": {
        "id": "Re4D3Y74vHp8"
      },
      "source": [
        "### Comparision of gemma model w.r.t to gemini in terms of count"
      ]
    },
    {
      "cell_type": "code",
      "execution_count": null,
      "metadata": {
        "id": "1Y4buebFIA98",
        "colab": {
          "base_uri": "https://localhost:8080/"
        },
        "outputId": "389e4934-8679-4791-9ff9-4cb80a59f050"
      },
      "outputs": [
        {
          "output_type": "stream",
          "name": "stdout",
          "text": [
            "The number of questions gemma and gemini got same grades is 20\n",
            "The number of questions gemma got better grades compared gemini 0\n",
            "The number of questions gemma got worst grades compared to gemini 80\n",
            "Grade differences and counts between Gemma and Gemini for questions where Gemma underperformed.\n",
            "{1.0: 47, 4.0: 10, 2.0: 13, 3.0: 10}\n"
          ]
        }
      ],
      "source": [
        "get_metrics(result)"
      ]
    }
  ]
}