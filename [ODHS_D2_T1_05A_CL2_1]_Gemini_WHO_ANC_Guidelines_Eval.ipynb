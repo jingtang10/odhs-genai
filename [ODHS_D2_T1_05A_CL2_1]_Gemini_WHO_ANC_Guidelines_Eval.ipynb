{
  "nbformat": 4,
  "nbformat_minor": 0,
  "metadata": {
    "colab": {
      "provenance": [],
      "authorship_tag": "ABX9TyOQhm7Da3wBSMedfAL2BK9+",
      "include_colab_link": true
    },
    "kernelspec": {
      "name": "python3",
      "display_name": "Python 3"
    },
    "language_info": {
      "name": "python"
    }
  },
  "cells": [
    {
      "cell_type": "markdown",
      "metadata": {
        "id": "view-in-github",
        "colab_type": "text"
      },
      "source": [
        "<a href=\"https://colab.research.google.com/github/jingtang10/odhs-genai/blob/main/%5BODHS_D2_T1_05A_CL2_1%5D_Gemini_WHO_ANC_Guidelines_Eval.ipynb\" target=\"_parent\"><img src=\"https://colab.research.google.com/assets/colab-badge.svg\" alt=\"Open In Colab\"/></a>"
      ]
    },
    {
      "cell_type": "code",
      "execution_count": null,
      "metadata": {
        "id": "V9Z1Efw34jlz"
      },
      "outputs": [],
      "source": []
    },
    {
      "cell_type": "markdown",
      "metadata": {
        "id": "EwNjhAyUx5Vy"
      },
      "source": [
        "## Install the Gemini API SDK\n",
        "\n",
        "The Python SDK for the Gemini API is contained in the [google-generativeai package](https://pypi.org/project/google-generativeai/). Install the dependency using pip.\n",
        "\n"
      ]
    },
    {
      "cell_type": "code",
      "execution_count": null,
      "metadata": {
        "id": "hGLP5DrSxtHG"
      },
      "outputs": [],
      "source": [
        "! pip install -U -q google-generativeai"
      ]
    },
    {
      "cell_type": "markdown",
      "metadata": {
        "id": "d4jRgfsQx8d4"
      },
      "source": [
        "## Import the libraries\n"
      ]
    },
    {
      "cell_type": "code",
      "execution_count": null,
      "metadata": {
        "id": "EpT4Pp8Bx8Pz"
      },
      "outputs": [],
      "source": [
        "import os\n",
        "import json\n",
        "import pathlib\n",
        "import textwrap\n",
        "import pandas as pd\n",
        "import time\n",
        "\n",
        "import google.generativeai as genai\n",
        "from google.generativeai import caching\n",
        "\n",
        "from IPython.display import display\n",
        "from IPython.display import Markdown\n",
        "from typing import Union, List\n",
        "\n",
        "from google.generativeai.types import RequestOptions\n",
        "from google.api_core import retry, exceptions\n"
      ]
    },
    {
      "cell_type": "markdown",
      "metadata": {
        "id": "vChevak0zUh_"
      },
      "source": [
        "## Set up your API key\n",
        "\n",
        "\n",
        "To use the Gemini API, you'll need an API key. Store your API key in Colab Secrets named `GOOGLE_API_KEY`.   \n",
        "If you don't have an API key or need help creating a Colab Secrets, see the [Authentication](https://github.com/google-gemini/cookbook/blob/main/quickstarts/Authentication.ipynb) guide."
      ]
    },
    {
      "cell_type": "code",
      "execution_count": null,
      "metadata": {
        "id": "UBzh7C86yAiq"
      },
      "outputs": [],
      "source": [
        "# passing the API key\n",
        "try:\n",
        "  from google.colab import userdata\n",
        "  GOOGLE_API_KEY = userdata.get ('GOOGLE_API_KEY')\n",
        "  genai.configure(api_key=GOOGLE_API_KEY)\n",
        "except ImportError:\n",
        "  pass"
      ]
    },
    {
      "cell_type": "markdown",
      "metadata": {
        "id": "4tQZxmCbJMTk"
      },
      "source": [
        "## Set environment variables\n",
        "Set environment variables for\n",
        "add huggingface\n"
      ]
    },
    {
      "cell_type": "markdown",
      "metadata": {
        "id": "0I20XXYHeqf-"
      },
      "source": [
        "## Upload WHO's antenatal care guidelines file\n",
        "\n",
        "Use the [`upload_file`](https://ai.google.dev/gemini-api/docs/document-processing?lang=python#upload-document) API to temporarily store WHO's antenatal care guidelines pdf file. This process produces a file reference that can be used to prompt a model."
      ]
    },
    {
      "cell_type": "code",
      "execution_count": null,
      "metadata": {
        "id": "BuMQV37AX8M9"
      },
      "outputs": [],
      "source": [
        "file_path = \"9789241549912-eng.pdf\" #@param {type:\"string\"}\n",
        "display_name = \"WHO recommendations on antenatal care for a positive pregnancy experience\"\n",
        "\n",
        "pdf_file = genai.upload_file(\n",
        "    path=file_path,\n",
        "    display_name=display_name,\n",
        ")\n",
        "\n",
        "file_ref = genai.get_file(name=pdf_file.name)"
      ]
    },
    {
      "cell_type": "markdown",
      "metadata": {
        "id": "pvdVEtPP3cEw"
      },
      "source": [
        "## Select a suitable gemini model\n",
        "\n",
        "The Gemini API offers different models that are optimized for specific use cases. Here's a [brief overview of Gemini variants](https://ai.google.dev/gemini-api/docs/models/gemini?_gl=1*cyblbc*_up*MQ..&gclid=Cj0KCQjwsJO4BhDoARIsADDv4vB5i1gAcxplfDp37YCnHdYV1vFF_11JvdxwPjqBjujKpgMKrmDHM9caAlGLEALw_wcB) that are available.\n",
        "To ensure your prompts work correctly, check the input and output token limits. Make sure your document and desired output fit within these limits.\n",
        "\n",
        "We will be using [Gemini 1.5 pro](https://ai.google.dev/gemini-api/docs/models/gemini?_gl=1*cyblbc*_up*MQ..&gclid=Cj0KCQjwsJO4BhDoARIsADDv4vB5i1gAcxplfDp37YCnHdYV1vFF_11JvdxwPjqBjujKpgMKrmDHM9caAlGLEALw_wcB#gemini-1.5-pro) model in this tutorial to generate the questionnaires."
      ]
    },
    {
      "cell_type": "code",
      "execution_count": null,
      "metadata": {
        "id": "sHJA2k7BUE9c",
        "colab": {
          "base_uri": "https://localhost:8080/",
          "height": 69
        },
        "outputId": "199b542f-252f-4bda-9f87-da8876b2670a"
      },
      "outputs": [
        {
          "output_type": "stream",
          "name": "stdout",
          "text": [
            "Model: gemini-1.5-pro-latest\n",
            "Input Token Limit: 2000000\n",
            "Output Token Limit: 8192\n"
          ]
        }
      ],
      "source": [
        "model_name = \"gemini-1.5-pro-latest\" #@param [\"gemini-1.5-pro-latest\", \"gemini-1.5-pro\", \"gemini-1.5-flash-latest\", \"gemini-1.5-flash\"]\n",
        "model_info = genai.get_model(f'models/{model_name}')\n",
        "\n",
        "print(f\"Model: {model_name}\")\n",
        "print(f\"Input Token Limit: {model_info.input_token_limit}\")\n",
        "print(f\"Output Token Limit: {model_info.output_token_limit}\")"
      ]
    },
    {
      "cell_type": "markdown",
      "metadata": {
        "id": "6uf4NjoOrWzW"
      },
      "source": [
        "## Let's define some utility functions to perform repetitative tasks:\n",
        "\n",
        "1.   Define the model\n",
        "2.   Call the model and generate text\n",
        "\n"
      ]
    },
    {
      "cell_type": "code",
      "execution_count": null,
      "metadata": {
        "id": "sEkPuLCyuUaC"
      },
      "outputs": [],
      "source": [
        "def model_def(model_name, safety_settings, tools=None):\n",
        "  model = genai.GenerativeModel(\n",
        "    model_name=model_name,\n",
        "    safety_settings=safety_settings,\n",
        "    tools=tools\n",
        "  )\n",
        "  return model"
      ]
    },
    {
      "cell_type": "code",
      "execution_count": null,
      "metadata": {
        "id": "JzaSSy9krcNH"
      },
      "outputs": [],
      "source": [
        "def format_items_for_prompt(items: list, item_type: str,model_name: str) -> str:\n",
        "  \"\"\"\n",
        "  Formats a list of items (questions, etc.) into a string for the prompt.\n",
        "  Handles different item types (e.g., \"mcq\", \"sqa\").\n",
        "  \"\"\"\n",
        "  formatted_text = \"\"\n",
        "  for item in items:\n",
        "    formatted_text += f\"Question: {item['Question']}\\n\"\n",
        "    formatted_text += f\"{item.get('Intervention', '')}\\n\"\n",
        "    if item_type == \"mcq\":\n",
        "      if model_name == 'gemini':\n",
        "        formatted_text += \"\".join(\n",
        "            [f\"{option}: {item[option]}\\n\" for option in [\"A\", \"B\", \"C\", \"D\", \"E\"]]\n",
        "        )\n",
        "        formatted_text += f\"Choice: {item.get('Choice', '')}\\n\\n\" # Include Choice if present\n",
        "      elif model_name == \"gemma\":\n",
        "          formatted_text += \"\".join(\n",
        "            [f\"{option}: {item[option]}\\n\" for option in [\"A\", \"B\", \"C\", \"D\", \"E\"]]\n",
        "        )\n",
        "          formatted_text += f\"Answer: \\n\"\n",
        "\n",
        "    elif item_type == \"sqa_eval\":\n",
        "      if model_name == 'gemini':\n",
        "        formatted_text += f\"Answer: {item.get('Answer', '')}\\n\\n\"\n",
        "      elif model_name == \"gemma\":\n",
        "        formatted_text += f\"Answer: {item.get('Answer_2b', '')}\\n\\n\"\n",
        "\n",
        "    elif item_type == \"sqa\":\n",
        "      if model_name == 'gemini':\n",
        "        formatted_text += f\"Answer: {item.get('Answer', '')}\\n\\n\"\n",
        "      elif model_name == 'gemma':\n",
        "        formatted_text += f\"Answer: \\n\\n\"\n",
        "\n",
        "  return formatted_text"
      ]
    },
    {
      "cell_type": "code",
      "execution_count": null,
      "metadata": {
        "id": "mx3Uj_XNrdDA"
      },
      "outputs": [],
      "source": [
        "def call_model_and_extract(\n",
        "    chat_model: genai.GenerativeModel,\n",
        "    prompt: list,\n",
        "    function_name: str,\n",
        "    generation_config: dict = None,\n",
        "    tool_config: dict = None,\n",
        ") -> list:\n",
        "  \"\"\"Calls the language model and extracts the results from the function call.\"\"\"\n",
        "\n",
        "  try:\n",
        "    response = generate_text(\n",
        "        chat_model,\n",
        "        prompt,\n",
        "        generation_config=generation_config,\n",
        "        tool_config=tool_config,\n",
        "    )\n",
        "\n",
        "    if response.candidates[0].content.parts[0].function_call:\n",
        "      function_call = response.candidates[0].content.parts[0].function_call\n",
        "      extracted_results = type(function_call).to_dict(function_call)[\"args\"][\n",
        "          function_name\n",
        "      ]\n",
        "      return extracted_results\n",
        "    else:\n",
        "      return []  # Return empty list if no function call\n",
        "\n",
        "\n",
        "  except Exception as e:\n",
        "    print(f\"Error calling model: {e}\")\n",
        "    return []  # Return empty list on error"
      ]
    },
    {
      "cell_type": "markdown",
      "metadata": {
        "id": "GbweT3poMPOS"
      },
      "source": [
        "## Generate text\n",
        "\n",
        "* The Gemini API's client library offers built-in retry mechanisms for handling transient errors.\n",
        "\n",
        "* The `generate_text` function sends a message to the chat model with the given prompt and\n",
        "  configurations, and returns the response. It includes retry logic to handle\n",
        "  transient errors.\n",
        "\n",
        "* For more info on error handling, take a look at the [error_handling quickstart](https://github.com/google-gemini/cookbook/blob/main/quickstarts/Error_handling.ipynb)."
      ]
    },
    {
      "cell_type": "code",
      "execution_count": null,
      "metadata": {
        "id": "lm0gVbVnPFoj"
      },
      "outputs": [],
      "source": [
        "@retry.Retry(\n",
        "    predicate=retry.if_transient_error,\n",
        "    initial=5,\n",
        "    maximum=10,\n",
        "    multiplier=2.0,\n",
        "    timeout=100,\n",
        ")\n",
        "\n",
        "def generate_text(\n",
        "    chat: genai.GenerativeModel,\n",
        "    prompt: Union[List[str], str],\n",
        "    generation_config: dict = None,\n",
        "    tool_config: dict = None\n",
        "):\n",
        "  \"\"\"Generates text using a chat model, with retry mechanism for transient errors.\n",
        "\n",
        "  This function sends a prompt to a chat model and returns the generated response.\n",
        "  It uses a retry decorator to handle transient errors, such as network issues,\n",
        "  allowing the function to automatically retry the operation multiple times\n",
        "  before giving up.\n",
        "\n",
        "  Args:\n",
        "    chat: The chat model object (an instance of `genai.Model`).\n",
        "    prompt: The text prompt to send to the chat model. Can be a string or a list of strings.\n",
        "    generation_config: (Optional) A dictionary containing configuration\n",
        "        parameters for the text generation process. This might include settings\n",
        "        like temperature, max tokens, etc. The specific format depends on the\n",
        "        `chat` object (genai.Model).  See GenAI's documentation for details.\n",
        "    tool_config: (Optional)  A dictionary containing configuration\n",
        "        parameters for any tools that the chat model might use. The specific\n",
        "        format depends on the `chat` object (genai.Model) and whether it\n",
        "        supports tools.\n",
        "\n",
        "  Returns:\n",
        "    The response from the chat model (genai.Response).\n",
        "\n",
        "\n",
        "  Raises:\n",
        "    retry.RetryError: If the function fails to generate text after multiple\n",
        "        retries due to persistent transient errors. The original exception\n",
        "        that triggered the retries will be chained to the `RetryError`.\n",
        "    Any other exception raised by `chat.generate_text`: If the `generate_text`\n",
        "        method raises an exception that is not considered a transient error,\n",
        "        the exception will be propagated directly without retries.\n",
        "  \"\"\"\n",
        "\n",
        "  response = chat.send_message(\n",
        "      prompt,\n",
        "      generation_config=generation_config,\n",
        "      tool_config=tool_config,\n",
        "  )\n",
        "  return response"
      ]
    },
    {
      "cell_type": "markdown",
      "metadata": {
        "id": "YW1NdKELem4h"
      },
      "source": [
        "## Customize Safety Settings\n",
        "\n",
        "The Gemini API provides safety settings that you can adjust during the prototyping stage to determine if your application requires more or less restrictive safety configuration. You can adjust these settings across four filter categories to restrict or allow certain types of content.\n",
        "\n",
        "To make this customization you must define a safety_settings and pass it to model initialization as below.\n",
        "\n",
        "**Important:** To guarantee the Google commitment with the Responsible AI development and its [AI Principles](https://ai.google/responsibility/principles/), for some prompts Gemini will avoid generating the results even if you set all the filters to none."
      ]
    },
    {
      "cell_type": "code",
      "execution_count": null,
      "metadata": {
        "id": "o6D4TSLQcGYR"
      },
      "outputs": [],
      "source": [
        "\n",
        "HARM_CATEGORY_DANGEROUS = \"BLOCK_NONE\" # @param [\"BLOCK_NONE\", \"BLOCK_ONLY_HIGH\", \"BLOCK_MEDIUM_AND_ABOVE\", \"BLOCK_LOW_AND_ABOVE\", \"HARM_BLOCK_THRESHOLD_UNSPECIFIED\"]\n",
        "HARM_CATEGORY_HARASSMENT = \"BLOCK_NONE\" # @param [\"BLOCK_NONE\", \"BLOCK_ONLY_HIGH\", \"BLOCK_MEDIUM_AND_ABOVE\", \"BLOCK_LOW_AND_ABOVE\", \"HARM_BLOCK_THRESHOLD_UNSPECIFIED\"]\n",
        "HARM_CATEGORY_HATE_SPEECH = \"BLOCK_NONE\" # @param [\"BLOCK_NONE\", \"BLOCK_ONLY_HIGH\", \"BLOCK_MEDIUM_AND_ABOVE\", \"BLOCK_LOW_AND_ABOVE\", \"HARM_BLOCK_THRESHOLD_UNSPECIFIED\"]\n",
        "HARM_CATEGORY_SEXUALLY_EXPLICIT = \"BLOCK_NONE\" # @param [\"BLOCK_NONE\", \"BLOCK_ONLY_HIGH\", \"BLOCK_MEDIUM_AND_ABOVE\", \"BLOCK_LOW_AND_ABOVE\", \"HARM_BLOCK_THRESHOLD_UNSPECIFIED\"]\n",
        "HARM_CATEGORY_DANGEROUS_CONTENT = \"BLOCK_NONE\" # @param [\"BLOCK_NONE\", \"BLOCK_ONLY_HIGH\", \"BLOCK_MEDIUM_AND_ABOVE\", \"BLOCK_LOW_AND_ABOVE\", \"HARM_BLOCK_THRESHOLD_UNSPECIFIED\"]\n",
        "\n",
        "safety_settings = [\n",
        "    {\n",
        "        \"category\": \"HARM_CATEGORY_DANGEROUS\",\n",
        "        \"threshold\": HARM_CATEGORY_DANGEROUS,\n",
        "        },\n",
        "    {\n",
        "        \"category\": \"HARM_CATEGORY_HARASSMENT\",\n",
        "        \"threshold\": HARM_CATEGORY_HARASSMENT,\n",
        "    },\n",
        "    {\n",
        "        \"category\": \"HARM_CATEGORY_HATE_SPEECH\",\n",
        "        \"threshold\": HARM_CATEGORY_HATE_SPEECH,\n",
        "    },\n",
        "    {\n",
        "        \"category\": \"HARM_CATEGORY_SEXUALLY_EXPLICIT\",\n",
        "        \"threshold\": HARM_CATEGORY_SEXUALLY_EXPLICIT,\n",
        "    },\n",
        "    {\n",
        "        \"category\": \"HARM_CATEGORY_DANGEROUS_CONTENT\",\n",
        "        \"threshold\": HARM_CATEGORY_DANGEROUS_CONTENT,\n",
        "    },\n",
        "]"
      ]
    },
    {
      "cell_type": "markdown",
      "metadata": {
        "id": "wb9lbFsSlxdd"
      },
      "source": [
        "## Configure text generation\n",
        "\n",
        "\n",
        "Every prompt you send to the model includes [parameters]((https://ai.google.dev/gemini-api/docs/models/generative-models#model-parameters)) that control how the model generates responses. You can use [genai.GenerationConfig](https://ai.google.dev/api/generate-content#generationconfig) to configure these parameters. If you don't configure the parameters, the model uses default options, which can vary by model."
      ]
    },
    {
      "cell_type": "code",
      "execution_count": null,
      "metadata": {
        "id": "JNKXyNy00qpy"
      },
      "outputs": [],
      "source": [
        "temperature = 1 #@param {type:\"slider\", min:0, max:1, step:0.1}\n",
        "top_p = 0.95 #@param {type:\"slider\", min:0, max:1, step:0.05}\n",
        "top_k = 64 #@param {type:\"integer\"}\n",
        "max_output_tokens = 8192 #@param {type:\"integer\"}\n",
        "\n",
        "generation_config ={\n",
        "    \"temperature\": 1,\n",
        "    \"top_p\": 0.95,\n",
        "    \"top_k\": 64,\n",
        "    \"max_output_tokens\": 8192,\n",
        "}"
      ]
    },
    {
      "cell_type": "markdown",
      "metadata": {
        "id": "--zIOXolU2rV"
      },
      "source": [
        "## Evaluate the generated MCQ questions with Gemini 1.5 model\n",
        "\n",
        "In this section we try to evaluate the questions generated from Gemini model and what context has been to used to frame the Multiple Choice Questions."
      ]
    },
    {
      "cell_type": "code",
      "execution_count": null,
      "metadata": {
        "id": "J8GrF3yor_cA"
      },
      "outputs": [],
      "source": [
        "def eval_questions(\n",
        "    chat_model: genai.GenerativeModel,\n",
        "    file_ref: genai.types.file_types.File,\n",
        "    base_prompt: str,\n",
        "    questions_dict_list: list,\n",
        "    question_type: str,\n",
        "    eval_type_function_name: str,\n",
        "    eval_per_prompt: int,\n",
        "    generation_config: dict = None,\n",
        "    tool_config: dict = None,\n",
        "    model_name: str = \"gemini\"\n",
        "):\n",
        "  evaluated_questions = []\n",
        "  current_prompt = [file_ref, base_prompt]\n",
        "\n",
        "  for idx in range(0, len(questions_dict_list), eval_per_prompt):\n",
        "    formatted_text = format_items_for_prompt(\n",
        "        questions_dict_list[idx:idx+eval_per_prompt],\n",
        "        question_type,\n",
        "        model_name\n",
        "    )\n",
        "    current_prompt.append(formatted_text)\n",
        "\n",
        "    per_prompt_evaluated_questions = call_model_and_extract(\n",
        "        chat_model,\n",
        "        current_prompt,\n",
        "        eval_type_function_name,\n",
        "        generation_config=generation_config,\n",
        "        tool_config=tool_config,\n",
        "    )\n",
        "    print(f\"Evaluated {len(per_prompt_evaluated_questions)} questions in prompt {idx//eval_per_prompt+1}\")\n",
        "\n",
        "    evaluated_questions.extend(per_prompt_evaluated_questions)\n",
        "    current_prompt = []\n",
        "\n",
        "  return evaluated_questions\n"
      ]
    },
    {
      "cell_type": "markdown",
      "metadata": {
        "id": "sTqjiLc6Eijp"
      },
      "source": [
        "### Base Prompt"
      ]
    },
    {
      "cell_type": "code",
      "execution_count": null,
      "metadata": {
        "id": "uNr6pu4IElQO",
        "colab": {
          "base_uri": "https://localhost:8080/"
        },
        "outputId": "ae4c1b43-287b-4b5f-b57d-159da3293991"
      },
      "outputs": [
        {
          "output_type": "stream",
          "name": "stdout",
          "text": [
            "Task: Evaluate the provided multiple-choice questions using above extracted text corpus based on the following criteria:\n",
            "\n",
            "Accuracy: Ensure the correct response aligns with the information presented in the provided text corpus.\n",
            "Relevance: Verify that the question and answer choices are directly related to the stated intervention topic.\n",
            "Clarity: Check if the question and answer choices are clear, concise, and avoid ambiguity.\n",
            "Consistency: Ensure that the correct response is consistent with other relevant information in the provided text corpus.\n",
            "\n",
            "Evaluation Format:\n",
            "\n",
            "Question: [Question text]\n",
            "Intervention Topic: [Intervention topic]\n",
            "Correct Answer: [Correct option]\n",
            "Context: [Page number or section reference where the correct answer can be found in the provided text corpus]\n",
            "\n",
            "Example:\n",
            "\n",
            "Question: According to the WHO recommendations, what is the recommended daily intake of calcium for pregnant women?\n",
            "Intervention Topic: Nutritional interventions\n",
            "Correct Answer: B\n",
            "Context: Page 72, Section 3.1 of the WHO Guidelines for the Prevention and Management of Gestational Diabetes Mellitus\n",
            "Note: To ensure accurate and relevant evaluations, please provide the specific text corpus that the questions are based on.\n",
            "This will allow for a more precise assessment of the accuracy, relevance, clarity, and consistency of the questions and answers.\n",
            "\n"
          ]
        }
      ],
      "source": [
        "eval_mcq_base_prompt = textwrap.dedent(\"\"\"\\\n",
        "Task: Evaluate the provided multiple-choice questions using above extracted text corpus based on the following criteria:\n",
        "\n",
        "Accuracy: Ensure the correct response aligns with the information presented in the provided text corpus.\n",
        "Relevance: Verify that the question and answer choices are directly related to the stated intervention topic.\n",
        "Clarity: Check if the question and answer choices are clear, concise, and avoid ambiguity.\n",
        "Consistency: Ensure that the correct response is consistent with other relevant information in the provided text corpus.\n",
        "\n",
        "Evaluation Format:\n",
        "\n",
        "Question: [Question text]\n",
        "Intervention Topic: [Intervention topic]\n",
        "Correct Answer: [Correct option]\n",
        "Context: [Page number or section reference where the correct answer can be found in the provided text corpus]\n",
        "\n",
        "Example:\n",
        "\n",
        "Question: According to the WHO recommendations, what is the recommended daily intake of calcium for pregnant women?\n",
        "Intervention Topic: Nutritional interventions\n",
        "Correct Answer: B\n",
        "Context: Page 72, Section 3.1 of the WHO Guidelines for the Prevention and Management of Gestational Diabetes Mellitus\n",
        "Note: To ensure accurate and relevant evaluations, please provide the specific text corpus that the questions are based on.\n",
        "This will allow for a more precise assessment of the accuracy, relevance, clarity, and consistency of the questions and answers.\n",
        "\"\"\"\n",
        ")\n",
        "print(eval_mcq_base_prompt)"
      ]
    },
    {
      "cell_type": "markdown",
      "metadata": {
        "id": "Uw1-a1x6FAYT"
      },
      "source": [
        "### Function Calling"
      ]
    },
    {
      "cell_type": "markdown",
      "metadata": {
        "id": "vcuoio7fFH7K"
      },
      "source": [
        "#### Single Eval Schema\n",
        "\n",
        "This schema defines the structure for evaluating multiple choice questions. It includes the following fields:\n",
        "\n",
        "* Intervention: The topic or subject matter related to the question.\n",
        "* Question: The actual multiple-choice question.\n",
        "* Choice: The chosen option or answer for the question.\n",
        "* Correct: A boolean value indicating whether the chosen answer is correct (1) or incorrect (0).\n",
        "* Context: A reference or source where the correct answer can be found, such as a page number or section in a document."
      ]
    },
    {
      "cell_type": "code",
      "execution_count": null,
      "metadata": {
        "id": "RLvAn5JxJWlY"
      },
      "outputs": [],
      "source": [
        "mcq_eval = genai.protos.Schema(\n",
        "    type = genai.protos.Type.OBJECT,\n",
        "    properties = {\n",
        "        'Intervention':  genai.protos.Schema(type=genai.protos.Type.STRING),\n",
        "        'Question':  genai.protos.Schema(type=genai.protos.Type.STRING),\n",
        "        'Choice': genai.protos.Schema(type=genai.protos.Type.STRING),\n",
        "        'Correct': genai.protos.Schema(type=genai.protos.Type.NUMBER),\n",
        "        'Context': genai.protos.Schema(type=genai.protos.Type.STRING),\n",
        "    },\n",
        "    required=['Intervention', 'Question', 'Choice', 'Correct', 'Context']\n",
        ")"
      ]
    },
    {
      "cell_type": "markdown",
      "metadata": {
        "id": "vs_JEFhnFMj5"
      },
      "source": [
        "#### Array Schema"
      ]
    },
    {
      "cell_type": "code",
      "execution_count": null,
      "metadata": {
        "id": "4Ld96e5aLHf7"
      },
      "outputs": [],
      "source": [
        "mcq_eval_schema = genai.protos.Schema(\n",
        "    type=genai.protos.Type.ARRAY,\n",
        "    items=mcq_eval\n",
        ")"
      ]
    },
    {
      "cell_type": "code",
      "execution_count": null,
      "metadata": {
        "id": "EpXGWwYPKrb0"
      },
      "outputs": [],
      "source": [
        "mcq_eval_database = genai.protos.FunctionDeclaration(\n",
        "    name=\"mcq_eval_database\",\n",
        "    description=textwrap.dedent(\"\"\"\\\n",
        "        Adds interventions, questions, answers, correctness and its context to the database.\n",
        "        \"\"\"),\n",
        "    parameters=genai.protos.Schema(\n",
        "        type=genai.protos.Type.OBJECT,\n",
        "        properties = {\n",
        "            'mcq_eval': mcq_eval_schema,\n",
        "        }\n",
        "    )\n",
        ")"
      ]
    },
    {
      "cell_type": "markdown",
      "metadata": {
        "id": "1IxyIxqqF6o9"
      },
      "source": [
        "### Define the model with function declaration"
      ]
    },
    {
      "cell_type": "code",
      "execution_count": null,
      "metadata": {
        "id": "fIf9onCdeFZ6"
      },
      "outputs": [],
      "source": [
        "model = model_def(model_name, safety_settings, tools=[mcq_eval_database])\n",
        "chat = model.start_chat(history=[])"
      ]
    },
    {
      "cell_type": "markdown",
      "metadata": {
        "id": "UjMEOkbWYkGo"
      },
      "source": [
        "### Load the csv file containing previously generated mcq questions"
      ]
    },
    {
      "cell_type": "code",
      "execution_count": null,
      "metadata": {
        "id": "o6inVQJAhyDe"
      },
      "outputs": [],
      "source": [
        "mcq_questions_df = pd.read_csv(\"mcq_questions.csv\")\n",
        "mcq_questions_dict_list = mcq_questions_df.to_dict(orient=\"records\")"
      ]
    },
    {
      "cell_type": "markdown",
      "metadata": {
        "id": "u92sv7irFzIP"
      },
      "source": [
        "### Evaluate in chat session"
      ]
    },
    {
      "cell_type": "code",
      "execution_count": null,
      "metadata": {
        "id": "Hwq6rNMcUyUL",
        "colab": {
          "base_uri": "https://localhost:8080/",
          "height": 642
        },
        "outputId": "71917af9-ffaf-41ae-8ac6-b7220e01a25d"
      },
      "outputs": [
        {
          "output_type": "stream",
          "name": "stdout",
          "text": [
            "Evaluated 20 questions in prompt 1\n"
          ]
        },
        {
          "output_type": "stream",
          "name": "stderr",
          "text": [
            "WARNING:tornado.access:429 POST /v1beta/models/gemini-1.5-pro-latest:generateContent?%24alt=json%3Benum-encoding%3Dint (127.0.0.1) 963.80ms\n"
          ]
        },
        {
          "output_type": "stream",
          "name": "stdout",
          "text": [
            "Evaluated 20 questions in prompt 2\n"
          ]
        },
        {
          "output_type": "stream",
          "name": "stderr",
          "text": [
            "WARNING:tornado.access:429 POST /v1beta/models/gemini-1.5-pro-latest:generateContent?%24alt=json%3Benum-encoding%3Dint (127.0.0.1) 1039.38ms\n",
            "WARNING:tornado.access:429 POST /v1beta/models/gemini-1.5-pro-latest:generateContent?%24alt=json%3Benum-encoding%3Dint (127.0.0.1) 1140.31ms\n",
            "WARNING:tornado.access:429 POST /v1beta/models/gemini-1.5-pro-latest:generateContent?%24alt=json%3Benum-encoding%3Dint (127.0.0.1) 1013.97ms\n",
            "WARNING:tornado.access:429 POST /v1beta/models/gemini-1.5-pro-latest:generateContent?%24alt=json%3Benum-encoding%3Dint (127.0.0.1) 1116.23ms\n",
            "WARNING:tornado.access:429 POST /v1beta/models/gemini-1.5-pro-latest:generateContent?%24alt=json%3Benum-encoding%3Dint (127.0.0.1) 1063.66ms\n",
            "WARNING:tornado.access:429 POST /v1beta/models/gemini-1.5-pro-latest:generateContent?%24alt=json%3Benum-encoding%3Dint (127.0.0.1) 1038.32ms\n",
            "WARNING:tornado.access:429 POST /v1beta/models/gemini-1.5-pro-latest:generateContent?%24alt=json%3Benum-encoding%3Dint (127.0.0.1) 1039.27ms\n",
            "WARNING:tornado.access:429 POST /v1beta/models/gemini-1.5-pro-latest:generateContent?%24alt=json%3Benum-encoding%3Dint (127.0.0.1) 988.79ms\n",
            "WARNING:tornado.access:429 POST /v1beta/models/gemini-1.5-pro-latest:generateContent?%24alt=json%3Benum-encoding%3Dint (127.0.0.1) 989.24ms\n",
            "WARNING:tornado.access:429 POST /v1beta/models/gemini-1.5-pro-latest:generateContent?%24alt=json%3Benum-encoding%3Dint (127.0.0.1) 938.36ms\n"
          ]
        },
        {
          "output_type": "stream",
          "name": "stdout",
          "text": [
            "Evaluated 20 questions in prompt 3\n"
          ]
        },
        {
          "output_type": "stream",
          "name": "stderr",
          "text": [
            "WARNING:tornado.access:429 POST /v1beta/models/gemini-1.5-pro-latest:generateContent?%24alt=json%3Benum-encoding%3Dint (127.0.0.1) 1064.88ms\n",
            "WARNING:tornado.access:429 POST /v1beta/models/gemini-1.5-pro-latest:generateContent?%24alt=json%3Benum-encoding%3Dint (127.0.0.1) 964.93ms\n",
            "WARNING:tornado.access:429 POST /v1beta/models/gemini-1.5-pro-latest:generateContent?%24alt=json%3Benum-encoding%3Dint (127.0.0.1) 888.03ms\n",
            "WARNING:tornado.access:429 POST /v1beta/models/gemini-1.5-pro-latest:generateContent?%24alt=json%3Benum-encoding%3Dint (127.0.0.1) 938.60ms\n",
            "WARNING:tornado.access:429 POST /v1beta/models/gemini-1.5-pro-latest:generateContent?%24alt=json%3Benum-encoding%3Dint (127.0.0.1) 939.17ms\n",
            "WARNING:tornado.access:429 POST /v1beta/models/gemini-1.5-pro-latest:generateContent?%24alt=json%3Benum-encoding%3Dint (127.0.0.1) 939.73ms\n",
            "WARNING:tornado.access:429 POST /v1beta/models/gemini-1.5-pro-latest:generateContent?%24alt=json%3Benum-encoding%3Dint (127.0.0.1) 963.48ms\n",
            "WARNING:tornado.access:429 POST /v1beta/models/gemini-1.5-pro-latest:generateContent?%24alt=json%3Benum-encoding%3Dint (127.0.0.1) 1064.39ms\n",
            "WARNING:tornado.access:429 POST /v1beta/models/gemini-1.5-pro-latest:generateContent?%24alt=json%3Benum-encoding%3Dint (127.0.0.1) 836.47ms\n",
            "WARNING:tornado.access:429 POST /v1beta/models/gemini-1.5-pro-latest:generateContent?%24alt=json%3Benum-encoding%3Dint (127.0.0.1) 862.13ms\n"
          ]
        },
        {
          "output_type": "stream",
          "name": "stdout",
          "text": [
            "Evaluated 20 questions in prompt 4\n"
          ]
        },
        {
          "output_type": "stream",
          "name": "stderr",
          "text": [
            "WARNING:tornado.access:429 POST /v1beta/models/gemini-1.5-pro-latest:generateContent?%24alt=json%3Benum-encoding%3Dint (127.0.0.1) 1140.51ms\n",
            "WARNING:tornado.access:429 POST /v1beta/models/gemini-1.5-pro-latest:generateContent?%24alt=json%3Benum-encoding%3Dint (127.0.0.1) 1015.77ms\n",
            "WARNING:tornado.access:429 POST /v1beta/models/gemini-1.5-pro-latest:generateContent?%24alt=json%3Benum-encoding%3Dint (127.0.0.1) 1014.47ms\n",
            "WARNING:tornado.access:429 POST /v1beta/models/gemini-1.5-pro-latest:generateContent?%24alt=json%3Benum-encoding%3Dint (127.0.0.1) 964.43ms\n",
            "WARNING:tornado.access:429 POST /v1beta/models/gemini-1.5-pro-latest:generateContent?%24alt=json%3Benum-encoding%3Dint (127.0.0.1) 1090.59ms\n",
            "WARNING:tornado.access:429 POST /v1beta/models/gemini-1.5-pro-latest:generateContent?%24alt=json%3Benum-encoding%3Dint (127.0.0.1) 1115.28ms\n",
            "WARNING:tornado.access:429 POST /v1beta/models/gemini-1.5-pro-latest:generateContent?%24alt=json%3Benum-encoding%3Dint (127.0.0.1) 1020.43ms\n",
            "WARNING:tornado.access:429 POST /v1beta/models/gemini-1.5-pro-latest:generateContent?%24alt=json%3Benum-encoding%3Dint (127.0.0.1) 990.68ms\n",
            "WARNING:tornado.access:429 POST /v1beta/models/gemini-1.5-pro-latest:generateContent?%24alt=json%3Benum-encoding%3Dint (127.0.0.1) 1216.92ms\n",
            "WARNING:tornado.access:429 POST /v1beta/models/gemini-1.5-pro-latest:generateContent?%24alt=json%3Benum-encoding%3Dint (127.0.0.1) 1090.92ms\n"
          ]
        },
        {
          "output_type": "stream",
          "name": "stdout",
          "text": [
            "Evaluated 20 questions in prompt 5\n"
          ]
        }
      ],
      "source": [
        "eval_num_mcq_per_prompt = 20\n",
        "\n",
        "mcq_evaluated_questions = eval_questions(\n",
        "    chat_model=chat,\n",
        "    file_ref=file_ref,\n",
        "    base_prompt=eval_mcq_base_prompt,\n",
        "    questions_dict_list=mcq_questions_dict_list,\n",
        "    question_type=\"mcq\",\n",
        "    eval_type_function_name=\"mcq_eval\",\n",
        "    eval_per_prompt=eval_num_mcq_per_prompt,\n",
        "    generation_config=generation_config,\n",
        "    tool_config={\"function_calling_config\": {\"mode\": \"ANY\"}},\n",
        "    model_name = 'gemini'\n",
        ")"
      ]
    },
    {
      "cell_type": "code",
      "execution_count": null,
      "metadata": {
        "id": "_8an4Nfj-prj",
        "colab": {
          "base_uri": "https://localhost:8080/",
          "height": 424
        },
        "outputId": "5b734836-eec4-453e-bd5b-acaada97ea99"
      },
      "outputs": [
        {
          "output_type": "execute_result",
          "data": {
            "text/plain": [
              "                                             Question Choice  Correct  \\\n",
              "0   Which supplement is routinely recommended for ...      A      1.0   \n",
              "1   What does a healthy diet during pregnancy cons...      D      1.0   \n",
              "2   For undernourished populations, which type of ...      B      1.0   \n",
              "3   When is vitamin A supplementation recommended ...      B      1.0   \n",
              "4   What is the recommended method for diagnosing ...      C      1.0   \n",
              "..                                                ...    ...      ...   \n",
              "95  Which of the following may be recommended for ...      D      1.0   \n",
              "96  Which statement about midwife-led continuity o...      A      1.0   \n",
              "97  What is a key consideration regarding task-shi...      D      1.0   \n",
              "98  What is an accurate statement about group ante...      D      1.0   \n",
              "99  What is the WHO's recommendation for the numbe...      D      1.0   \n",
              "\n",
              "                                          Context  \\\n",
              "0   Page 14, Section A. Nutritional interventions   \n",
              "1   Page 14, Section A. Nutritional interventions   \n",
              "2                          Page 20, Section A.1.3   \n",
              "3                            Page 29, Section A.4   \n",
              "4                          Page 41, Section B.1.1   \n",
              "..                                            ...   \n",
              "95                    Page 74, Recommendation D.1   \n",
              "96                           Page 89, Section E.2   \n",
              "97                    Page 99, Recommendation E.5   \n",
              "98                    Page 91, Recommendation E.3   \n",
              "99           Page 101 and 105, Recommendation E.7   \n",
              "\n",
              "                                         Intervention  \n",
              "0                           Nutritional interventions  \n",
              "1                           Nutritional interventions  \n",
              "2                           Nutritional interventions  \n",
              "3                           Nutritional interventions  \n",
              "4                       Maternal and fetal assessment  \n",
              "..                                                ...  \n",
              "95  Interventional measures for common physiologic...  \n",
              "96                       Health systems interventions  \n",
              "97                       Health systems interventions  \n",
              "98                       Health systems interventions  \n",
              "99                       Health systems interventions  \n",
              "\n",
              "[100 rows x 5 columns]"
            ],
            "text/html": [
              "\n",
              "  <div id=\"df-b8329f96-5142-4dc8-9a70-59d0ce9cc2b1\" class=\"colab-df-container\">\n",
              "    <div>\n",
              "<style scoped>\n",
              "    .dataframe tbody tr th:only-of-type {\n",
              "        vertical-align: middle;\n",
              "    }\n",
              "\n",
              "    .dataframe tbody tr th {\n",
              "        vertical-align: top;\n",
              "    }\n",
              "\n",
              "    .dataframe thead th {\n",
              "        text-align: right;\n",
              "    }\n",
              "</style>\n",
              "<table border=\"1\" class=\"dataframe\">\n",
              "  <thead>\n",
              "    <tr style=\"text-align: right;\">\n",
              "      <th></th>\n",
              "      <th>Question</th>\n",
              "      <th>Choice</th>\n",
              "      <th>Correct</th>\n",
              "      <th>Context</th>\n",
              "      <th>Intervention</th>\n",
              "    </tr>\n",
              "  </thead>\n",
              "  <tbody>\n",
              "    <tr>\n",
              "      <th>0</th>\n",
              "      <td>Which supplement is routinely recommended for ...</td>\n",
              "      <td>A</td>\n",
              "      <td>1.0</td>\n",
              "      <td>Page 14, Section A. Nutritional interventions</td>\n",
              "      <td>Nutritional interventions</td>\n",
              "    </tr>\n",
              "    <tr>\n",
              "      <th>1</th>\n",
              "      <td>What does a healthy diet during pregnancy cons...</td>\n",
              "      <td>D</td>\n",
              "      <td>1.0</td>\n",
              "      <td>Page 14, Section A. Nutritional interventions</td>\n",
              "      <td>Nutritional interventions</td>\n",
              "    </tr>\n",
              "    <tr>\n",
              "      <th>2</th>\n",
              "      <td>For undernourished populations, which type of ...</td>\n",
              "      <td>B</td>\n",
              "      <td>1.0</td>\n",
              "      <td>Page 20, Section A.1.3</td>\n",
              "      <td>Nutritional interventions</td>\n",
              "    </tr>\n",
              "    <tr>\n",
              "      <th>3</th>\n",
              "      <td>When is vitamin A supplementation recommended ...</td>\n",
              "      <td>B</td>\n",
              "      <td>1.0</td>\n",
              "      <td>Page 29, Section A.4</td>\n",
              "      <td>Nutritional interventions</td>\n",
              "    </tr>\n",
              "    <tr>\n",
              "      <th>4</th>\n",
              "      <td>What is the recommended method for diagnosing ...</td>\n",
              "      <td>C</td>\n",
              "      <td>1.0</td>\n",
              "      <td>Page 41, Section B.1.1</td>\n",
              "      <td>Maternal and fetal assessment</td>\n",
              "    </tr>\n",
              "    <tr>\n",
              "      <th>...</th>\n",
              "      <td>...</td>\n",
              "      <td>...</td>\n",
              "      <td>...</td>\n",
              "      <td>...</td>\n",
              "      <td>...</td>\n",
              "    </tr>\n",
              "    <tr>\n",
              "      <th>95</th>\n",
              "      <td>Which of the following may be recommended for ...</td>\n",
              "      <td>D</td>\n",
              "      <td>1.0</td>\n",
              "      <td>Page 74, Recommendation D.1</td>\n",
              "      <td>Interventional measures for common physiologic...</td>\n",
              "    </tr>\n",
              "    <tr>\n",
              "      <th>96</th>\n",
              "      <td>Which statement about midwife-led continuity o...</td>\n",
              "      <td>A</td>\n",
              "      <td>1.0</td>\n",
              "      <td>Page 89, Section E.2</td>\n",
              "      <td>Health systems interventions</td>\n",
              "    </tr>\n",
              "    <tr>\n",
              "      <th>97</th>\n",
              "      <td>What is a key consideration regarding task-shi...</td>\n",
              "      <td>D</td>\n",
              "      <td>1.0</td>\n",
              "      <td>Page 99, Recommendation E.5</td>\n",
              "      <td>Health systems interventions</td>\n",
              "    </tr>\n",
              "    <tr>\n",
              "      <th>98</th>\n",
              "      <td>What is an accurate statement about group ante...</td>\n",
              "      <td>D</td>\n",
              "      <td>1.0</td>\n",
              "      <td>Page 91, Recommendation E.3</td>\n",
              "      <td>Health systems interventions</td>\n",
              "    </tr>\n",
              "    <tr>\n",
              "      <th>99</th>\n",
              "      <td>What is the WHO's recommendation for the numbe...</td>\n",
              "      <td>D</td>\n",
              "      <td>1.0</td>\n",
              "      <td>Page 101 and 105, Recommendation E.7</td>\n",
              "      <td>Health systems interventions</td>\n",
              "    </tr>\n",
              "  </tbody>\n",
              "</table>\n",
              "<p>100 rows × 5 columns</p>\n",
              "</div>\n",
              "    <div class=\"colab-df-buttons\">\n",
              "\n",
              "  <div class=\"colab-df-container\">\n",
              "    <button class=\"colab-df-convert\" onclick=\"convertToInteractive('df-b8329f96-5142-4dc8-9a70-59d0ce9cc2b1')\"\n",
              "            title=\"Convert this dataframe to an interactive table.\"\n",
              "            style=\"display:none;\">\n",
              "\n",
              "  <svg xmlns=\"http://www.w3.org/2000/svg\" height=\"24px\" viewBox=\"0 -960 960 960\">\n",
              "    <path d=\"M120-120v-720h720v720H120Zm60-500h600v-160H180v160Zm220 220h160v-160H400v160Zm0 220h160v-160H400v160ZM180-400h160v-160H180v160Zm440 0h160v-160H620v160ZM180-180h160v-160H180v160Zm440 0h160v-160H620v160Z\"/>\n",
              "  </svg>\n",
              "    </button>\n",
              "\n",
              "  <style>\n",
              "    .colab-df-container {\n",
              "      display:flex;\n",
              "      gap: 12px;\n",
              "    }\n",
              "\n",
              "    .colab-df-convert {\n",
              "      background-color: #E8F0FE;\n",
              "      border: none;\n",
              "      border-radius: 50%;\n",
              "      cursor: pointer;\n",
              "      display: none;\n",
              "      fill: #1967D2;\n",
              "      height: 32px;\n",
              "      padding: 0 0 0 0;\n",
              "      width: 32px;\n",
              "    }\n",
              "\n",
              "    .colab-df-convert:hover {\n",
              "      background-color: #E2EBFA;\n",
              "      box-shadow: 0px 1px 2px rgba(60, 64, 67, 0.3), 0px 1px 3px 1px rgba(60, 64, 67, 0.15);\n",
              "      fill: #174EA6;\n",
              "    }\n",
              "\n",
              "    .colab-df-buttons div {\n",
              "      margin-bottom: 4px;\n",
              "    }\n",
              "\n",
              "    [theme=dark] .colab-df-convert {\n",
              "      background-color: #3B4455;\n",
              "      fill: #D2E3FC;\n",
              "    }\n",
              "\n",
              "    [theme=dark] .colab-df-convert:hover {\n",
              "      background-color: #434B5C;\n",
              "      box-shadow: 0px 1px 3px 1px rgba(0, 0, 0, 0.15);\n",
              "      filter: drop-shadow(0px 1px 2px rgba(0, 0, 0, 0.3));\n",
              "      fill: #FFFFFF;\n",
              "    }\n",
              "  </style>\n",
              "\n",
              "    <script>\n",
              "      const buttonEl =\n",
              "        document.querySelector('#df-b8329f96-5142-4dc8-9a70-59d0ce9cc2b1 button.colab-df-convert');\n",
              "      buttonEl.style.display =\n",
              "        google.colab.kernel.accessAllowed ? 'block' : 'none';\n",
              "\n",
              "      async function convertToInteractive(key) {\n",
              "        const element = document.querySelector('#df-b8329f96-5142-4dc8-9a70-59d0ce9cc2b1');\n",
              "        const dataTable =\n",
              "          await google.colab.kernel.invokeFunction('convertToInteractive',\n",
              "                                                    [key], {});\n",
              "        if (!dataTable) return;\n",
              "\n",
              "        const docLinkHtml = 'Like what you see? Visit the ' +\n",
              "          '<a target=\"_blank\" href=https://colab.research.google.com/notebooks/data_table.ipynb>data table notebook</a>'\n",
              "          + ' to learn more about interactive tables.';\n",
              "        element.innerHTML = '';\n",
              "        dataTable['output_type'] = 'display_data';\n",
              "        await google.colab.output.renderOutput(dataTable, element);\n",
              "        const docLink = document.createElement('div');\n",
              "        docLink.innerHTML = docLinkHtml;\n",
              "        element.appendChild(docLink);\n",
              "      }\n",
              "    </script>\n",
              "  </div>\n",
              "\n",
              "\n",
              "<div id=\"df-a4e24195-4603-4ddb-aa79-ef472f898e88\">\n",
              "  <button class=\"colab-df-quickchart\" onclick=\"quickchart('df-a4e24195-4603-4ddb-aa79-ef472f898e88')\"\n",
              "            title=\"Suggest charts\"\n",
              "            style=\"display:none;\">\n",
              "\n",
              "<svg xmlns=\"http://www.w3.org/2000/svg\" height=\"24px\"viewBox=\"0 0 24 24\"\n",
              "     width=\"24px\">\n",
              "    <g>\n",
              "        <path d=\"M19 3H5c-1.1 0-2 .9-2 2v14c0 1.1.9 2 2 2h14c1.1 0 2-.9 2-2V5c0-1.1-.9-2-2-2zM9 17H7v-7h2v7zm4 0h-2V7h2v10zm4 0h-2v-4h2v4z\"/>\n",
              "    </g>\n",
              "</svg>\n",
              "  </button>\n",
              "\n",
              "<style>\n",
              "  .colab-df-quickchart {\n",
              "      --bg-color: #E8F0FE;\n",
              "      --fill-color: #1967D2;\n",
              "      --hover-bg-color: #E2EBFA;\n",
              "      --hover-fill-color: #174EA6;\n",
              "      --disabled-fill-color: #AAA;\n",
              "      --disabled-bg-color: #DDD;\n",
              "  }\n",
              "\n",
              "  [theme=dark] .colab-df-quickchart {\n",
              "      --bg-color: #3B4455;\n",
              "      --fill-color: #D2E3FC;\n",
              "      --hover-bg-color: #434B5C;\n",
              "      --hover-fill-color: #FFFFFF;\n",
              "      --disabled-bg-color: #3B4455;\n",
              "      --disabled-fill-color: #666;\n",
              "  }\n",
              "\n",
              "  .colab-df-quickchart {\n",
              "    background-color: var(--bg-color);\n",
              "    border: none;\n",
              "    border-radius: 50%;\n",
              "    cursor: pointer;\n",
              "    display: none;\n",
              "    fill: var(--fill-color);\n",
              "    height: 32px;\n",
              "    padding: 0;\n",
              "    width: 32px;\n",
              "  }\n",
              "\n",
              "  .colab-df-quickchart:hover {\n",
              "    background-color: var(--hover-bg-color);\n",
              "    box-shadow: 0 1px 2px rgba(60, 64, 67, 0.3), 0 1px 3px 1px rgba(60, 64, 67, 0.15);\n",
              "    fill: var(--button-hover-fill-color);\n",
              "  }\n",
              "\n",
              "  .colab-df-quickchart-complete:disabled,\n",
              "  .colab-df-quickchart-complete:disabled:hover {\n",
              "    background-color: var(--disabled-bg-color);\n",
              "    fill: var(--disabled-fill-color);\n",
              "    box-shadow: none;\n",
              "  }\n",
              "\n",
              "  .colab-df-spinner {\n",
              "    border: 2px solid var(--fill-color);\n",
              "    border-color: transparent;\n",
              "    border-bottom-color: var(--fill-color);\n",
              "    animation:\n",
              "      spin 1s steps(1) infinite;\n",
              "  }\n",
              "\n",
              "  @keyframes spin {\n",
              "    0% {\n",
              "      border-color: transparent;\n",
              "      border-bottom-color: var(--fill-color);\n",
              "      border-left-color: var(--fill-color);\n",
              "    }\n",
              "    20% {\n",
              "      border-color: transparent;\n",
              "      border-left-color: var(--fill-color);\n",
              "      border-top-color: var(--fill-color);\n",
              "    }\n",
              "    30% {\n",
              "      border-color: transparent;\n",
              "      border-left-color: var(--fill-color);\n",
              "      border-top-color: var(--fill-color);\n",
              "      border-right-color: var(--fill-color);\n",
              "    }\n",
              "    40% {\n",
              "      border-color: transparent;\n",
              "      border-right-color: var(--fill-color);\n",
              "      border-top-color: var(--fill-color);\n",
              "    }\n",
              "    60% {\n",
              "      border-color: transparent;\n",
              "      border-right-color: var(--fill-color);\n",
              "    }\n",
              "    80% {\n",
              "      border-color: transparent;\n",
              "      border-right-color: var(--fill-color);\n",
              "      border-bottom-color: var(--fill-color);\n",
              "    }\n",
              "    90% {\n",
              "      border-color: transparent;\n",
              "      border-bottom-color: var(--fill-color);\n",
              "    }\n",
              "  }\n",
              "</style>\n",
              "\n",
              "  <script>\n",
              "    async function quickchart(key) {\n",
              "      const quickchartButtonEl =\n",
              "        document.querySelector('#' + key + ' button');\n",
              "      quickchartButtonEl.disabled = true;  // To prevent multiple clicks.\n",
              "      quickchartButtonEl.classList.add('colab-df-spinner');\n",
              "      try {\n",
              "        const charts = await google.colab.kernel.invokeFunction(\n",
              "            'suggestCharts', [key], {});\n",
              "      } catch (error) {\n",
              "        console.error('Error during call to suggestCharts:', error);\n",
              "      }\n",
              "      quickchartButtonEl.classList.remove('colab-df-spinner');\n",
              "      quickchartButtonEl.classList.add('colab-df-quickchart-complete');\n",
              "    }\n",
              "    (() => {\n",
              "      let quickchartButtonEl =\n",
              "        document.querySelector('#df-a4e24195-4603-4ddb-aa79-ef472f898e88 button');\n",
              "      quickchartButtonEl.style.display =\n",
              "        google.colab.kernel.accessAllowed ? 'block' : 'none';\n",
              "    })();\n",
              "  </script>\n",
              "</div>\n",
              "\n",
              "  <div id=\"id_9f5ca88f-267e-4bd0-935f-de4cad1412ae\">\n",
              "    <style>\n",
              "      .colab-df-generate {\n",
              "        background-color: #E8F0FE;\n",
              "        border: none;\n",
              "        border-radius: 50%;\n",
              "        cursor: pointer;\n",
              "        display: none;\n",
              "        fill: #1967D2;\n",
              "        height: 32px;\n",
              "        padding: 0 0 0 0;\n",
              "        width: 32px;\n",
              "      }\n",
              "\n",
              "      .colab-df-generate:hover {\n",
              "        background-color: #E2EBFA;\n",
              "        box-shadow: 0px 1px 2px rgba(60, 64, 67, 0.3), 0px 1px 3px 1px rgba(60, 64, 67, 0.15);\n",
              "        fill: #174EA6;\n",
              "      }\n",
              "\n",
              "      [theme=dark] .colab-df-generate {\n",
              "        background-color: #3B4455;\n",
              "        fill: #D2E3FC;\n",
              "      }\n",
              "\n",
              "      [theme=dark] .colab-df-generate:hover {\n",
              "        background-color: #434B5C;\n",
              "        box-shadow: 0px 1px 3px 1px rgba(0, 0, 0, 0.15);\n",
              "        filter: drop-shadow(0px 1px 2px rgba(0, 0, 0, 0.3));\n",
              "        fill: #FFFFFF;\n",
              "      }\n",
              "    </style>\n",
              "    <button class=\"colab-df-generate\" onclick=\"generateWithVariable('mcq_eval_df')\"\n",
              "            title=\"Generate code using this dataframe.\"\n",
              "            style=\"display:none;\">\n",
              "\n",
              "  <svg xmlns=\"http://www.w3.org/2000/svg\" height=\"24px\"viewBox=\"0 0 24 24\"\n",
              "       width=\"24px\">\n",
              "    <path d=\"M7,19H8.4L18.45,9,17,7.55,7,17.6ZM5,21V16.75L18.45,3.32a2,2,0,0,1,2.83,0l1.4,1.43a1.91,1.91,0,0,1,.58,1.4,1.91,1.91,0,0,1-.58,1.4L9.25,21ZM18.45,9,17,7.55Zm-12,3A5.31,5.31,0,0,0,4.9,8.1,5.31,5.31,0,0,0,1,6.5,5.31,5.31,0,0,0,4.9,4.9,5.31,5.31,0,0,0,6.5,1,5.31,5.31,0,0,0,8.1,4.9,5.31,5.31,0,0,0,12,6.5,5.46,5.46,0,0,0,6.5,12Z\"/>\n",
              "  </svg>\n",
              "    </button>\n",
              "    <script>\n",
              "      (() => {\n",
              "      const buttonEl =\n",
              "        document.querySelector('#id_9f5ca88f-267e-4bd0-935f-de4cad1412ae button.colab-df-generate');\n",
              "      buttonEl.style.display =\n",
              "        google.colab.kernel.accessAllowed ? 'block' : 'none';\n",
              "\n",
              "      buttonEl.onclick = () => {\n",
              "        google.colab.notebook.generateWithVariable('mcq_eval_df');\n",
              "      }\n",
              "      })();\n",
              "    </script>\n",
              "  </div>\n",
              "\n",
              "    </div>\n",
              "  </div>\n"
            ],
            "application/vnd.google.colaboratory.intrinsic+json": {
              "type": "dataframe",
              "variable_name": "mcq_eval_df",
              "summary": "{\n  \"name\": \"mcq_eval_df\",\n  \"rows\": 100,\n  \"fields\": [\n    {\n      \"column\": \"Question\",\n      \"properties\": {\n        \"dtype\": \"string\",\n        \"num_unique_values\": 100,\n        \"samples\": [\n          \"What advice should be given to pregnant women regarding high caffeine intake?\",\n          \"What is true about the management of leg cramps during pregnancy, according to the WHO?\",\n          \"When should preventive anthelminthic treatment be given to pregnant women in endemic areas?\"\n        ],\n        \"semantic_type\": \"\",\n        \"description\": \"\"\n      }\n    },\n    {\n      \"column\": \"Choice\",\n      \"properties\": {\n        \"dtype\": \"category\",\n        \"num_unique_values\": 5,\n        \"samples\": [\n          \"D\",\n          \"E\",\n          \"B\"\n        ],\n        \"semantic_type\": \"\",\n        \"description\": \"\"\n      }\n    },\n    {\n      \"column\": \"Correct\",\n      \"properties\": {\n        \"dtype\": \"number\",\n        \"std\": 0.09999999999999996,\n        \"min\": 0.0,\n        \"max\": 1.0,\n        \"num_unique_values\": 2,\n        \"samples\": [\n          0.0,\n          1.0\n        ],\n        \"semantic_type\": \"\",\n        \"description\": \"\"\n      }\n    },\n    {\n      \"column\": \"Context\",\n      \"properties\": {\n        \"dtype\": \"string\",\n        \"num_unique_values\": 78,\n        \"samples\": [\n          \"Page 15, Recommendation A1.1\",\n          \"Page 14, Section A. Nutritional interventions\"\n        ],\n        \"semantic_type\": \"\",\n        \"description\": \"\"\n      }\n    },\n    {\n      \"column\": \"Intervention\",\n      \"properties\": {\n        \"dtype\": \"category\",\n        \"num_unique_values\": 5,\n        \"samples\": [\n          \"Maternal and fetal assessment\",\n          \"Health systems interventions\"\n        ],\n        \"semantic_type\": \"\",\n        \"description\": \"\"\n      }\n    }\n  ]\n}"
            }
          },
          "metadata": {},
          "execution_count": 20
        }
      ],
      "source": [
        "mcq_eval_df = pd.DataFrame(mcq_evaluated_questions)\n",
        "mcq_eval_df"
      ]
    },
    {
      "cell_type": "code",
      "execution_count": null,
      "metadata": {
        "id": "WGtXvhb4_25X"
      },
      "outputs": [],
      "source": [
        "# Save the evaluations to a CSV file\n",
        "mcq_eval_df.to_csv(\"mcq_eval.csv\", index=False)"
      ]
    },
    {
      "cell_type": "markdown",
      "metadata": {
        "id": "EFFnRF9jZBae"
      },
      "source": [
        "Evaluation results show that all of the MCQ questions were answered correctly by Gemini 1.5 pro model\n",
        "\n",
        "\n",
        "\n"
      ]
    },
    {
      "cell_type": "markdown",
      "metadata": {
        "id": "Sut5TX79mC3K"
      },
      "source": [
        "## Evaluate the Short Question Answers generated\n",
        "\n",
        "\n",
        "In this section we try to evaluate the questions generated from Gemini model and what context has been to used to frame the Short Question Answers."
      ]
    },
    {
      "cell_type": "markdown",
      "metadata": {
        "id": "Q-Z_xwNvmMLR"
      },
      "source": [
        "### Base Prompt"
      ]
    },
    {
      "cell_type": "code",
      "execution_count": null,
      "metadata": {
        "id": "si64FFAwGoXG",
        "colab": {
          "base_uri": "https://localhost:8080/"
        },
        "outputId": "10b81b20-8fe3-421c-e85a-ed0f1314f64f"
      },
      "outputs": [
        {
          "output_type": "stream",
          "name": "stdout",
          "text": [
            "Task: Evaluate the provided short answer responses using above extracted text corpus based on the following criteria:\n",
            "\n",
            "Accuracy: Ensure the response aligns with the information presented in the provided text corpus.\n",
            "Relevance: Verify that the response is directly related to the stated intervention topic.\n",
            "Clarity: Check if the response is clear, concise, and avoids ambiguity.\n",
            "Consistency: Ensure the response is consistent with other relevant information in the provided text corpus.\n",
            "\n",
            "Evaluation Format:\n",
            "\n",
            "Question: [Question text]\n",
            "Intervention Topic: [Intervention topic]\n",
            "Response: [Short answer response]\n",
            "Grade: [1-5] (1: Poor, 2: Needs Improvement, 3: Satisfactory, 4: Good, 5: Excellent)\n",
            "Context: [Page number or section reference where the response is supported or contradicted in the provided text corpus]\n",
            "\n",
            "Example:\n",
            "\n",
            "Question: According to the WHO recommendations, what is the recommended daily intake of calcium for pregnant women?\n",
            "Intervention Topic: Nutritional interventions\n",
            "Response: \"Pregnant women should consume 1000 mg of calcium per day.\"\n",
            "Grade: 4\n",
            "Context: Page 75, Section 3.2 of the WHO Guidelines for the Prevention and Management of Gestational Diabetes Mellitus\n",
            "\n",
            "Note: To ensure accurate and relevant evaluations, please provide the specific text corpus that the short answer responses are based on.\n",
            "This will allow for a more precise assessment of the accuracy, relevance, clarity, and consistency of the responses.\n",
            "\n"
          ]
        }
      ],
      "source": [
        "eval_sqa_base_prompt = textwrap.dedent(\"\"\"\\\n",
        "Task: Evaluate the provided short answer responses using above extracted text corpus based on the following criteria:\n",
        "\n",
        "Accuracy: Ensure the response aligns with the information presented in the provided text corpus.\n",
        "Relevance: Verify that the response is directly related to the stated intervention topic.\n",
        "Clarity: Check if the response is clear, concise, and avoids ambiguity.\n",
        "Consistency: Ensure the response is consistent with other relevant information in the provided text corpus.\n",
        "\n",
        "Evaluation Format:\n",
        "\n",
        "Question: [Question text]\n",
        "Intervention Topic: [Intervention topic]\n",
        "Response: [Short answer response]\n",
        "Grade: [1-5] (1: Poor, 2: Needs Improvement, 3: Satisfactory, 4: Good, 5: Excellent)\n",
        "Context: [Page number or section reference where the response is supported or contradicted in the provided text corpus]\n",
        "\n",
        "Example:\n",
        "\n",
        "Question: According to the WHO recommendations, what is the recommended daily intake of calcium for pregnant women?\n",
        "Intervention Topic: Nutritional interventions\n",
        "Response: \"Pregnant women should consume 1000 mg of calcium per day.\"\n",
        "Grade: 4\n",
        "Context: Page 75, Section 3.2 of the WHO Guidelines for the Prevention and Management of Gestational Diabetes Mellitus\n",
        "\n",
        "Note: To ensure accurate and relevant evaluations, please provide the specific text corpus that the short answer responses are based on.\n",
        "This will allow for a more precise assessment of the accuracy, relevance, clarity, and consistency of the responses.\n",
        "\"\"\"\n",
        ")\n",
        "print(eval_sqa_base_prompt)"
      ]
    },
    {
      "cell_type": "markdown",
      "metadata": {
        "id": "y3JQ2UB7mOyz"
      },
      "source": [
        "### Function Calling"
      ]
    },
    {
      "cell_type": "markdown",
      "metadata": {
        "id": "erYWCG5LDnvC"
      },
      "source": [
        "#### SQA Eval Schema"
      ]
    },
    {
      "cell_type": "code",
      "execution_count": null,
      "metadata": {
        "id": "tf8_n3r-Dx_Z"
      },
      "outputs": [],
      "source": [
        "sqa_eval_single_schema = genai.protos.Schema(\n",
        "    type = genai.protos.Type.OBJECT,\n",
        "    properties = {\n",
        "        'Intervention':  genai.protos.Schema(type=genai.protos.Type.STRING),\n",
        "        'Question':  genai.protos.Schema(type=genai.protos.Type.STRING),\n",
        "        'Answer': genai.protos.Schema(type=genai.protos.Type.STRING),\n",
        "        'Grade': genai.protos.Schema(type=genai.protos.Type.NUMBER),\n",
        "        'Context': genai.protos.Schema(type=genai.protos.Type.STRING),\n",
        "    },\n",
        "    required=['Intervention', 'Question', 'Answer', 'Grade', 'Context']\n",
        ")"
      ]
    },
    {
      "cell_type": "markdown",
      "metadata": {
        "id": "jOMYbT3bqood"
      },
      "source": [
        "#### Array Schema"
      ]
    },
    {
      "cell_type": "code",
      "execution_count": null,
      "metadata": {
        "id": "lye6gbxfEZyn"
      },
      "outputs": [],
      "source": [
        "sqa_eval_schema = genai.protos.Schema(\n",
        "    type=genai.protos.Type.ARRAY,\n",
        "    items=sqa_eval_single_schema\n",
        ")"
      ]
    },
    {
      "cell_type": "markdown",
      "metadata": {
        "id": "CJTT-RB6qkwK"
      },
      "source": [
        "#### Function Declaration"
      ]
    },
    {
      "cell_type": "code",
      "execution_count": null,
      "metadata": {
        "id": "EQfCp9BREeUm"
      },
      "outputs": [],
      "source": [
        "sqa_eval_database = genai.protos.FunctionDeclaration(\n",
        "    name=\"sqa_eval_database\",\n",
        "    description=textwrap.dedent(\"\"\"\\\n",
        "        Adds interventions, questions, answers, grading and its context to the database.\n",
        "        \"\"\"),\n",
        "    parameters=genai.protos.Schema(\n",
        "        type=genai.protos.Type.OBJECT,\n",
        "        properties = {\n",
        "            'sqa_eval': sqa_eval_schema,\n",
        "        }\n",
        "    )\n",
        ")"
      ]
    },
    {
      "cell_type": "code",
      "execution_count": null,
      "metadata": {
        "id": "mstwKChoErmC"
      },
      "outputs": [],
      "source": [
        "sqa_questions_df = pd.read_csv(\"sqa_questions.csv\")\n",
        "sqa_questions_dict_list = sqa_questions_df.to_dict(orient=\"records\")"
      ]
    },
    {
      "cell_type": "markdown",
      "metadata": {
        "id": "q1RdC1RQmTaV"
      },
      "source": [
        "### Define the model with function declaration"
      ]
    },
    {
      "cell_type": "code",
      "execution_count": null,
      "metadata": {
        "id": "xLojTbbvFzT0"
      },
      "outputs": [],
      "source": [
        "model = model_def(model_name, safety_settings, tools=[sqa_eval_database])\n",
        "chat = model.start_chat(history=[])"
      ]
    },
    {
      "cell_type": "markdown",
      "metadata": {
        "id": "E4zVadhCmdoZ"
      },
      "source": [
        "### Evaluate in chat session"
      ]
    },
    {
      "cell_type": "code",
      "execution_count": null,
      "metadata": {
        "id": "Yrx5K5gGElAs",
        "colab": {
          "base_uri": "https://localhost:8080/",
          "height": 746
        },
        "outputId": "965ab80e-2402-4df8-fbd8-89c1dab65e5c"
      },
      "outputs": [
        {
          "output_type": "stream",
          "name": "stderr",
          "text": [
            "WARNING:tornado.access:429 POST /v1beta/models/gemini-1.5-pro-latest:generateContent?%24alt=json%3Benum-encoding%3Dint (127.0.0.1) 1368.23ms\n",
            "WARNING:tornado.access:429 POST /v1beta/models/gemini-1.5-pro-latest:generateContent?%24alt=json%3Benum-encoding%3Dint (127.0.0.1) 660.16ms\n",
            "WARNING:tornado.access:429 POST /v1beta/models/gemini-1.5-pro-latest:generateContent?%24alt=json%3Benum-encoding%3Dint (127.0.0.1) 659.12ms\n",
            "WARNING:tornado.access:429 POST /v1beta/models/gemini-1.5-pro-latest:generateContent?%24alt=json%3Benum-encoding%3Dint (127.0.0.1) 760.54ms\n",
            "WARNING:tornado.access:429 POST /v1beta/models/gemini-1.5-pro-latest:generateContent?%24alt=json%3Benum-encoding%3Dint (127.0.0.1) 659.34ms\n",
            "WARNING:tornado.access:429 POST /v1beta/models/gemini-1.5-pro-latest:generateContent?%24alt=json%3Benum-encoding%3Dint (127.0.0.1) 685.33ms\n",
            "WARNING:tornado.access:429 POST /v1beta/models/gemini-1.5-pro-latest:generateContent?%24alt=json%3Benum-encoding%3Dint (127.0.0.1) 836.20ms\n",
            "WARNING:tornado.access:429 POST /v1beta/models/gemini-1.5-pro-latest:generateContent?%24alt=json%3Benum-encoding%3Dint (127.0.0.1) 811.62ms\n",
            "WARNING:tornado.access:429 POST /v1beta/models/gemini-1.5-pro-latest:generateContent?%24alt=json%3Benum-encoding%3Dint (127.0.0.1) 660.24ms\n",
            "WARNING:tornado.access:429 POST /v1beta/models/gemini-1.5-pro-latest:generateContent?%24alt=json%3Benum-encoding%3Dint (127.0.0.1) 1063.93ms\n",
            "WARNING:tornado.access:429 POST /v1beta/models/gemini-1.5-pro-latest:generateContent?%24alt=json%3Benum-encoding%3Dint (127.0.0.1) 861.70ms\n"
          ]
        },
        {
          "output_type": "stream",
          "name": "stdout",
          "text": [
            "Evaluated 20 questions in prompt 1\n"
          ]
        },
        {
          "output_type": "stream",
          "name": "stderr",
          "text": [
            "WARNING:tornado.access:429 POST /v1beta/models/gemini-1.5-pro-latest:generateContent?%24alt=json%3Benum-encoding%3Dint (127.0.0.1) 937.64ms\n",
            "WARNING:tornado.access:429 POST /v1beta/models/gemini-1.5-pro-latest:generateContent?%24alt=json%3Benum-encoding%3Dint (127.0.0.1) 709.55ms\n",
            "WARNING:tornado.access:429 POST /v1beta/models/gemini-1.5-pro-latest:generateContent?%24alt=json%3Benum-encoding%3Dint (127.0.0.1) 1013.12ms\n",
            "WARNING:tornado.access:429 POST /v1beta/models/gemini-1.5-pro-latest:generateContent?%24alt=json%3Benum-encoding%3Dint (127.0.0.1) 785.50ms\n",
            "WARNING:tornado.access:429 POST /v1beta/models/gemini-1.5-pro-latest:generateContent?%24alt=json%3Benum-encoding%3Dint (127.0.0.1) 709.67ms\n",
            "WARNING:tornado.access:429 POST /v1beta/models/gemini-1.5-pro-latest:generateContent?%24alt=json%3Benum-encoding%3Dint (127.0.0.1) 710.66ms\n",
            "WARNING:tornado.access:429 POST /v1beta/models/gemini-1.5-pro-latest:generateContent?%24alt=json%3Benum-encoding%3Dint (127.0.0.1) 710.48ms\n",
            "WARNING:tornado.access:429 POST /v1beta/models/gemini-1.5-pro-latest:generateContent?%24alt=json%3Benum-encoding%3Dint (127.0.0.1) 764.19ms\n",
            "WARNING:tornado.access:429 POST /v1beta/models/gemini-1.5-pro-latest:generateContent?%24alt=json%3Benum-encoding%3Dint (127.0.0.1) 685.45ms\n",
            "WARNING:tornado.access:429 POST /v1beta/models/gemini-1.5-pro-latest:generateContent?%24alt=json%3Benum-encoding%3Dint (127.0.0.1) 684.29ms\n"
          ]
        },
        {
          "output_type": "stream",
          "name": "stdout",
          "text": [
            "Evaluated 20 questions in prompt 2\n"
          ]
        },
        {
          "output_type": "stream",
          "name": "stderr",
          "text": [
            "WARNING:tornado.access:429 POST /v1beta/models/gemini-1.5-pro-latest:generateContent?%24alt=json%3Benum-encoding%3Dint (127.0.0.1) 1442.95ms\n",
            "WARNING:tornado.access:429 POST /v1beta/models/gemini-1.5-pro-latest:generateContent?%24alt=json%3Benum-encoding%3Dint (127.0.0.1) 963.05ms\n",
            "WARNING:tornado.access:429 POST /v1beta/models/gemini-1.5-pro-latest:generateContent?%24alt=json%3Benum-encoding%3Dint (127.0.0.1) 736.60ms\n"
          ]
        },
        {
          "output_type": "stream",
          "name": "stdout",
          "text": [
            "Evaluated 20 questions in prompt 3\n"
          ]
        },
        {
          "output_type": "stream",
          "name": "stderr",
          "text": [
            "WARNING:tornado.access:429 POST /v1beta/models/gemini-1.5-pro-latest:generateContent?%24alt=json%3Benum-encoding%3Dint (127.0.0.1) 963.06ms\n",
            "WARNING:tornado.access:429 POST /v1beta/models/gemini-1.5-pro-latest:generateContent?%24alt=json%3Benum-encoding%3Dint (127.0.0.1) 761.33ms\n",
            "WARNING:tornado.access:429 POST /v1beta/models/gemini-1.5-pro-latest:generateContent?%24alt=json%3Benum-encoding%3Dint (127.0.0.1) 914.12ms\n",
            "WARNING:tornado.access:429 POST /v1beta/models/gemini-1.5-pro-latest:generateContent?%24alt=json%3Benum-encoding%3Dint (127.0.0.1) 887.64ms\n"
          ]
        },
        {
          "output_type": "stream",
          "name": "stdout",
          "text": [
            "Evaluated 20 questions in prompt 4\n"
          ]
        },
        {
          "output_type": "stream",
          "name": "stderr",
          "text": [
            "WARNING:tornado.access:429 POST /v1beta/models/gemini-1.5-pro-latest:generateContent?%24alt=json%3Benum-encoding%3Dint (127.0.0.1) 1167.60ms\n",
            "WARNING:tornado.access:429 POST /v1beta/models/gemini-1.5-pro-latest:generateContent?%24alt=json%3Benum-encoding%3Dint (127.0.0.1) 967.58ms\n",
            "WARNING:tornado.access:429 POST /v1beta/models/gemini-1.5-pro-latest:generateContent?%24alt=json%3Benum-encoding%3Dint (127.0.0.1) 1191.32ms\n",
            "WARNING:tornado.access:429 POST /v1beta/models/gemini-1.5-pro-latest:generateContent?%24alt=json%3Benum-encoding%3Dint (127.0.0.1) 1195.27ms\n",
            "WARNING:tornado.access:429 POST /v1beta/models/gemini-1.5-pro-latest:generateContent?%24alt=json%3Benum-encoding%3Dint (127.0.0.1) 1014.38ms\n",
            "WARNING:tornado.access:429 POST /v1beta/models/gemini-1.5-pro-latest:generateContent?%24alt=json%3Benum-encoding%3Dint (127.0.0.1) 989.31ms\n",
            "WARNING:tornado.access:429 POST /v1beta/models/gemini-1.5-pro-latest:generateContent?%24alt=json%3Benum-encoding%3Dint (127.0.0.1) 989.43ms\n",
            "WARNING:tornado.access:429 POST /v1beta/models/gemini-1.5-pro-latest:generateContent?%24alt=json%3Benum-encoding%3Dint (127.0.0.1) 938.60ms\n",
            "WARNING:tornado.access:429 POST /v1beta/models/gemini-1.5-pro-latest:generateContent?%24alt=json%3Benum-encoding%3Dint (127.0.0.1) 964.09ms\n"
          ]
        },
        {
          "output_type": "stream",
          "name": "stdout",
          "text": [
            "Evaluated 20 questions in prompt 5\n"
          ]
        }
      ],
      "source": [
        "num_sqa_eval_per_prompt  = 20\n",
        "sqa_evaluated_questions = eval_questions(\n",
        "    chat_model=chat,\n",
        "    file_ref=file_ref,\n",
        "    base_prompt=eval_sqa_base_prompt,\n",
        "    questions_dict_list=sqa_questions_dict_list,\n",
        "    question_type=\"sqa_eval\",\n",
        "    eval_type_function_name=\"sqa_eval\",\n",
        "    eval_per_prompt=num_sqa_eval_per_prompt,\n",
        "    generation_config=generation_config,\n",
        "    tool_config={\"function_calling_config\": {\"mode\": \"ANY\"}},\n",
        "    model_name = 'gemini'\n",
        ")"
      ]
    },
    {
      "cell_type": "code",
      "execution_count": null,
      "metadata": {
        "id": "MSlJ3rfoP58I",
        "colab": {
          "base_uri": "https://localhost:8080/",
          "height": 424
        },
        "outputId": "1a724a50-c6a2-43c9-86fe-287b201e928c"
      },
      "outputs": [
        {
          "output_type": "execute_result",
          "data": {
            "text/plain": [
              "                                             Question  \\\n",
              "0   What constitutes a healthy diet during pregnancy?   \n",
              "1   What is the goal of nutritional counseling dur...   \n",
              "2   Why is addressing undernutrition during pregna...   \n",
              "3   When is balanced energy and protein supplement...   \n",
              "4   What are the recommended methods for diagnosin...   \n",
              "..                                                ...   \n",
              "95  What non-pharmacological approaches can help m...   \n",
              "96  Why are woman-held case notes encouraged durin...   \n",
              "97  Where are midwife-led continuity of care model...   \n",
              "98  What incentives can be used to address healthc...   \n",
              "99  How can ANC participation and perinatal outcom...   \n",
              "\n",
              "                                               Answer  Grade   Context  \\\n",
              "0   Pregnant women should consume a variety of foo...    5.0   Page 15   \n",
              "1   Nutritional counseling during pregnancy aims t...    5.0   Page 15   \n",
              "2   Undernutrition during pregnancy can lead to ad...    5.0   Page 18   \n",
              "3   Balanced energy and protein supplementation is...    5.0   Page 20   \n",
              "4   Full blood count testing is the recommended me...    5.0   Page 41   \n",
              "..                                                ...    ...       ...   \n",
              "95  Non-pharmacological interventions like compres...    5.0   Page 83   \n",
              "96  Woman-held case notes are recommended for preg...    5.0   Page 87   \n",
              "97  Midwife-led continuity of care models are reco...    5.0   Page 89   \n",
              "98  Policymakers should consider offering various ...    5.0  Page 100   \n",
              "99  To improve ANC utilization and perinatal outco...    5.0   Page 95   \n",
              "\n",
              "                                         Intervention  \n",
              "0                           Nutritional interventions  \n",
              "1                           Nutritional interventions  \n",
              "2                           Nutritional interventions  \n",
              "3                           Nutritional interventions  \n",
              "4                       Maternal and fetal assessment  \n",
              "..                                                ...  \n",
              "95   Interventions from common physiological symptoms  \n",
              "96  Health systems interventions to improve the ut...  \n",
              "97  Health systems interventions to improve the ut...  \n",
              "98  Health systems interventions to improve the ut...  \n",
              "99  Health systems interventions to improve the ut...  \n",
              "\n",
              "[100 rows x 5 columns]"
            ],
            "text/html": [
              "\n",
              "  <div id=\"df-bc11085b-f26e-4ed5-b5c5-600a3dc3e6ed\" class=\"colab-df-container\">\n",
              "    <div>\n",
              "<style scoped>\n",
              "    .dataframe tbody tr th:only-of-type {\n",
              "        vertical-align: middle;\n",
              "    }\n",
              "\n",
              "    .dataframe tbody tr th {\n",
              "        vertical-align: top;\n",
              "    }\n",
              "\n",
              "    .dataframe thead th {\n",
              "        text-align: right;\n",
              "    }\n",
              "</style>\n",
              "<table border=\"1\" class=\"dataframe\">\n",
              "  <thead>\n",
              "    <tr style=\"text-align: right;\">\n",
              "      <th></th>\n",
              "      <th>Question</th>\n",
              "      <th>Answer</th>\n",
              "      <th>Grade</th>\n",
              "      <th>Context</th>\n",
              "      <th>Intervention</th>\n",
              "    </tr>\n",
              "  </thead>\n",
              "  <tbody>\n",
              "    <tr>\n",
              "      <th>0</th>\n",
              "      <td>What constitutes a healthy diet during pregnancy?</td>\n",
              "      <td>Pregnant women should consume a variety of foo...</td>\n",
              "      <td>5.0</td>\n",
              "      <td>Page 15</td>\n",
              "      <td>Nutritional interventions</td>\n",
              "    </tr>\n",
              "    <tr>\n",
              "      <th>1</th>\n",
              "      <td>What is the goal of nutritional counseling dur...</td>\n",
              "      <td>Nutritional counseling during pregnancy aims t...</td>\n",
              "      <td>5.0</td>\n",
              "      <td>Page 15</td>\n",
              "      <td>Nutritional interventions</td>\n",
              "    </tr>\n",
              "    <tr>\n",
              "      <th>2</th>\n",
              "      <td>Why is addressing undernutrition during pregna...</td>\n",
              "      <td>Undernutrition during pregnancy can lead to ad...</td>\n",
              "      <td>5.0</td>\n",
              "      <td>Page 18</td>\n",
              "      <td>Nutritional interventions</td>\n",
              "    </tr>\n",
              "    <tr>\n",
              "      <th>3</th>\n",
              "      <td>When is balanced energy and protein supplement...</td>\n",
              "      <td>Balanced energy and protein supplementation is...</td>\n",
              "      <td>5.0</td>\n",
              "      <td>Page 20</td>\n",
              "      <td>Nutritional interventions</td>\n",
              "    </tr>\n",
              "    <tr>\n",
              "      <th>4</th>\n",
              "      <td>What are the recommended methods for diagnosin...</td>\n",
              "      <td>Full blood count testing is the recommended me...</td>\n",
              "      <td>5.0</td>\n",
              "      <td>Page 41</td>\n",
              "      <td>Maternal and fetal assessment</td>\n",
              "    </tr>\n",
              "    <tr>\n",
              "      <th>...</th>\n",
              "      <td>...</td>\n",
              "      <td>...</td>\n",
              "      <td>...</td>\n",
              "      <td>...</td>\n",
              "      <td>...</td>\n",
              "    </tr>\n",
              "    <tr>\n",
              "      <th>95</th>\n",
              "      <td>What non-pharmacological approaches can help m...</td>\n",
              "      <td>Non-pharmacological interventions like compres...</td>\n",
              "      <td>5.0</td>\n",
              "      <td>Page 83</td>\n",
              "      <td>Interventions from common physiological symptoms</td>\n",
              "    </tr>\n",
              "    <tr>\n",
              "      <th>96</th>\n",
              "      <td>Why are woman-held case notes encouraged durin...</td>\n",
              "      <td>Woman-held case notes are recommended for preg...</td>\n",
              "      <td>5.0</td>\n",
              "      <td>Page 87</td>\n",
              "      <td>Health systems interventions to improve the ut...</td>\n",
              "    </tr>\n",
              "    <tr>\n",
              "      <th>97</th>\n",
              "      <td>Where are midwife-led continuity of care model...</td>\n",
              "      <td>Midwife-led continuity of care models are reco...</td>\n",
              "      <td>5.0</td>\n",
              "      <td>Page 89</td>\n",
              "      <td>Health systems interventions to improve the ut...</td>\n",
              "    </tr>\n",
              "    <tr>\n",
              "      <th>98</th>\n",
              "      <td>What incentives can be used to address healthc...</td>\n",
              "      <td>Policymakers should consider offering various ...</td>\n",
              "      <td>5.0</td>\n",
              "      <td>Page 100</td>\n",
              "      <td>Health systems interventions to improve the ut...</td>\n",
              "    </tr>\n",
              "    <tr>\n",
              "      <th>99</th>\n",
              "      <td>How can ANC participation and perinatal outcom...</td>\n",
              "      <td>To improve ANC utilization and perinatal outco...</td>\n",
              "      <td>5.0</td>\n",
              "      <td>Page 95</td>\n",
              "      <td>Health systems interventions to improve the ut...</td>\n",
              "    </tr>\n",
              "  </tbody>\n",
              "</table>\n",
              "<p>100 rows × 5 columns</p>\n",
              "</div>\n",
              "    <div class=\"colab-df-buttons\">\n",
              "\n",
              "  <div class=\"colab-df-container\">\n",
              "    <button class=\"colab-df-convert\" onclick=\"convertToInteractive('df-bc11085b-f26e-4ed5-b5c5-600a3dc3e6ed')\"\n",
              "            title=\"Convert this dataframe to an interactive table.\"\n",
              "            style=\"display:none;\">\n",
              "\n",
              "  <svg xmlns=\"http://www.w3.org/2000/svg\" height=\"24px\" viewBox=\"0 -960 960 960\">\n",
              "    <path d=\"M120-120v-720h720v720H120Zm60-500h600v-160H180v160Zm220 220h160v-160H400v160Zm0 220h160v-160H400v160ZM180-400h160v-160H180v160Zm440 0h160v-160H620v160ZM180-180h160v-160H180v160Zm440 0h160v-160H620v160Z\"/>\n",
              "  </svg>\n",
              "    </button>\n",
              "\n",
              "  <style>\n",
              "    .colab-df-container {\n",
              "      display:flex;\n",
              "      gap: 12px;\n",
              "    }\n",
              "\n",
              "    .colab-df-convert {\n",
              "      background-color: #E8F0FE;\n",
              "      border: none;\n",
              "      border-radius: 50%;\n",
              "      cursor: pointer;\n",
              "      display: none;\n",
              "      fill: #1967D2;\n",
              "      height: 32px;\n",
              "      padding: 0 0 0 0;\n",
              "      width: 32px;\n",
              "    }\n",
              "\n",
              "    .colab-df-convert:hover {\n",
              "      background-color: #E2EBFA;\n",
              "      box-shadow: 0px 1px 2px rgba(60, 64, 67, 0.3), 0px 1px 3px 1px rgba(60, 64, 67, 0.15);\n",
              "      fill: #174EA6;\n",
              "    }\n",
              "\n",
              "    .colab-df-buttons div {\n",
              "      margin-bottom: 4px;\n",
              "    }\n",
              "\n",
              "    [theme=dark] .colab-df-convert {\n",
              "      background-color: #3B4455;\n",
              "      fill: #D2E3FC;\n",
              "    }\n",
              "\n",
              "    [theme=dark] .colab-df-convert:hover {\n",
              "      background-color: #434B5C;\n",
              "      box-shadow: 0px 1px 3px 1px rgba(0, 0, 0, 0.15);\n",
              "      filter: drop-shadow(0px 1px 2px rgba(0, 0, 0, 0.3));\n",
              "      fill: #FFFFFF;\n",
              "    }\n",
              "  </style>\n",
              "\n",
              "    <script>\n",
              "      const buttonEl =\n",
              "        document.querySelector('#df-bc11085b-f26e-4ed5-b5c5-600a3dc3e6ed button.colab-df-convert');\n",
              "      buttonEl.style.display =\n",
              "        google.colab.kernel.accessAllowed ? 'block' : 'none';\n",
              "\n",
              "      async function convertToInteractive(key) {\n",
              "        const element = document.querySelector('#df-bc11085b-f26e-4ed5-b5c5-600a3dc3e6ed');\n",
              "        const dataTable =\n",
              "          await google.colab.kernel.invokeFunction('convertToInteractive',\n",
              "                                                    [key], {});\n",
              "        if (!dataTable) return;\n",
              "\n",
              "        const docLinkHtml = 'Like what you see? Visit the ' +\n",
              "          '<a target=\"_blank\" href=https://colab.research.google.com/notebooks/data_table.ipynb>data table notebook</a>'\n",
              "          + ' to learn more about interactive tables.';\n",
              "        element.innerHTML = '';\n",
              "        dataTable['output_type'] = 'display_data';\n",
              "        await google.colab.output.renderOutput(dataTable, element);\n",
              "        const docLink = document.createElement('div');\n",
              "        docLink.innerHTML = docLinkHtml;\n",
              "        element.appendChild(docLink);\n",
              "      }\n",
              "    </script>\n",
              "  </div>\n",
              "\n",
              "\n",
              "<div id=\"df-aa391139-ad70-4aa5-bd0c-3541a2342140\">\n",
              "  <button class=\"colab-df-quickchart\" onclick=\"quickchart('df-aa391139-ad70-4aa5-bd0c-3541a2342140')\"\n",
              "            title=\"Suggest charts\"\n",
              "            style=\"display:none;\">\n",
              "\n",
              "<svg xmlns=\"http://www.w3.org/2000/svg\" height=\"24px\"viewBox=\"0 0 24 24\"\n",
              "     width=\"24px\">\n",
              "    <g>\n",
              "        <path d=\"M19 3H5c-1.1 0-2 .9-2 2v14c0 1.1.9 2 2 2h14c1.1 0 2-.9 2-2V5c0-1.1-.9-2-2-2zM9 17H7v-7h2v7zm4 0h-2V7h2v10zm4 0h-2v-4h2v4z\"/>\n",
              "    </g>\n",
              "</svg>\n",
              "  </button>\n",
              "\n",
              "<style>\n",
              "  .colab-df-quickchart {\n",
              "      --bg-color: #E8F0FE;\n",
              "      --fill-color: #1967D2;\n",
              "      --hover-bg-color: #E2EBFA;\n",
              "      --hover-fill-color: #174EA6;\n",
              "      --disabled-fill-color: #AAA;\n",
              "      --disabled-bg-color: #DDD;\n",
              "  }\n",
              "\n",
              "  [theme=dark] .colab-df-quickchart {\n",
              "      --bg-color: #3B4455;\n",
              "      --fill-color: #D2E3FC;\n",
              "      --hover-bg-color: #434B5C;\n",
              "      --hover-fill-color: #FFFFFF;\n",
              "      --disabled-bg-color: #3B4455;\n",
              "      --disabled-fill-color: #666;\n",
              "  }\n",
              "\n",
              "  .colab-df-quickchart {\n",
              "    background-color: var(--bg-color);\n",
              "    border: none;\n",
              "    border-radius: 50%;\n",
              "    cursor: pointer;\n",
              "    display: none;\n",
              "    fill: var(--fill-color);\n",
              "    height: 32px;\n",
              "    padding: 0;\n",
              "    width: 32px;\n",
              "  }\n",
              "\n",
              "  .colab-df-quickchart:hover {\n",
              "    background-color: var(--hover-bg-color);\n",
              "    box-shadow: 0 1px 2px rgba(60, 64, 67, 0.3), 0 1px 3px 1px rgba(60, 64, 67, 0.15);\n",
              "    fill: var(--button-hover-fill-color);\n",
              "  }\n",
              "\n",
              "  .colab-df-quickchart-complete:disabled,\n",
              "  .colab-df-quickchart-complete:disabled:hover {\n",
              "    background-color: var(--disabled-bg-color);\n",
              "    fill: var(--disabled-fill-color);\n",
              "    box-shadow: none;\n",
              "  }\n",
              "\n",
              "  .colab-df-spinner {\n",
              "    border: 2px solid var(--fill-color);\n",
              "    border-color: transparent;\n",
              "    border-bottom-color: var(--fill-color);\n",
              "    animation:\n",
              "      spin 1s steps(1) infinite;\n",
              "  }\n",
              "\n",
              "  @keyframes spin {\n",
              "    0% {\n",
              "      border-color: transparent;\n",
              "      border-bottom-color: var(--fill-color);\n",
              "      border-left-color: var(--fill-color);\n",
              "    }\n",
              "    20% {\n",
              "      border-color: transparent;\n",
              "      border-left-color: var(--fill-color);\n",
              "      border-top-color: var(--fill-color);\n",
              "    }\n",
              "    30% {\n",
              "      border-color: transparent;\n",
              "      border-left-color: var(--fill-color);\n",
              "      border-top-color: var(--fill-color);\n",
              "      border-right-color: var(--fill-color);\n",
              "    }\n",
              "    40% {\n",
              "      border-color: transparent;\n",
              "      border-right-color: var(--fill-color);\n",
              "      border-top-color: var(--fill-color);\n",
              "    }\n",
              "    60% {\n",
              "      border-color: transparent;\n",
              "      border-right-color: var(--fill-color);\n",
              "    }\n",
              "    80% {\n",
              "      border-color: transparent;\n",
              "      border-right-color: var(--fill-color);\n",
              "      border-bottom-color: var(--fill-color);\n",
              "    }\n",
              "    90% {\n",
              "      border-color: transparent;\n",
              "      border-bottom-color: var(--fill-color);\n",
              "    }\n",
              "  }\n",
              "</style>\n",
              "\n",
              "  <script>\n",
              "    async function quickchart(key) {\n",
              "      const quickchartButtonEl =\n",
              "        document.querySelector('#' + key + ' button');\n",
              "      quickchartButtonEl.disabled = true;  // To prevent multiple clicks.\n",
              "      quickchartButtonEl.classList.add('colab-df-spinner');\n",
              "      try {\n",
              "        const charts = await google.colab.kernel.invokeFunction(\n",
              "            'suggestCharts', [key], {});\n",
              "      } catch (error) {\n",
              "        console.error('Error during call to suggestCharts:', error);\n",
              "      }\n",
              "      quickchartButtonEl.classList.remove('colab-df-spinner');\n",
              "      quickchartButtonEl.classList.add('colab-df-quickchart-complete');\n",
              "    }\n",
              "    (() => {\n",
              "      let quickchartButtonEl =\n",
              "        document.querySelector('#df-aa391139-ad70-4aa5-bd0c-3541a2342140 button');\n",
              "      quickchartButtonEl.style.display =\n",
              "        google.colab.kernel.accessAllowed ? 'block' : 'none';\n",
              "    })();\n",
              "  </script>\n",
              "</div>\n",
              "\n",
              "  <div id=\"id_9ac90236-e301-4dd9-af88-a6b7c7e5a65e\">\n",
              "    <style>\n",
              "      .colab-df-generate {\n",
              "        background-color: #E8F0FE;\n",
              "        border: none;\n",
              "        border-radius: 50%;\n",
              "        cursor: pointer;\n",
              "        display: none;\n",
              "        fill: #1967D2;\n",
              "        height: 32px;\n",
              "        padding: 0 0 0 0;\n",
              "        width: 32px;\n",
              "      }\n",
              "\n",
              "      .colab-df-generate:hover {\n",
              "        background-color: #E2EBFA;\n",
              "        box-shadow: 0px 1px 2px rgba(60, 64, 67, 0.3), 0px 1px 3px 1px rgba(60, 64, 67, 0.15);\n",
              "        fill: #174EA6;\n",
              "      }\n",
              "\n",
              "      [theme=dark] .colab-df-generate {\n",
              "        background-color: #3B4455;\n",
              "        fill: #D2E3FC;\n",
              "      }\n",
              "\n",
              "      [theme=dark] .colab-df-generate:hover {\n",
              "        background-color: #434B5C;\n",
              "        box-shadow: 0px 1px 3px 1px rgba(0, 0, 0, 0.15);\n",
              "        filter: drop-shadow(0px 1px 2px rgba(0, 0, 0, 0.3));\n",
              "        fill: #FFFFFF;\n",
              "      }\n",
              "    </style>\n",
              "    <button class=\"colab-df-generate\" onclick=\"generateWithVariable('sqa_eval_df')\"\n",
              "            title=\"Generate code using this dataframe.\"\n",
              "            style=\"display:none;\">\n",
              "\n",
              "  <svg xmlns=\"http://www.w3.org/2000/svg\" height=\"24px\"viewBox=\"0 0 24 24\"\n",
              "       width=\"24px\">\n",
              "    <path d=\"M7,19H8.4L18.45,9,17,7.55,7,17.6ZM5,21V16.75L18.45,3.32a2,2,0,0,1,2.83,0l1.4,1.43a1.91,1.91,0,0,1,.58,1.4,1.91,1.91,0,0,1-.58,1.4L9.25,21ZM18.45,9,17,7.55Zm-12,3A5.31,5.31,0,0,0,4.9,8.1,5.31,5.31,0,0,0,1,6.5,5.31,5.31,0,0,0,4.9,4.9,5.31,5.31,0,0,0,6.5,1,5.31,5.31,0,0,0,8.1,4.9,5.31,5.31,0,0,0,12,6.5,5.46,5.46,0,0,0,6.5,12Z\"/>\n",
              "  </svg>\n",
              "    </button>\n",
              "    <script>\n",
              "      (() => {\n",
              "      const buttonEl =\n",
              "        document.querySelector('#id_9ac90236-e301-4dd9-af88-a6b7c7e5a65e button.colab-df-generate');\n",
              "      buttonEl.style.display =\n",
              "        google.colab.kernel.accessAllowed ? 'block' : 'none';\n",
              "\n",
              "      buttonEl.onclick = () => {\n",
              "        google.colab.notebook.generateWithVariable('sqa_eval_df');\n",
              "      }\n",
              "      })();\n",
              "    </script>\n",
              "  </div>\n",
              "\n",
              "    </div>\n",
              "  </div>\n"
            ],
            "application/vnd.google.colaboratory.intrinsic+json": {
              "type": "dataframe",
              "variable_name": "sqa_eval_df",
              "summary": "{\n  \"name\": \"sqa_eval_df\",\n  \"rows\": 100,\n  \"fields\": [\n    {\n      \"column\": \"Question\",\n      \"properties\": {\n        \"dtype\": \"string\",\n        \"num_unique_values\": 99,\n        \"samples\": [\n          \"Should pregnant women take Vitamin D supplements?\",\n          \"Is high-protein supplementation advisable for undernourished pregnant women?\",\n          \"Why are woman-held case notes encouraged during pregnancy?\"\n        ],\n        \"semantic_type\": \"\",\n        \"description\": \"\"\n      }\n    },\n    {\n      \"column\": \"Answer\",\n      \"properties\": {\n        \"dtype\": \"string\",\n        \"num_unique_values\": 100,\n        \"samples\": [\n          \"Multiple micronutrient supplementation is not generally advised for pregnant women to improve maternal and newborn health outcomes, unless specific deficiencies are identified.\",\n          \"For leg cramps during pregnancy, magnesium, calcium, or non-pharmacological treatments can be considered, based on a woman's preferences and what's available.\",\n          \"Oral pre-exposure prophylaxis (PrEP) using tenofovir disoproxil fumarate (TDF) should be presented as a supplementary preventive option for pregnant women at substantial risk of contracting HIV, as a component of a comprehensive prevention approach.\"\n        ],\n        \"semantic_type\": \"\",\n        \"description\": \"\"\n      }\n    },\n    {\n      \"column\": \"Grade\",\n      \"properties\": {\n        \"dtype\": \"number\",\n        \"std\": 0.09999999999999998,\n        \"min\": 4.0,\n        \"max\": 5.0,\n        \"num_unique_values\": 2,\n        \"samples\": [\n          4.0,\n          5.0\n        ],\n        \"semantic_type\": \"\",\n        \"description\": \"\"\n      }\n    },\n    {\n      \"column\": \"Context\",\n      \"properties\": {\n        \"dtype\": \"category\",\n        \"num_unique_values\": 47,\n        \"samples\": [\n          \"Page 73\",\n          \"Page 57\"\n        ],\n        \"semantic_type\": \"\",\n        \"description\": \"\"\n      }\n    },\n    {\n      \"column\": \"Intervention\",\n      \"properties\": {\n        \"dtype\": \"category\",\n        \"num_unique_values\": 6,\n        \"samples\": [\n          \"Nutritional interventions\",\n          \"Maternal and fetal assessment\"\n        ],\n        \"semantic_type\": \"\",\n        \"description\": \"\"\n      }\n    }\n  ]\n}"
            }
          },
          "metadata": {},
          "execution_count": 29
        }
      ],
      "source": [
        "sqa_eval_df = pd.DataFrame(sqa_evaluated_questions)\n",
        "sqa_eval_df"
      ]
    },
    {
      "cell_type": "code",
      "execution_count": null,
      "metadata": {
        "id": "xTpthhpVvTh3"
      },
      "outputs": [],
      "source": [
        "sqa_eval_df.to_csv(\"sqa_eval.csv\", index=False)"
      ]
    }
  ]
}